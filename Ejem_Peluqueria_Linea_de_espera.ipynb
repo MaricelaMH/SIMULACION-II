{
  "nbformat": 4,
  "nbformat_minor": 0,
  "metadata": {
    "colab": {
      "provenance": [],
      "authorship_tag": "ABX9TyPrbQ770l9Psj47CYvRAA/4",
      "include_colab_link": true
    },
    "kernelspec": {
      "name": "python3",
      "display_name": "Python 3"
    },
    "language_info": {
      "name": "python"
    }
  },
  "cells": [
    {
      "cell_type": "markdown",
      "metadata": {
        "id": "view-in-github",
        "colab_type": "text"
      },
      "source": [
        "<a href=\"https://colab.research.google.com/github/MaricelaMH/SIMULACION-II/blob/main/Ejem_Peluqueria_Linea_de_espera.ipynb\" target=\"_parent\"><img src=\"https://colab.research.google.com/assets/colab-badge.svg\" alt=\"Open In Colab\"/></a>"
      ]
    },
    {
      "cell_type": "code",
      "source": [
        "!pip install simpy"
      ],
      "metadata": {
        "id": "0EMizQS7x6sO"
      },
      "execution_count": null,
      "outputs": []
    },
    {
      "cell_type": "code",
      "source": [
        "import matplotlib.pyplot as plt\n",
        "import numpy as np\n",
        "from random import random, seed\n",
        "import pandas as pd\n",
        "import simpy"
      ],
      "metadata": {
        "id": "GlOLsG_gx-am"
      },
      "execution_count": null,
      "outputs": []
    },
    {
      "cell_type": "code",
      "execution_count": null,
      "metadata": {
        "id": "H34m-uOYxYcy"
      },
      "outputs": [],
      "source": [
        "def peluqueria(env, pelucas, nc, texto=True):\n",
        "    global  ll, cifras, dur_corte, t_esp, fin_sim, LTLL, LC, LS\n",
        "\n",
        "    for i in range(nc):\n",
        "        #Llegada del cliente\n",
        "        r = random()\n",
        "        tll = -np.log(r)/ll\n",
        "        yield env.timeout(tll)\n",
        "        LTLL.append(env.now)\n",
        "        if texto:\n",
        "          print(f'----Ha llegado el cliente número {i} en el minuto {round(env.now, cifras)}----')\n",
        "\n",
        "        env.process(corte(env, pelucas, i, texto))"
      ]
    },
    {
      "cell_type": "code",
      "source": [
        "def corte(env, pelucas, num, texto=True):\n",
        "    global tc_min, tc_max, cifras, dur_corte, LC, LS\n",
        "    a, b = tc_min, tc_max\n",
        "    #Solicitud del corte\n",
        "    with pelucas.request() as sol:\n",
        "        yield sol\n",
        "\n",
        "        #Inicia el corte\n",
        "\n",
        "        #Se genera el tiempo de corte\n",
        "        r = random()\n",
        "        tc = a + (b-a)*r\n",
        "        dur_corte += tc\n",
        "        LC.append(tc)\n",
        "        if texto:\n",
        "          print(f'****Inicia el corte del cliente {num} en el minuto {round(env.now, cifras)}****')\n",
        "        #Se suma el tiempo a la line ade tiempo actual\n",
        "        yield env.timeout(tc)\n",
        "\n",
        "        #Muestra un mensaje al término del corte\n",
        "        LS.append(env.now)\n",
        "        if texto:\n",
        "          print(f'xxxTermina el corte del cliente {num} en el minuto {round(env.now, cifras)}xxx')\n",
        "        return tc"
      ],
      "metadata": {
        "id": "X68ifdOQyHZh"
      },
      "execution_count": null,
      "outputs": []
    },
    {
      "cell_type": "code",
      "source": [
        "global tc_min, tc_max, ll, no_peluqueros, cifras\n",
        "semilla = 13\n",
        "seed(semilla)\n",
        "\n",
        "no_peluqueros = 1\n",
        "tc_min = 15\n",
        "tc_max = 30\n",
        "ll = 1/20\n",
        "clientes = 5\n",
        "cifras = 2"
      ],
      "metadata": {
        "id": "gCQuFoc1yJiy"
      },
      "execution_count": null,
      "outputs": []
    },
    {
      "cell_type": "code",
      "source": [
        "global t_esp, dur_corte, fin_sim, LTLL, LC, LS\n",
        "t_esp = 0\n",
        "dur_corte = 0\n",
        "fin_sim = 0\n",
        "\n",
        "LTLL, LC, LS = [], [], []"
      ],
      "metadata": {
        "id": "B-7McBRMyNoF"
      },
      "execution_count": null,
      "outputs": []
    },
    {
      "cell_type": "code",
      "source": [
        "ent = simpy.Environment()\n",
        "pelucas = simpy.Resource(ent, capacity=no_peluqueros)"
      ],
      "metadata": {
        "id": "PlvIqg2KyQQ4"
      },
      "execution_count": null,
      "outputs": []
    },
    {
      "cell_type": "code",
      "source": [
        "ent.process(peluqueria(ent, pelucas, clientes))"
      ],
      "metadata": {
        "id": "gssiLHQayQ33"
      },
      "execution_count": null,
      "outputs": []
    },
    {
      "cell_type": "code",
      "source": [
        "ent.run()"
      ],
      "metadata": {
        "id": "KO-nmTz8yS5H"
      },
      "execution_count": null,
      "outputs": []
    },
    {
      "cell_type": "code",
      "source": [
        "LTLL, LC, LS = np.array(LTLL), np.array(LC), np.array(LS)\n",
        "t_esp = sum(LS - LTLL - LC)\n",
        "fin_sim = ent.now"
      ],
      "metadata": {
        "id": "MNIsTSEJyUvv"
      },
      "execution_count": null,
      "outputs": []
    },
    {
      "cell_type": "code",
      "source": [
        "print(LTLL)\n",
        "print(LC)\n",
        "print(LS)\n",
        "print(t_esp, dur_corte, fin_sim)"
      ],
      "metadata": {
        "id": "GSpofBF5yXIj"
      },
      "execution_count": null,
      "outputs": []
    },
    {
      "cell_type": "code",
      "source": [
        "print(f'Longitud promedio de la cola (fila): {round(t_esp/fin_sim, 2)} personas en cola')\n",
        "print(f'Tiempo de espera promedio: {round(t_esp/clientes,2)} minutos')\n",
        "print(f'Uso promedio de la instalación: {round(100 * dur_corte/fin_sim,2)}%')"
      ],
      "metadata": {
        "id": "YbVhK3G3yZKM"
      },
      "execution_count": null,
      "outputs": []
    },
    {
      "cell_type": "code",
      "source": [
        "def exp(n):\n",
        "  global tc_min, tc_max, ll, no_peluqueros, t_esp, dur_corte, fin_sim, LTLL, LC, LS\n",
        "\n",
        "  no_peluqueros = 1\n",
        "  tc_min = 15\n",
        "  tc_max = 30\n",
        "  ll = 1/20\n",
        "  clientes = 5\n",
        "  cifras = 2\n",
        "\n",
        "  long_cola = []\n",
        "  tiempo_esp = []\n",
        "  uso = []\n",
        "\n",
        "  for _ in range(n):\n",
        "    t_esp = 0\n",
        "    dur_corte = 0\n",
        "    fin_sim = 0\n",
        "\n",
        "    LTLL, LC, LS = [], [], []\n",
        "\n",
        "    ent = simpy.Environment()\n",
        "    pelucas = simpy.Resource(ent, capacity=no_peluqueros)\n",
        "    ent.process(peluqueria(ent, pelucas, clientes, texto=False))\n",
        "    ent.run()\n",
        "    LTLL, LC, LS = np.array(LTLL), np.array(LC), np.array(LS)\n",
        "    t_esp = sum(LS - LTLL - LC)\n",
        "    fin_sim = ent.now\n",
        "\n",
        "    long_cola.append(t_esp/fin_sim)\n",
        "    tiempo_esp.append(t_esp/clientes)\n",
        "    uso.append(100 * dur_corte/fin_sim)\n",
        "\n",
        "  return long_cola, tiempo_esp, uso"
      ],
      "metadata": {
        "id": "qNd8AQ_Ryd5G"
      },
      "execution_count": null,
      "outputs": []
    },
    {
      "cell_type": "code",
      "source": [
        "n = 500\n",
        "a, b, c = exp(n)"
      ],
      "metadata": {
        "id": "IsbfIsL-ylSV"
      },
      "execution_count": null,
      "outputs": []
    },
    {
      "cell_type": "code",
      "source": [
        "def graf_estado(l, titulo):\n",
        "  g = []\n",
        "  n = len(l)\n",
        "  for i in range(n):\n",
        "    g.append(np.mean(l[:i+1]))\n",
        "  plt.plot(g, 'lightblue')\n",
        "  m = np.mean(l)\n",
        "  s = np.std(l, ddof=1)\n",
        "  plt.hlines(m, 0, n, color='r', linestyles='dotted')\n",
        "  plt.hlines(m + 1.96*np.std(l)/np.sqrt(n), 0, n, color='g', linestyles='dashed')\n",
        "  plt.hlines(m - 1.96*np.std(l)/np.sqrt(n), 0, n, color='g', linestyles='dashed')\n",
        "  plt.title(titulo)\n",
        "  plt.xlabel('iteraciones')\n",
        "  plt.show()"
      ],
      "metadata": {
        "id": "jfuVzhlRynjn"
      },
      "execution_count": null,
      "outputs": []
    },
    {
      "cell_type": "code",
      "source": [
        "plt.style.use('dark_background')\n",
        "graf_estado(a, 'Gráfica de la longitud promedio de la cola (fila)')\n",
        "graf_estado(b, 'Gráfica del tiempo de espera promedio')\n",
        "graf_estado(c, 'Gráfica del uso promedio de la instalación')"
      ],
      "metadata": {
        "id": "8lsHNWGQypZw"
      },
      "execution_count": null,
      "outputs": []
    },
    {
      "cell_type": "code",
      "source": [
        "def rep(n, nr):\n",
        "  la, lb, lc = [], [], []\n",
        "  for _ in range(nr):\n",
        "    a, b, c = exp(n)\n",
        "    la.append(np.mean(a))\n",
        "    lb.append(np.mean(b))\n",
        "    lc.append(np.mean(c))\n",
        "  return la, lb, lc"
      ],
      "metadata": {
        "id": "hEVIHTcTyu8S"
      },
      "execution_count": null,
      "outputs": []
    },
    {
      "cell_type": "code",
      "source": [
        "n = 500\n",
        "nr = 100\n",
        "a, b, c = rep(n, nr)"
      ],
      "metadata": {
        "id": "3zMJH5GwyvlX"
      },
      "execution_count": null,
      "outputs": []
    },
    {
      "cell_type": "code",
      "source": [
        "from scipy.stats import t\n",
        "ma, mb, mc = np.mean(a), np.mean(b), np.mean(c)\n",
        "sa, sb, sc = np.std(a, ddof=1), np.std(b, ddof=1), np.std(c, ddof=1)\n",
        "t_student = t.ppf(0.975, nr-1)\n",
        "# print(t_student)\n",
        "intervalo_a = (ma - t_student*sa/np.sqrt(nr), ma + t_student*sa/np.sqrt(nr))\n",
        "intervalo_b = (mb - t_student*sb/np.sqrt(nr), mb + t_student*sb/np.sqrt(nr))\n",
        "intervalo_c = (mc - t_student*sc/np.sqrt(nr), mc + t_student*sc/np.sqrt(nr))\n",
        "dec = 5"
      ],
      "metadata": {
        "id": "4Ee3cziQyyn6"
      },
      "execution_count": null,
      "outputs": []
    },
    {
      "cell_type": "code",
      "source": [
        "print(f'El intervalo de confianza al 95% de la longitud promedio de la cola (fila): {np.round(intervalo_a, dec)} personas en cola')\n",
        "print(f'El intervalo de confianza al 95% del tiempo de espera promedio: {np.round(intervalo_b, dec)} minutos')\n",
        "print(f'El intervalo de confianza al 95% del uso promedio de la instalación: {np.round(intervalo_c, dec)}%')"
      ],
      "metadata": {
        "id": "HqoVMTtJyzMq"
      },
      "execution_count": null,
      "outputs": []
    }
  ]
}