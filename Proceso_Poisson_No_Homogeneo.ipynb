{
  "nbformat": 4,
  "nbformat_minor": 0,
  "metadata": {
    "colab": {
      "provenance": [],
      "authorship_tag": "ABX9TyMrVriqIbeY13+E72nGMVnu",
      "include_colab_link": true
    },
    "kernelspec": {
      "name": "python3",
      "display_name": "Python 3"
    },
    "language_info": {
      "name": "python"
    }
  },
  "cells": [
    {
      "cell_type": "markdown",
      "metadata": {
        "id": "view-in-github",
        "colab_type": "text"
      },
      "source": [
        "<a href=\"https://colab.research.google.com/github/MaricelaMH/SIMULACION-II/blob/main/Proceso_Poisson_No_Homogeneo.ipynb\" target=\"_parent\"><img src=\"https://colab.research.google.com/assets/colab-badge.svg\" alt=\"Open In Colab\"/></a>"
      ]
    },
    {
      "cell_type": "markdown",
      "source": [
        "# PROCESO DE POISON NO HOMOGENEO"
      ],
      "metadata": {
        "id": "6k_iZOxV_yfx"
      }
    },
    {
      "cell_type": "code",
      "execution_count": 26,
      "metadata": {
        "id": "LWApVqCh_ceU"
      },
      "outputs": [],
      "source": [
        "#IMPORTAMOS LIBRERIAS\n",
        "import numpy as np\n",
        "import matplotlib.pyplot as plt\n",
        "import random as rnd"
      ]
    },
    {
      "cell_type": "code",
      "source": [
        "# Definimos la funcion lambda\n",
        "def lambda_t(t):\n",
        "  if 0 <= t <= 3:\n",
        "    return 5+(5*t)\n",
        "  elif 3 <= t <= 5:\n",
        "    return 20\n",
        "  elif 5 <= t <= 9:\n",
        "    return 20-2*(t-5)\n",
        "  else:\n",
        "    return 0"
      ],
      "metadata": {
        "id": "TgjKFOJ8ESqF"
      },
      "execution_count": 27,
      "outputs": []
    },
    {
      "cell_type": "code",
      "source": [
        "eventos = []  # Lista para guardar los tiempos de los eventos\n",
        "t = 0 # Tiempo actual\n",
        "T = 60 # Tiempo total\n",
        "lam = 20\n",
        "I = 0\n",
        "S=[]\n",
        "while t < T:\n",
        "    U1 = np.random.uniform(0,1)\n",
        "    t = t - np.log(U1) / lam\n",
        "    if t > T:\n",
        "        break\n",
        "\n",
        "    U2 = np.random.uniform(0,1)\n",
        "\n",
        "    if U2 <= lambda_t(t) / lam:\n",
        "        I+=1\n",
        "        S.append(I)\n",
        "        eventos.append(t)"
      ],
      "metadata": {
        "id": "UHI1DnNd_2NC"
      },
      "execution_count": 28,
      "outputs": []
    },
    {
      "cell_type": "code",
      "source": [
        "plt.step(eventos,S)"
      ],
      "metadata": {
        "colab": {
          "base_uri": "https://localhost:8080/",
          "height": 448
        },
        "id": "3FktJDEGDbJF",
        "outputId": "46b6a992-b897-4b70-8788-2192b4da887c"
      },
      "execution_count": 29,
      "outputs": [
        {
          "output_type": "execute_result",
          "data": {
            "text/plain": [
              "[<matplotlib.lines.Line2D at 0x7d66b527dd80>]"
            ]
          },
          "metadata": {},
          "execution_count": 29
        },
        {
          "output_type": "display_data",
          "data": {
            "text/plain": [
              "<Figure size 640x480 with 1 Axes>"
            ],
            "image/png": "[encoded data removed]"
          },
          "metadata": {}
        }
      ]
    }
  ]
}