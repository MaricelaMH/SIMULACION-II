{
  "nbformat": 4,
  "nbformat_minor": 0,
  "metadata": {
    "colab": {
      "provenance": [],
      "authorship_tag": "ABX9TyMI01kfF1xBaTy2TDLG2mbk",
      "include_colab_link": true
    },
    "kernelspec": {
      "name": "python3",
      "display_name": "Python 3"
    },
    "language_info": {
      "name": "python"
    }
  },
  "cells": [
    {
      "cell_type": "markdown",
      "metadata": {
        "id": "view-in-github",
        "colab_type": "text"
      },
      "source": [
        "<a href=\"https://colab.research.google.com/github/MaricelaMH/SIMULACION-II/blob/main/Met_Muestreo_Importancia.ipynb\" target=\"_parent\"><img src=\"https://colab.research.google.com/assets/colab-badge.svg\" alt=\"Open In Colab\"/></a>"
      ]
    },
    {
      "cell_type": "markdown",
      "source": [
        "MÈTODO DE MUESTREO IMPORTANCIA\n",
        "\n",
        "La posible $g(x)$ sera $g(x)=1-x^2$\n",
        "* Verificar que sea una funciòn de probabilidad\n",
        "* La integral del intervalo sea igual a 1\n",
        "\n",
        "-> $\\int_{0}^{1} (1-x^2)dx = \\frac{2}{3}$\n",
        "\n",
        " si multiplicamos por $\\frac{3}{2} $ a $g(x)$ ya puede ser una funciòn de probabilidad.\n",
        " por lo que $$g(x) = \\frac{3}{2} (1-x^2) $$ en $[0,1]$\n",
        "\n",
        " -< Calculamos la acomulativa\n",
        " $$G(x) = \\int_{0}^{x} g(z) dz = \\frac{3}{2}x - \\frac{x^3}{2}$$\n",
        "\n",
        "\n",
        " METODO DE ACEP\n",
        "\n"
      ],
      "metadata": {
        "id": "rH-sDG_Ulgqv"
      }
    },
    {
      "cell_type": "code",
      "execution_count": 4,
      "metadata": {
        "id": "NFOtYY9Plerb"
      },
      "outputs": [],
      "source": [
        "# Importamos libreria necesarias\n",
        "import numpy as np\n",
        "import random as rnd\n",
        "import matplotlib.pyplot as plt"
      ]
    },
    {
      "cell_type": "code",
      "source": [
        "def muestra(n):  # Definimos nuestra funsion muestra\n",
        "  lista=[]    # Creamos una lista para almacenar los valores de x\n",
        "  for i in range(n):\n",
        "    y = rnd.random()  #Generamos valores aleatorios uniformes para y\n",
        "    u = rnd.random()  # Generamos valores aleatorios uniformes para u\n",
        "    x=0\n",
        "    if u <= 3/2*(1-x**2): # Aplicamos la razon de aceptación\n",
        "      x = y  # Almacenamos el valor de x\n",
        "      lista.append(x) # Almacenamos el valor de x en la lista\n",
        "  return lista"
      ],
      "metadata": {
        "id": "33tKArfrlfgI"
      },
      "execution_count": 27,
      "outputs": []
    },
    {
      "cell_type": "code",
      "source": [
        "G = muestra(1000000) # Generamos nuestra muestra"
      ],
      "metadata": {
        "id": "2rIE3jwQs5-7"
      },
      "execution_count": 29,
      "outputs": []
    },
    {
      "cell_type": "code",
      "source": [
        "plt.hist(G, bins=500, color='lightblue') # Graficamos nuestra muestra"
      ],
      "metadata": {
        "colab": {
          "base_uri": "https://localhost:8080/",
          "height": 1000
        },
        "id": "cE8uk9W7tk57",
        "outputId": "b6951443-c633-4162-b644-41afff2da428"
      },
      "execution_count": 30,
      "outputs": [
        {
          "output_type": "execute_result",
          "data": {
            "text/plain": [
              "(array([1988., 1993., 2059., 2025., 1957., 2063., 2057., 1959., 1954.,\n",
              "        1997., 2001., 1987., 1994., 1971., 2026., 1905., 2083., 1977.,\n",
              "        1962., 1967., 1966., 2027., 2020., 2074., 1975., 2015., 1935.,\n",
              "        1996., 1993., 2006., 2031., 1955., 1949., 2095., 1985., 1973.,\n",
              "        2050., 2007., 1975., 1964., 1991., 2036., 1959., 2011., 2151.,\n",
              "        2006., 2020., 1996., 2023., 2081., 1992., 2009., 1990., 2041.,\n",
              "        2015., 2013., 2010., 1997., 2078., 1992., 1992., 2004., 2025.,\n",
              "        2033., 1990., 2045., 1998., 2020., 1970., 1968., 1949., 1978.,\n",
              "        1959., 2037., 2029., 2024., 1951., 2030., 2031., 2005., 2016.,\n",
              "        2040., 1973., 1979., 2067., 2079., 2021., 2015., 2007., 1979.,\n",
              "        2015., 1995., 1984., 1983., 1901., 1995., 2027., 2062., 1970.,\n",
              "        2037., 1989., 2009., 2023., 2069., 2045., 1980., 2001., 1990.,\n",
              "        2061., 1968., 1997., 2043., 1964., 2019., 2019., 1996., 1991.,\n",
              "        2000., 2021., 2065., 2022., 1990., 1921., 2027., 1996., 2040.,\n",
              "        2022., 1969., 2039., 2030., 2026., 1987., 1942., 1947., 1965.,\n",
              "        2035., 1947., 2013., 2040., 2052., 1996., 2016., 2005., 1988.,\n",
              "        1908., 1910., 2046., 2008., 2033., 1979., 1993., 1969., 2001.,\n",
              "        2025., 1936., 1965., 2021., 1998., 1968., 1974., 1946., 2105.,\n",
              "        2003., 1925., 2116., 2040., 2024., 2035., 2003., 2032., 1977.,\n",
              "        1942., 1941., 1982., 2043., 2018., 1997., 1964., 1935., 1986.,\n",
              "        2078., 2051., 2003., 1976., 2020., 1964., 1976., 1903., 2060.,\n",
              "        2027., 1990., 1951., 2002., 1993., 1974., 2045., 2028., 1976.,\n",
              "        1986., 1927., 2008., 2005., 2007., 1990., 2034., 1907., 1979.,\n",
              "        2026., 1968., 2079., 2000., 2064., 2011., 2030., 2057., 2005.,\n",
              "        1986., 1981., 1988., 2000., 2089., 2021., 2040., 1919., 1948.,\n",
              "        2000., 1988., 1973., 2032., 2029., 1961., 2027., 1985., 2009.,\n",
              "        2081., 2007., 1985., 2046., 1988., 2066., 2007., 2020., 1931.,\n",
              "        1995., 1984., 2081., 2030., 2032., 1952., 2037., 2057., 2030.,\n",
              "        2068., 2037., 2026., 1989., 2012., 1972., 2045., 2038., 1963.,\n",
              "        2050., 2027., 1952., 1943., 1943., 1944., 1923., 2034., 2097.,\n",
              "        1944., 2001., 2085., 2003., 2021., 2047., 2001., 2040., 1963.,\n",
              "        1956., 2026., 2040., 1991., 1973., 1944., 2020., 1992., 2018.,\n",
              "        1996., 1978., 1994., 1857., 2017., 1992., 1995., 1948., 1951.,\n",
              "        1956., 2007., 2013., 1996., 1933., 1969., 1959., 1959., 2049.,\n",
              "        1998., 1993., 1967., 1945., 2015., 2056., 2014., 2020., 1914.,\n",
              "        1994., 1984., 2045., 1983., 1936., 1975., 1934., 2000., 2080.,\n",
              "        2041., 1986., 1994., 1956., 2000., 2008., 1966., 1986., 2029.,\n",
              "        2051., 1994., 2021., 2095., 2002., 2021., 2086., 2000., 1973.,\n",
              "        1955., 1964., 2010., 1993., 1965., 2007., 1966., 2110., 1998.,\n",
              "        1938., 2000., 2053., 1938., 2058., 2038., 1945., 2022., 1989.,\n",
              "        2044., 2059., 2086., 2082., 2079., 2081., 2027., 2054., 1966.,\n",
              "        1978., 1961., 1963., 2014., 2006., 2018., 1946., 2008., 1998.,\n",
              "        1931., 2044., 2020., 1987., 2013., 1971., 1985., 1983., 2086.,\n",
              "        1977., 1982., 1855., 1959., 1965., 2011., 1979., 1992., 1972.,\n",
              "        2075., 1945., 2028., 1969., 2020., 2039., 1938., 2018., 1966.,\n",
              "        1948., 2014., 1977., 2020., 2061., 2036., 1977., 2060., 1962.,\n",
              "        2042., 1954., 1935., 2088., 2046., 1937., 1977., 2024., 1931.,\n",
              "        2059., 1954., 2012., 1993., 2005., 1996., 1983., 1948., 1983.,\n",
              "        1965., 2009., 1987., 1976., 1962., 1932., 2022., 2033., 2018.,\n",
              "        1970., 2025., 2019., 1982., 1860., 1987., 2014., 1976., 1987.,\n",
              "        2025., 1961., 1991., 2050., 1975., 2027., 2028., 1948., 1942.,\n",
              "        2009., 2052., 2046., 2028., 2029., 2019., 2006., 1963., 1925.,\n",
              "        1992., 2060., 1951., 2014., 1912., 1951., 1985., 2013., 2003.,\n",
              "        1996., 2006., 1983., 1981., 1909., 1991., 1974., 2005., 1859.,\n",
              "        1942., 2037., 1979., 1998., 1957., 1934., 1975., 2039., 1961.,\n",
              "        2042., 2053., 2023., 1976., 2113.]),\n",
              " array([1.67640460e-06, 2.00167115e-03, 4.00166590e-03, 6.00166065e-03,\n",
              "        8.00165539e-03, 1.00016501e-02, 1.20016449e-02, 1.40016396e-02,\n",
              "        1.60016344e-02, 1.80016291e-02, 2.00016239e-02, 2.20016186e-02,\n",
              "        2.40016134e-02, 2.60016081e-02, 2.80016029e-02, 3.00015976e-02,\n",
              "        3.20015924e-02, 3.40015871e-02, 3.60015819e-02, 3.80015766e-02,\n",
              "        4.00015713e-02, 4.20015661e-02, 4.40015608e-02, 4.60015556e-02,\n",
              "        4.80015503e-02, 5.00015451e-02, 5.20015398e-02, 5.40015346e-02,\n",
              "        5.60015293e-02, 5.80015241e-02, 6.00015188e-02, 6.20015136e-02,\n",
              "        6.40015083e-02, 6.60015031e-02, 6.80014978e-02, 7.00014926e-02,\n",
              "        7.20014873e-02, 7.40014821e-02, 7.60014768e-02, 7.80014715e-02,\n",
              "        8.00014663e-02, 8.20014610e-02, 8.40014558e-02, 8.60014505e-02,\n",
              "        8.80014453e-02, 9.00014400e-02, 9.20014348e-02, 9.40014295e-02,\n",
              "        9.60014243e-02, 9.80014190e-02, 1.00001414e-01, 1.02001409e-01,\n",
              "        1.04001403e-01, 1.06001398e-01, 1.08001393e-01, 1.10001388e-01,\n",
              "        1.12001382e-01, 1.14001377e-01, 1.16001372e-01, 1.18001366e-01,\n",
              "        1.20001361e-01, 1.22001356e-01, 1.24001351e-01, 1.26001345e-01,\n",
              "        1.28001340e-01, 1.30001335e-01, 1.32001330e-01, 1.34001324e-01,\n",
              "        1.36001319e-01, 1.38001314e-01, 1.40001309e-01, 1.42001303e-01,\n",
              "        1.44001298e-01, 1.46001293e-01, 1.48001288e-01, 1.50001282e-01,\n",
              "        1.52001277e-01, 1.54001272e-01, 1.56001267e-01, 1.58001261e-01,\n",
              "        1.60001256e-01, 1.62001251e-01, 1.64001246e-01, 1.66001240e-01,\n",
              "        1.68001235e-01, 1.70001230e-01, 1.72001225e-01, 1.74001219e-01,\n",
              "        1.76001214e-01, 1.78001209e-01, 1.80001204e-01, 1.82001198e-01,\n",
              "        1.84001193e-01, 1.86001188e-01, 1.88001183e-01, 1.90001177e-01,\n",
              "        1.92001172e-01, 1.94001167e-01, 1.96001162e-01, 1.98001156e-01,\n",
              "        2.00001151e-01, 2.02001146e-01, 2.04001141e-01, 2.06001135e-01,\n",
              "        2.08001130e-01, 2.10001125e-01, 2.12001120e-01, 2.14001114e-01,\n",
              "        2.16001109e-01, 2.18001104e-01, 2.20001099e-01, 2.22001093e-01,\n",
              "        2.24001088e-01, 2.26001083e-01, 2.28001078e-01, 2.30001072e-01,\n",
              "        2.32001067e-01, 2.34001062e-01, 2.36001057e-01, 2.38001051e-01,\n",
              "        2.40001046e-01, 2.42001041e-01, 2.44001036e-01, 2.46001030e-01,\n",
              "        2.48001025e-01, 2.50001020e-01, 2.52001015e-01, 2.54001009e-01,\n",
              "        2.56001004e-01, 2.58000999e-01, 2.60000994e-01, 2.62000988e-01,\n",
              "        2.64000983e-01, 2.66000978e-01, 2.68000973e-01, 2.70000967e-01,\n",
              "        2.72000962e-01, 2.74000957e-01, 2.76000952e-01, 2.78000946e-01,\n",
              "        2.80000941e-01, 2.82000936e-01, 2.84000931e-01, 2.86000925e-01,\n",
              "        2.88000920e-01, 2.90000915e-01, 2.92000909e-01, 2.94000904e-01,\n",
              "        2.96000899e-01, 2.98000894e-01, 3.00000888e-01, 3.02000883e-01,\n",
              "        3.04000878e-01, 3.06000873e-01, 3.08000867e-01, 3.10000862e-01,\n",
              "        3.12000857e-01, 3.14000852e-01, 3.16000846e-01, 3.18000841e-01,\n",
              "        3.20000836e-01, 3.22000831e-01, 3.24000825e-01, 3.26000820e-01,\n",
              "        3.28000815e-01, 3.30000810e-01, 3.32000804e-01, 3.34000799e-01,\n",
              "        3.36000794e-01, 3.38000789e-01, 3.40000783e-01, 3.42000778e-01,\n",
              "        3.44000773e-01, 3.46000768e-01, 3.48000762e-01, 3.50000757e-01,\n",
              "        3.52000752e-01, 3.54000747e-01, 3.56000741e-01, 3.58000736e-01,\n",
              "        3.60000731e-01, 3.62000726e-01, 3.64000720e-01, 3.66000715e-01,\n",
              "        3.68000710e-01, 3.70000705e-01, 3.72000699e-01, 3.74000694e-01,\n",
              "        3.76000689e-01, 3.78000684e-01, 3.80000678e-01, 3.82000673e-01,\n",
              "        3.84000668e-01, 3.86000663e-01, 3.88000657e-01, 3.90000652e-01,\n",
              "        3.92000647e-01, 3.94000642e-01, 3.96000636e-01, 3.98000631e-01,\n",
              "        4.00000626e-01, 4.02000621e-01, 4.04000615e-01, 4.06000610e-01,\n",
              "        4.08000605e-01, 4.10000600e-01, 4.12000594e-01, 4.14000589e-01,\n",
              "        4.16000584e-01, 4.18000579e-01, 4.20000573e-01, 4.22000568e-01,\n",
              "        4.24000563e-01, 4.26000558e-01, 4.28000552e-01, 4.30000547e-01,\n",
              "        4.32000542e-01, 4.34000537e-01, 4.36000531e-01, 4.38000526e-01,\n",
              "        4.40000521e-01, 4.42000516e-01, 4.44000510e-01, 4.46000505e-01,\n",
              "        4.48000500e-01, 4.50000495e-01, 4.52000489e-01, 4.54000484e-01,\n",
              "        4.56000479e-01, 4.58000474e-01, 4.60000468e-01, 4.62000463e-01,\n",
              "        4.64000458e-01, 4.66000453e-01, 4.68000447e-01, 4.70000442e-01,\n",
              "        4.72000437e-01, 4.74000431e-01, 4.76000426e-01, 4.78000421e-01,\n",
              "        4.80000416e-01, 4.82000410e-01, 4.84000405e-01, 4.86000400e-01,\n",
              "        4.88000395e-01, 4.90000389e-01, 4.92000384e-01, 4.94000379e-01,\n",
              "        4.96000374e-01, 4.98000368e-01, 5.00000363e-01, 5.02000358e-01,\n",
              "        5.04000353e-01, 5.06000347e-01, 5.08000342e-01, 5.10000337e-01,\n",
              "        5.12000332e-01, 5.14000326e-01, 5.16000321e-01, 5.18000316e-01,\n",
              "        5.20000311e-01, 5.22000305e-01, 5.24000300e-01, 5.26000295e-01,\n",
              "        5.28000290e-01, 5.30000284e-01, 5.32000279e-01, 5.34000274e-01,\n",
              "        5.36000269e-01, 5.38000263e-01, 5.40000258e-01, 5.42000253e-01,\n",
              "        5.44000248e-01, 5.46000242e-01, 5.48000237e-01, 5.50000232e-01,\n",
              "        5.52000227e-01, 5.54000221e-01, 5.56000216e-01, 5.58000211e-01,\n",
              "        5.60000206e-01, 5.62000200e-01, 5.64000195e-01, 5.66000190e-01,\n",
              "        5.68000185e-01, 5.70000179e-01, 5.72000174e-01, 5.74000169e-01,\n",
              "        5.76000164e-01, 5.78000158e-01, 5.80000153e-01, 5.82000148e-01,\n",
              "        5.84000143e-01, 5.86000137e-01, 5.88000132e-01, 5.90000127e-01,\n",
              "        5.92000122e-01, 5.94000116e-01, 5.96000111e-01, 5.98000106e-01,\n",
              "        6.00000101e-01, 6.02000095e-01, 6.04000090e-01, 6.06000085e-01,\n",
              "        6.08000080e-01, 6.10000074e-01, 6.12000069e-01, 6.14000064e-01,\n",
              "        6.16000059e-01, 6.18000053e-01, 6.20000048e-01, 6.22000043e-01,\n",
              "        6.24000038e-01, 6.26000032e-01, 6.28000027e-01, 6.30000022e-01,\n",
              "        6.32000017e-01, 6.34000011e-01, 6.36000006e-01, 6.38000001e-01,\n",
              "        6.39999996e-01, 6.41999990e-01, 6.43999985e-01, 6.45999980e-01,\n",
              "        6.47999975e-01, 6.49999969e-01, 6.51999964e-01, 6.53999959e-01,\n",
              "        6.55999953e-01, 6.57999948e-01, 6.59999943e-01, 6.61999938e-01,\n",
              "        6.63999932e-01, 6.65999927e-01, 6.67999922e-01, 6.69999917e-01,\n",
              "        6.71999911e-01, 6.73999906e-01, 6.75999901e-01, 6.77999896e-01,\n",
              "        6.79999890e-01, 6.81999885e-01, 6.83999880e-01, 6.85999875e-01,\n",
              "        6.87999869e-01, 6.89999864e-01, 6.91999859e-01, 6.93999854e-01,\n",
              "        6.95999848e-01, 6.97999843e-01, 6.99999838e-01, 7.01999833e-01,\n",
              "        7.03999827e-01, 7.05999822e-01, 7.07999817e-01, 7.09999812e-01,\n",
              "        7.11999806e-01, 7.13999801e-01, 7.15999796e-01, 7.17999791e-01,\n",
              "        7.19999785e-01, 7.21999780e-01, 7.23999775e-01, 7.25999770e-01,\n",
              "        7.27999764e-01, 7.29999759e-01, 7.31999754e-01, 7.33999749e-01,\n",
              "        7.35999743e-01, 7.37999738e-01, 7.39999733e-01, 7.41999728e-01,\n",
              "        7.43999722e-01, 7.45999717e-01, 7.47999712e-01, 7.49999707e-01,\n",
              "        7.51999701e-01, 7.53999696e-01, 7.55999691e-01, 7.57999686e-01,\n",
              "        7.59999680e-01, 7.61999675e-01, 7.63999670e-01, 7.65999665e-01,\n",
              "        7.67999659e-01, 7.69999654e-01, 7.71999649e-01, 7.73999644e-01,\n",
              "        7.75999638e-01, 7.77999633e-01, 7.79999628e-01, 7.81999623e-01,\n",
              "        7.83999617e-01, 7.85999612e-01, 7.87999607e-01, 7.89999602e-01,\n",
              "        7.91999596e-01, 7.93999591e-01, 7.95999586e-01, 7.97999581e-01,\n",
              "        7.99999575e-01, 8.01999570e-01, 8.03999565e-01, 8.05999560e-01,\n",
              "        8.07999554e-01, 8.09999549e-01, 8.11999544e-01, 8.13999539e-01,\n",
              "        8.15999533e-01, 8.17999528e-01, 8.19999523e-01, 8.21999518e-01,\n",
              "        8.23999512e-01, 8.25999507e-01, 8.27999502e-01, 8.29999497e-01,\n",
              "        8.31999491e-01, 8.33999486e-01, 8.35999481e-01, 8.37999475e-01,\n",
              "        8.39999470e-01, 8.41999465e-01, 8.43999460e-01, 8.45999454e-01,\n",
              "        8.47999449e-01, 8.49999444e-01, 8.51999439e-01, 8.53999433e-01,\n",
              "        8.55999428e-01, 8.57999423e-01, 8.59999418e-01, 8.61999412e-01,\n",
              "        8.63999407e-01, 8.65999402e-01, 8.67999397e-01, 8.69999391e-01,\n",
              "        8.71999386e-01, 8.73999381e-01, 8.75999376e-01, 8.77999370e-01,\n",
              "        8.79999365e-01, 8.81999360e-01, 8.83999355e-01, 8.85999349e-01,\n",
              "        8.87999344e-01, 8.89999339e-01, 8.91999334e-01, 8.93999328e-01,\n",
              "        8.95999323e-01, 8.97999318e-01, 8.99999313e-01, 9.01999307e-01,\n",
              "        9.03999302e-01, 9.05999297e-01, 9.07999292e-01, 9.09999286e-01,\n",
              "        9.11999281e-01, 9.13999276e-01, 9.15999271e-01, 9.17999265e-01,\n",
              "        9.19999260e-01, 9.21999255e-01, 9.23999250e-01, 9.25999244e-01,\n",
              "        9.27999239e-01, 9.29999234e-01, 9.31999229e-01, 9.33999223e-01,\n",
              "        9.35999218e-01, 9.37999213e-01, 9.39999208e-01, 9.41999202e-01,\n",
              "        9.43999197e-01, 9.45999192e-01, 9.47999187e-01, 9.49999181e-01,\n",
              "        9.51999176e-01, 9.53999171e-01, 9.55999166e-01, 9.57999160e-01,\n",
              "        9.59999155e-01, 9.61999150e-01, 9.63999145e-01, 9.65999139e-01,\n",
              "        9.67999134e-01, 9.69999129e-01, 9.71999124e-01, 9.73999118e-01,\n",
              "        9.75999113e-01, 9.77999108e-01, 9.79999103e-01, 9.81999097e-01,\n",
              "        9.83999092e-01, 9.85999087e-01, 9.87999082e-01, 9.89999076e-01,\n",
              "        9.91999071e-01, 9.93999066e-01, 9.95999061e-01, 9.97999055e-01,\n",
              "        9.99999050e-01]),\n",
              " <BarContainer object of 500 artists>)"
            ]
          },
          "metadata": {},
          "execution_count": 30
        },
        {
          "output_type": "display_data",
          "data": {
            "text/plain": [
              "<Figure size 640x480 with 1 Axes>"
            ],
            "image/png": "[encoded data removed]"
          },
          "metadata": {}
        }
      ]
    }
  ]
}