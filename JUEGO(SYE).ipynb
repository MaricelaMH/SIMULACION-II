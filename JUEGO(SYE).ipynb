{
  "nbformat": 4,
  "nbformat_minor": 0,
  "metadata": {
    "colab": {
      "provenance": [],
      "authorship_tag": "ABX9TyPanCyC2H6t8dvn0jsmBOGF",
      "include_colab_link": true
    },
    "kernelspec": {
      "name": "python3",
      "display_name": "Python 3"
    },
    "language_info": {
      "name": "python"
    }
  },
  "cells": [
    {
      "cell_type": "markdown",
      "metadata": {
        "id": "view-in-github",
        "colab_type": "text"
      },
      "source": [
        "<a href=\"https://colab.research.google.com/github/MaricelaMH/SIMULACION-II/blob/main/JUEGO(SYE).ipynb\" target=\"_parent\"><img src=\"https://colab.research.google.com/assets/colab-badge.svg\" alt=\"Open In Colab\"/></a>"
      ]
    },
    {
      "cell_type": "markdown",
      "source": [
        "# J U E G O  :  S E R P I E N T E S  -  Y  -  E S C A L E R A S\n",
        "\n",
        "![texto alternativo](https://drive.google.com/uc?id=1Gei5oiR5wOsTJfPtuFlm-KXZVPBnqY64)\n",
        "\n",
        "¿Cuál es, en promedio, el número de tiradas necesarias para terminar el juego? Considerar que cada tirada se hace con un dado ordinario.\n",
        "\n",
        "\n",
        "Responder:\n",
        "\n",
        "a) Analíticamente.\n",
        "\n",
        "b) Por simulación.\n"
      ],
      "metadata": {
        "id": "E1l2K9AQaa_i"
      }
    },
    {
      "cell_type": "markdown",
      "source": [
        "S O L U C I Ó N --- A N A L Í T I C A\n",
        "\n",
        "Nuestra matriz de trancisión es la siguiente:\n",
        "![texto alternativo](https://drive.google.com/uc?id=1afYcI9hJi5HcnWwhIwP4-7-ML5hjv_ar)\n",
        "\n",
        "\n",
        "DATOS:\n",
        "\n",
        "1. Contamos con un total de 20 casillas.\n",
        "2. Serpientes:\n",
        "   * La casilla 13 te lleva a la casilla 4.\n",
        "   * La casilla 17 te lleva a la casilla 10.\n",
        "3. Escaleras:\n",
        "   * La casilla 3 te lleva a la casilla 11.\n",
        "   * La casilla 15 te lleva a la casilla 19.\n",
        "\n",
        "Queremos calcular el número esperado de tiradas necesarias para llegar desde la casilla 1 a la casilla 20.\n",
        "\n",
        "Veamos que el juego de serpientes y escaleras se puede modelar mediante una cadena de Markov con estados absorbentes. La casilla final (casilla 20) es un estado absorbente, ya que una vez que se llega a ella, no se sale de ese estado. Por lo tanto, el problema de calcular el número esperado de lanzamientos para llegar a la casilla 20 puede determinarse con el tiempo de absorción en una cadena de Markov con un estado absorbente.\n",
        "\n",
        "En una cadena de Markov con estados absorbentes, la matriz de transición\n",
        "$P$ describe las probabilidades de moverse entre estados, incluyendo el estado absorbente. La casilla final (20) es absorbente, lo que significa que una vez que llegas a ella, permaneces allí con probabilidad 1.\n",
        "\n",
        "La matriz de transición\n",
        "$P$ puede escribirse en bloques, separando los estados absorbentes de los estados transitorios:\n",
        "\n",
        "$$ P=  [ \\begin{matrix}\n",
        "Q & R\\\\\n",
        "0 & I\n",
        "\\end{matrix} ] $$\n",
        "\n",
        "Donde:\n",
        "\n",
        "* $Q$ es la submatriz de transiciones entre estados transitorios (casillas 1 a 19).\n",
        "\n",
        "* $R$ es la submatriz de transiciones entre los estados transitorios y el estado absorbente (casilla 20).\n",
        "\n",
        "* $I$ es la identidad, indicando que el estado absorbente se mantiene fijo.\n",
        "\n",
        "* $0$ es un vector de ceros, ya que no hay transiciones de la casilla 20 hacia otros estados.\n",
        "\n",
        "Asi para calcular el tiempo esperado de absorción, se utiliza la matriz fundamental $N$ , que esta dada por:\n",
        "\n",
        "$$N=(I-Q)^-1$$\n",
        "\n",
        "Esta matriz $N$ nos da la esperanza del número de pasos que el sistema pasará en cada estado transitorio antes de ser absorbido, comenzando desde cualquier estado transitorio.\n",
        "\n",
        "Finalmente para calcular el tiempo esperado de absorción desde cualquier estado inicial $i$ es simplemente la suma de las filas correspondientes de la matriz $N$. Es decir, el tiempo esperado para ser absorbido, comenzando desde el estado $i$, es:\n",
        "\n",
        "$$ t_i = \\sum_j N[i,j]$$\n",
        "​\n",
        "Por lo que , el valor de $t_1$ será el número esperado de tiradas  necesarias para llegar desde la casilla 1 hasta la casilla 20.\n",
        "\n",
        "Se realiza el siguiente programa:\n",
        "\n",
        "\n"
      ],
      "metadata": {
        "id": "yBFWQPeAbIOC"
      }
    },
    {
      "cell_type": "code",
      "source": [
        "# Ingresamos nuestras librerias\n",
        "import numpy as np\n",
        "import pandas as pd"
      ],
      "metadata": {
        "id": "xVXLFEZaosYn"
      },
      "execution_count": 47,
      "outputs": []
    },
    {
      "cell_type": "code",
      "source": [
        "# Numero de casillas totales del tablero\n",
        "N=20\n",
        "\n",
        "# Creamos nuestra matriz de transición de 20x20 con las probabilidades del juego\n",
        "P = np.array([\n",
        "    [0, 1/6, 0, 1/6, 1/6, 1/6, 1/6, 0, 0, 0, 1/6, 0, 0, 0, 0, 0, 0, 0, 0, 0],\n",
        "    [0, 0, 0, 1/6, 1/6, 1/6, 1/6, 1/6, 0, 0, 1/6, 0, 0, 0, 0, 0, 0, 0, 0, 0],\n",
        "    [0, 0, 0, 0, 0, 0, 0, 0, 0, 0, 1, 0, 0, 0, 0, 0, 0, 0, 0, 0],\n",
        "    [0, 0, 0, 0, 1/6, 1/6, 1/6, 1/6, 1/6, 1/6, 0, 0, 0, 0, 0, 0, 0, 0, 0, 0],\n",
        "    [0, 0, 0, 0, 0, 1/6, 1/6, 1/6, 1/6, 1/6, 1/6, 0, 0, 0, 0, 0, 0, 0, 0, 0],\n",
        "    [0, 0, 0, 0, 0, 0, 1/6, 1/6, 1/6, 1/6, 1/6, 1/6, 0, 0, 0, 0, 0, 0, 0, 0],\n",
        "    [0, 0, 0, 1/6, 0, 0, 0, 1/6, 1/6, 1/6, 1/6, 1/6, 0, 0, 0, 0, 0, 0, 0, 0],\n",
        "    [0, 0, 0, 1/6, 0, 0, 0, 0, 1/6, 1/6, 1/6, 1/6, 0, 1/6, 0, 0, 0, 0, 0, 0],\n",
        "    [0, 0, 0, 1/6, 0, 0, 0, 0, 0, 1/6, 1/6, 1/6, 0, 1/6, 0, 0, 0, 0, 1/6, 0],\n",
        "    [0, 0, 0, 1/6, 0, 0, 0, 0, 0, 0, 1/6, 1/6, 0, 1/6, 0, 1/6, 0, 0, 1/6, 0],\n",
        "    [0, 0, 0, 1/6, 0, 0, 0, 0, 0, 1/6, 0, 1/6, 0, 1/6, 0, 1/6, 0, 0, 1/6, 0],\n",
        "    [0, 0, 0, 1/6, 0, 0, 0, 0, 0, 1/6, 0, 0, 0, 1/6, 0, 1/6, 0, 1/6, 1/6, 0],\n",
        "    [0, 0, 0, 1, 0, 0, 0, 0, 0, 0, 0, 0, 0, 0, 0, 0, 0, 0, 0, 0],\n",
        "    [0, 0, 0, 0, 0, 0, 0, 0, 0, 1/6, 0, 0, 0, 0, 0, 1/6, 0, 1/6, 1/3, 1/6],\n",
        "    [0, 0, 0, 0, 0, 0, 0, 0, 0, 0, 0, 0, 0, 0, 0, 0, 0, 0, 1, 0],\n",
        "    [0, 0, 0, 0, 0, 0, 0, 0, 0, 1/6, 0, 0, 0, 0, 0, 0, 0, 1/6, 1/6, 1/2],\n",
        "    [0, 0, 0, 0, 0, 0, 0, 0, 0, 1, 0, 0, 0, 0, 0, 0, 0, 0, 0, 0],\n",
        "    [0, 0, 0, 0, 0, 0, 0, 0, 0, 0, 0, 0, 0, 0, 0, 0, 0, 0, 1/6, 5/6],\n",
        "    [0, 0, 0, 0, 0, 0, 0, 0, 0, 0, 0, 0, 0, 0, 0, 0, 0, 0, 0, 1],\n",
        "    [0, 0, 0, 0, 0, 0, 0, 0, 0, 0, 0, 0, 0, 0, 0, 0, 0, 0, 0, 1]\n",
        "])\n"
      ],
      "metadata": {
        "id": "MCpbwGfxoxKA"
      },
      "execution_count": 48,
      "outputs": []
    },
    {
      "cell_type": "code",
      "source": [
        "# Creamos una tabla\n",
        "df = pd.DataFrame(P, index=[f'Casilla {i+1}' for i in range(N)], columns=[f'Casilla {i+1}' for i in range(N)])\n",
        "\n",
        "# Creamos la submatriz de estados transitorios (19x19)\n",
        "Q = P[:-1, :-1]\n",
        "\n",
        "# Creamos la matriz identidad\n",
        "I = np.eye(N - 1)\n",
        "\n",
        "# Calculamos la matriz fundamental N = (I - Q)^-1\n",
        "N_matrix = np.linalg.inv(I - Q)\n",
        "\n",
        "# Calculamos el tiempo esperado de absorción desde la casilla 1 (fila 1 de N)\n",
        "t_1 = np.sum(N_matrix[0, :])\n",
        "\n",
        "# Imprimimos la matriz de transición y el tiempo esperado\n",
        "print(\"Matriz de transición (P):\")\n",
        "print(df)\n",
        "\n"
      ],
      "metadata": {
        "colab": {
          "base_uri": "https://localhost:8080/"
        },
        "id": "LOLT4tl-hVNb",
        "outputId": "93ab249c-55f1-4543-bfd0-490656b7fe1a"
      },
      "execution_count": 49,
      "outputs": [
        {
          "output_type": "stream",
          "name": "stdout",
          "text": [
            "Matriz de transición (P):\n",
            "            Casilla 1  Casilla 2  Casilla 3  Casilla 4  Casilla 5  Casilla 6  \\\n",
            "Casilla 1         0.0   0.166667        0.0   0.166667   0.166667   0.166667   \n",
            "Casilla 2         0.0   0.000000        0.0   0.166667   0.166667   0.166667   \n",
            "Casilla 3         0.0   0.000000        0.0   0.000000   0.000000   0.000000   \n",
            "Casilla 4         0.0   0.000000        0.0   0.000000   0.166667   0.166667   \n",
            "Casilla 5         0.0   0.000000        0.0   0.000000   0.000000   0.166667   \n",
            "Casilla 6         0.0   0.000000        0.0   0.000000   0.000000   0.000000   \n",
            "Casilla 7         0.0   0.000000        0.0   0.166667   0.000000   0.000000   \n",
            "Casilla 8         0.0   0.000000        0.0   0.166667   0.000000   0.000000   \n",
            "Casilla 9         0.0   0.000000        0.0   0.166667   0.000000   0.000000   \n",
            "Casilla 10        0.0   0.000000        0.0   0.166667   0.000000   0.000000   \n",
            "Casilla 11        0.0   0.000000        0.0   0.166667   0.000000   0.000000   \n",
            "Casilla 12        0.0   0.000000        0.0   0.166667   0.000000   0.000000   \n",
            "Casilla 13        0.0   0.000000        0.0   1.000000   0.000000   0.000000   \n",
            "Casilla 14        0.0   0.000000        0.0   0.000000   0.000000   0.000000   \n",
            "Casilla 15        0.0   0.000000        0.0   0.000000   0.000000   0.000000   \n",
            "Casilla 16        0.0   0.000000        0.0   0.000000   0.000000   0.000000   \n",
            "Casilla 17        0.0   0.000000        0.0   0.000000   0.000000   0.000000   \n",
            "Casilla 18        0.0   0.000000        0.0   0.000000   0.000000   0.000000   \n",
            "Casilla 19        0.0   0.000000        0.0   0.000000   0.000000   0.000000   \n",
            "Casilla 20        0.0   0.000000        0.0   0.000000   0.000000   0.000000   \n",
            "\n",
            "            Casilla 7  Casilla 8  Casilla 9  Casilla 10  Casilla 11  \\\n",
            "Casilla 1    0.166667   0.000000   0.000000    0.000000    0.166667   \n",
            "Casilla 2    0.166667   0.166667   0.000000    0.000000    0.166667   \n",
            "Casilla 3    0.000000   0.000000   0.000000    0.000000    1.000000   \n",
            "Casilla 4    0.166667   0.166667   0.166667    0.166667    0.000000   \n",
            "Casilla 5    0.166667   0.166667   0.166667    0.166667    0.166667   \n",
            "Casilla 6    0.166667   0.166667   0.166667    0.166667    0.166667   \n",
            "Casilla 7    0.000000   0.166667   0.166667    0.166667    0.166667   \n",
            "Casilla 8    0.000000   0.000000   0.166667    0.166667    0.166667   \n",
            "Casilla 9    0.000000   0.000000   0.000000    0.166667    0.166667   \n",
            "Casilla 10   0.000000   0.000000   0.000000    0.000000    0.166667   \n",
            "Casilla 11   0.000000   0.000000   0.000000    0.166667    0.000000   \n",
            "Casilla 12   0.000000   0.000000   0.000000    0.166667    0.000000   \n",
            "Casilla 13   0.000000   0.000000   0.000000    0.000000    0.000000   \n",
            "Casilla 14   0.000000   0.000000   0.000000    0.166667    0.000000   \n",
            "Casilla 15   0.000000   0.000000   0.000000    0.000000    0.000000   \n",
            "Casilla 16   0.000000   0.000000   0.000000    0.166667    0.000000   \n",
            "Casilla 17   0.000000   0.000000   0.000000    1.000000    0.000000   \n",
            "Casilla 18   0.000000   0.000000   0.000000    0.000000    0.000000   \n",
            "Casilla 19   0.000000   0.000000   0.000000    0.000000    0.000000   \n",
            "Casilla 20   0.000000   0.000000   0.000000    0.000000    0.000000   \n",
            "\n",
            "            Casilla 12  Casilla 13  Casilla 14  Casilla 15  Casilla 16  \\\n",
            "Casilla 1     0.000000         0.0    0.000000         0.0    0.000000   \n",
            "Casilla 2     0.000000         0.0    0.000000         0.0    0.000000   \n",
            "Casilla 3     0.000000         0.0    0.000000         0.0    0.000000   \n",
            "Casilla 4     0.000000         0.0    0.000000         0.0    0.000000   \n",
            "Casilla 5     0.000000         0.0    0.000000         0.0    0.000000   \n",
            "Casilla 6     0.166667         0.0    0.000000         0.0    0.000000   \n",
            "Casilla 7     0.166667         0.0    0.000000         0.0    0.000000   \n",
            "Casilla 8     0.166667         0.0    0.166667         0.0    0.000000   \n",
            "Casilla 9     0.166667         0.0    0.166667         0.0    0.000000   \n",
            "Casilla 10    0.166667         0.0    0.166667         0.0    0.166667   \n",
            "Casilla 11    0.166667         0.0    0.166667         0.0    0.166667   \n",
            "Casilla 12    0.000000         0.0    0.166667         0.0    0.166667   \n",
            "Casilla 13    0.000000         0.0    0.000000         0.0    0.000000   \n",
            "Casilla 14    0.000000         0.0    0.000000         0.0    0.166667   \n",
            "Casilla 15    0.000000         0.0    0.000000         0.0    0.000000   \n",
            "Casilla 16    0.000000         0.0    0.000000         0.0    0.000000   \n",
            "Casilla 17    0.000000         0.0    0.000000         0.0    0.000000   \n",
            "Casilla 18    0.000000         0.0    0.000000         0.0    0.000000   \n",
            "Casilla 19    0.000000         0.0    0.000000         0.0    0.000000   \n",
            "Casilla 20    0.000000         0.0    0.000000         0.0    0.000000   \n",
            "\n",
            "            Casilla 17  Casilla 18  Casilla 19  Casilla 20  \n",
            "Casilla 1          0.0    0.000000    0.000000    0.000000  \n",
            "Casilla 2          0.0    0.000000    0.000000    0.000000  \n",
            "Casilla 3          0.0    0.000000    0.000000    0.000000  \n",
            "Casilla 4          0.0    0.000000    0.000000    0.000000  \n",
            "Casilla 5          0.0    0.000000    0.000000    0.000000  \n",
            "Casilla 6          0.0    0.000000    0.000000    0.000000  \n",
            "Casilla 7          0.0    0.000000    0.000000    0.000000  \n",
            "Casilla 8          0.0    0.000000    0.000000    0.000000  \n",
            "Casilla 9          0.0    0.000000    0.166667    0.000000  \n",
            "Casilla 10         0.0    0.000000    0.166667    0.000000  \n",
            "Casilla 11         0.0    0.000000    0.166667    0.000000  \n",
            "Casilla 12         0.0    0.166667    0.166667    0.000000  \n",
            "Casilla 13         0.0    0.000000    0.000000    0.000000  \n",
            "Casilla 14         0.0    0.166667    0.333333    0.166667  \n",
            "Casilla 15         0.0    0.000000    1.000000    0.000000  \n",
            "Casilla 16         0.0    0.166667    0.166667    0.500000  \n",
            "Casilla 17         0.0    0.000000    0.000000    0.000000  \n",
            "Casilla 18         0.0    0.000000    0.166667    0.833333  \n",
            "Casilla 19         0.0    0.000000    0.000000    1.000000  \n",
            "Casilla 20         0.0    0.000000    0.000000    1.000000  \n"
          ]
        }
      ]
    },
    {
      "cell_type": "code",
      "source": [
        "print(f\"\\nEl número esperado de lanzamientos promedio desde la casilla 1 para llegar a la casilla 20 es: {round(t_1, 2)}\")"
      ],
      "metadata": {
        "colab": {
          "base_uri": "https://localhost:8080/"
        },
        "id": "Rh6NKv2-plFd",
        "outputId": "d5b46733-620f-4c62-de90-34820532a194"
      },
      "execution_count": 50,
      "outputs": [
        {
          "output_type": "stream",
          "name": "stdout",
          "text": [
            "\n",
            "El número esperado de lanzamientos promedio desde la casilla 1 para llegar a la casilla 20 es: 6.9\n"
          ]
        }
      ]
    },
    {
      "cell_type": "markdown",
      "source": [
        "S O L U C I Ó N -- P O R -- S I M U L A C I Ó N\n",
        "\n",
        "Dado que sabemos por la solución analítica que el número promedio de lanzamientos para llegar a la casilla 20 empezando de la primera es $6.8983 \\approx 7$ , por lo que veamos si pasa lo mismo simulando el juego."
      ],
      "metadata": {
        "id": "tvWyGO8XptgR"
      }
    },
    {
      "cell_type": "code",
      "source": [
        "# Insertamos nuestras librerias\n",
        "import random as rnd\n",
        "import numpy as np\n",
        "import matplotlib.pyplot as plt"
      ],
      "metadata": {
        "id": "yqIow5BCCcfQ"
      },
      "execution_count": 51,
      "outputs": []
    },
    {
      "cell_type": "code",
      "source": [
        "# Creamos una funcion que simulara el lanzamiento de un dado ordinario\n",
        "def dado():\n",
        "    x = rnd.random() # Generamos nuestros números aleatorios\n",
        "    if 0 <= x < 1/6:     # Agregamos las probabilidades de que caiga un número del dado\n",
        "        return 1\n",
        "    if 1/6 <= x < 2/6:\n",
        "        return 2\n",
        "    if 2/6 <= x < 3/6:\n",
        "        return 3\n",
        "    if 3/6 <= x < 4/6:\n",
        "        return 4\n",
        "    if 4/6 <= x < 5/6:\n",
        "        return 5\n",
        "    return 6"
      ],
      "metadata": {
        "id": "a9oencwEDQ6L"
      },
      "execution_count": 52,
      "outputs": []
    },
    {
      "cell_type": "code",
      "source": [
        "# Creamos una función para simular un solo juego\n",
        "def jugar_una_vez(casillas, serpientes, escaleras, serpiente_pos, escalera_pos):\n",
        "    posicion = 1\n",
        "    lanzamientos = 0\n",
        "\n",
        "    while posicion < casillas:\n",
        "        lanzamientos += 1\n",
        "        lanzamiento = dado()\n",
        "        posicion += lanzamiento\n",
        "\n",
        "        # Verificar serpientes\n",
        "        if posicion in serpientes:\n",
        "            posicion = serpiente_pos[serpientes.index(posicion)]\n",
        "\n",
        "        # Verificar escaleras\n",
        "        elif posicion in escaleras:\n",
        "            posicion = escalera_pos[escaleras.index(posicion)]\n",
        "\n",
        "    return lanzamientos"
      ],
      "metadata": {
        "id": "0XQETOhNDSxW"
      },
      "execution_count": 53,
      "outputs": []
    },
    {
      "cell_type": "code",
      "source": [
        "# Creamos una función para realizar múltiples experimentos\n",
        "def exp(ne):\n",
        "    casillas = 20\n",
        "    serpientes = [13, 17]\n",
        "    serpiente_pos = [4, 10]\n",
        "    escaleras = [3, 15]\n",
        "    escalera_pos = [11, 19]\n",
        "\n",
        "    lanzamientos = []\n",
        "\n",
        "    for _ in range(ne):\n",
        "        l = jugar_una_vez(casillas, serpientes, escaleras, serpiente_pos, escalera_pos)\n",
        "        lanzamientos.append(l)\n",
        "\n",
        "    return lanzamientos"
      ],
      "metadata": {
        "id": "5VjzXV4MDfEv"
      },
      "execution_count": 54,
      "outputs": []
    },
    {
      "cell_type": "code",
      "source": [
        "# Creamos una función para generar el histograma y calcular el promedio de lanzamientos\n",
        "def histograma(lanzamientos):\n",
        "    plt.hist(lanzamientos, bins=25, color='blue', alpha=0.3)\n",
        "    plt.title('Histograma de Lanzamientos')\n",
        "    plt.axvline(np.mean(lanzamientos), color='blue', linestyle='dashed', linewidth=2, label='Media')\n",
        "    plt.xlabel('Lanzamientos')\n",
        "    plt.ylabel('Frecuencia')\n",
        "    plt.legend()\n",
        "    plt.show()"
      ],
      "metadata": {
        "id": "uUVpG14FDpPV"
      },
      "execution_count": 55,
      "outputs": []
    },
    {
      "cell_type": "code",
      "execution_count": 116,
      "metadata": {
        "colab": {
          "base_uri": "https://localhost:8080/",
          "height": 489
        },
        "id": "yJair8TeP9TE",
        "outputId": "3e66e7f5-20c7-4b67-baeb-84a50e12e22c"
      },
      "outputs": [
        {
          "output_type": "display_data",
          "data": {
            "text/plain": [
              "<Figure size 640x480 with 1 Axes>"
            ],
            "image/png": "[encoded data removed]"
          },
          "metadata": {}
        },
        {
          "output_type": "stream",
          "name": "stdout",
          "text": [
            "Promedio de lanzamientos:  6.89\n"
          ]
        }
      ],
      "source": [
        "# Número de experimentos\n",
        "ne = 1000\n",
        "\n",
        "# Realizar los experimentos\n",
        "lanzamientos = exp(ne)\n",
        "\n",
        "# Mostrar el resultado y generar el histograma\n",
        "histograma(lanzamientos)\n",
        "\n",
        "print('Promedio de lanzamientos: ', round(np.mean(lanzamientos), 2))\n"
      ]
    }
  ]
}