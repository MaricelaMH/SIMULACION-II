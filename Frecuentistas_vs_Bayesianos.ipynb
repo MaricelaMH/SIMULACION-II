{
  "nbformat": 4,
  "nbformat_minor": 0,
  "metadata": {
    "colab": {
      "provenance": [],
      "authorship_tag": "ABX9TyNcGA3NnqS8/1BSJk6Opz+k",
      "include_colab_link": true
    },
    "kernelspec": {
      "name": "python3",
      "display_name": "Python 3"
    },
    "language_info": {
      "name": "python"
    }
  },
  "cells": [
    {
      "cell_type": "markdown",
      "metadata": {
        "id": "view-in-github",
        "colab_type": "text"
      },
      "source": [
        "<a href=\"https://colab.research.google.com/github/MaricelaMH/SIMULACION-II/blob/main/Frecuentistas_vs_Bayesianos.ipynb\" target=\"_parent\"><img src=\"https://colab.research.google.com/assets/colab-badge.svg\" alt=\"Open In Colab\"/></a>"
      ]
    },
    {
      "cell_type": "markdown",
      "source": [
        " # F R E C U E N T I S T A S   _  V S  _  B A Y E S I A N O S\n",
        "\n",
        " Principalmente el desacuerdo de los frecuentistas con los bayesianos es la definición de probabilidad.\n",
        "\n",
        "1. **Definición frecuentista de la probabilidad:** Sostiene que la\n",
        "probabilidad de un evento es el límite al que tiende la frecuencia relativa de ocurrencia de dicho evento cuando el número de ensayos se incrementa indefinidamente. Es decir, según los frecuentistas, la probabilidad se basa en la observación empírica de eventos repetidos bajo condiciones similares.\n",
        "\n",
        "* Si realizamos un experimento muchas veces, la probabilidad de un evento $A$ se define como el valor al que tiende la proporción de veces que ocurre $A$ en relación al número total de ensayos.\n",
        "\n",
        "* Matemáticamente, se expresa como:\n",
        "\n",
        "\\\\\n",
        " $$ P(A) = \\lim_{n \\to ∞ } ( \\frac{\\text{Número de veces que ocurre el evento $A$}}{\\text{Número total de repeticiones del experimento}} )$$\n",
        "\n",
        "\\\\\n",
        "2. **Definición bayesiana de la probabilidad:** La probabilidad en el enfoque bayesiano se basa en el teorema de Bayes, que establece cómo actualizar las creencias o probabilidades iniciales (llamadas probabilidades a priori) cuando se adquieren nuevos datos o evidencia, resultando en una nueva probabilidad a posteriori.\n",
        "\n",
        "* El teorema de Bayes se expresa matemáticamente como:\n",
        "\n",
        "$$P(A|B)=\\frac{P(B|A)* P(A)}{P(B)}$$\n",
        "\n",
        "Donde:\n",
        "\n",
        "* $P(A∣B)$ es la probabilidad de $A$ dado que se ha observado $B$ (la probabilidad a posteriori).\n",
        "\n",
        "* $P(B∣A)$ es la probabilidad de observar $B$ si $A$ es verdadero.\n",
        "\n",
        "* $P(A)$ es la probabilidad de $A$ antes de observar $B$ (la probabilidad a priori)\n",
        "\n",
        "* $P(B)$ es la probabilidad total de observar $B$.\n",
        "\n",
        "Esta diferencia que podría decirse que es sutil, puede llevar, en la práctica, a enfoques muy diferentes para el análisis estadístico de datos. A continuación, exploraremos algunos ejemplos elegidos para ilustrar las diferencias de enfoque, junto con el código Python asociado para demostrar los aspectos prácticos de los enfoques frecuentista y bayesiano.\n",
        "\n"
      ],
      "metadata": {
        "id": "xK4-0a6b3XlD"
      }
    },
    {
      "cell_type": "markdown",
      "source": [
        "# Ejemplo 1: Mediciones del flujo de fotones\n",
        "Apuntamos un telescopio al cielo y observamos la luz que proviene de una sola estrella. Para simplificar, supondremos que el flujo fotónico real de la estrella es constante con el tiempo, es decir ,que tiene un valor fijo $F$, también ignoraremos efectos como los errores sistemáticos del fondo del cielo. Supondremos que se realizan una serie de $N$ mediciones, donde la i-ésima medición informa el flujo observado $F_i$ y el error $e_i$. La pregunta es dado este conjunto de mediciones $D = \\{F_i, e_i\\}$, ¿cuál es nuestra mejor estimación del flujo verdadero $F$?"
      ],
      "metadata": {
        "id": "GCJNv6cC-E0P"
      }
    },
    {
      "cell_type": "markdown",
      "source": [
        "* El articulo nos menciona primeramente que debemos de generar una muestra com media 1000 y en error definido como $e$:"
      ],
      "metadata": {
        "id": "-MpwcNpSkjNP"
      }
    },
    {
      "cell_type": "code",
      "execution_count": 1,
      "metadata": {
        "id": "R-E_BG0_3Wiz"
      },
      "outputs": [],
      "source": [
        "import numpy as np\n",
        "np.random.seed(2) # Si ejecutamos el código con la misma semilla (en este caso, 2), obtendremos los mismos números aleatorios\n",
        "\n",
        "# Generamos muestras de números aleatorios de una distribución normal\n",
        "e = np.random.normal(30, 3, 50) # Ponemos los datos de la media, desviacion estádar y tamaño de la muestra\n",
        "F = np.random.normal(1000, e) # Generamos un array de 50 valores con media 1000 y desviación estándar e"
      ]
    },
    {
      "cell_type": "markdown",
      "source": [
        "* Ahora dadas las mediciones y errores anteriores , ¿cuál es nuestra mejor estimación puntual del flujo verdadero?, por lo que el articulo nos da dos enfoques de solución, el frecuentista y el bayesiano."
      ],
      "metadata": {
        "id": "xPzBYB6umkM7"
      }
    },
    {
      "cell_type": "markdown",
      "source": [
        "### -> Enfoque frecuentista para la medición del flujo\n",
        "Por razones de simplicidad analítica y precisión numérica, la log-verosimilitud se utiliza para este fin, ya que maximizar la log-verosimilitud es equivalente a maximizar la verosimilitud, por lo que es más conveniente considerar la log-verosimilitud (transforma multiplicaciones de probabilidades en sumas) en lugar de la verosimilitud directa, por lo que esta biene definida como:\n",
        "\n",
        " $$ log \\mathscr{L} (D|F) = -\\frac{1}{2} \\sum_{i=1}^{N} [ log(2\\pi e_i^2)+\\frac{(F_i - F)^2}{e_i^2}]$$\n",
        "\n",
        "Nos gustaría determinar el valor de $F$ que maximiza la probabilidad. Para este problema simple, la maximización se puede calcular analíticamente, estableciendo (por ejemplo, estableciendo $\\frac{d log \\mathscr{L}}{dF}=0$), el resultado de esta maximización lleva a la siguiente estimación puntual de $F$:\n",
        "\n",
        "$$\\hat{F} = \\frac{\\sum{w_i F_i}}{\\sum{w_i}}$$\n",
        "\n",
        "Se toma cada valor en $e$ (la desviación estándar de cada elemento en $F$) y se calcula el peso correspondiente como\n",
        "\n",
        "$$w_i = \\frac{1}{e^2_i}$$\n",
        "\n",
        "el uso de $e^2_i$ indica que los valores con una mayor desviación estándar ($e$) tendrán menor peso en el promedio ponderado.\n",
        "\n",
        "De ogual manera podemos preguntarnos cuál es la incertidumbre de nuestra estimación. Una forma de lograrlo en el enfoque frecuentista es construir una aproximación gaussiana a la probabilidad máxima, por lo que se obtiene que:\n",
        "\n",
        "$$\\sigma_{\\hat{F}}=(\\sum_{i=1}^{N} w_i)^{-\\frac{1}{2}}$$\n",
        "\n",
        "lo implementamos de la siguiente manera:"
      ],
      "metadata": {
        "id": "YHvtRv-7piHK"
      }
    },
    {
      "cell_type": "code",
      "source": [
        "# Calculamos los pesos inversamente proporcionales al cuadrado del error\n",
        "w = 1. / e ** 2  # 1./ es una forma de dividir 1.0 por el valor que sigue\n",
        "F_hat = np.sum(w * F) / np.sum(w)\n",
        "sigma_F = w.sum() ** -0.5\n",
        "print(\"El valor F que maximiza la probabilidad es: \",round(F_hat,2))\n",
        "print(\"La incertidumbre asociada a la estimación es: \",round(sigma_F,2))"
      ],
      "metadata": {
        "id": "u_9hB7LPpsRL",
        "outputId": "41eaf2ed-2e29-4171-a5a6-34bbf91707a0",
        "colab": {
          "base_uri": "https://localhost:8080/"
        }
      },
      "execution_count": 2,
      "outputs": [
        {
          "output_type": "stream",
          "name": "stdout",
          "text": [
            "El valor F que maximiza la probabilidad es:  998.65\n",
            "La incertidumbre asociada a la estimación es:  4.11\n"
          ]
        }
      ]
    },
    {
      "cell_type": "markdown",
      "source": [
        "### -> Enfoque bayesiano para la medición del flujo\n",
        "\n",
        "Como es de esperar, el enfoque bayesiano comienza y termina con probabilidades. El resultado fundamental de interés es nuestro conocimiento de los parámetros en cuestión, para calcular este resultado, aplicamos a continuación el teorema de Bayes, una ley fundamental de la probabilidad:\n",
        "\n",
        "$$P(F|D)=\\frac{P(D|F) P(F)}{P(D)}$$\n",
        "\n",
        "donde:\n",
        "\n",
        "* $P(F|D)$: es la probabilidad de los parámetros del modelo dados los datos.\n",
        "* $P(D|F)$: que es proporcional a la $\\mathscr{L} (D|F)$ utilizada en el enfoque frecuentista.\n",
        "* $P(F)$: El modelo anterior, que codifica lo que sabíamos sobre el modelo antes de considerar los datos $D$.\n",
        "* $P(D)$: La evidencia del modelo, que en la práctica equivale simplemente a un término de normalización.\n",
        "\n",
        "su planteamiento es fundamentalmente contrario a la filosofia frecuentista, que dice que las probabilidades no tienen significado para parámetros fijos del modelo como F. Sin embargo, en la concepción bayesiana de la probabilidad esto no plantea ningún problema.\n",
        "Es decir, con una distribución previa plana en F, la distribución posterior bayesiana se maximiza exactamente en el mismo valor que el resultado frecuentista. Por lo tanto, a pesar de las diferencias filosóficas, vemos que las estimaciones puntuales bayesianas y frecuentistas son equivalentes para este problema simple."
      ],
      "metadata": {
        "id": "sJbCYELT76Gz"
      }
    },
    {
      "cell_type": "markdown",
      "source": [
        "### -> Divergencia de resultados\n",
        "\n",
        "En el ejemplo simple anterior, los enfoques frecuentista y bayesiano arrojan básicamente el mismo resultado. Sin embargo, si bien es fácil demostrar que los dos enfoques suelen ser equivalentes para problemas simples, también es cierto que pueden divergir en gran medida en otras situaciones, esta divergencia suele manifestarse de dos maneras diferentes:\n",
        "\n",
        "1. El manejo de parámetros molestos: es decir, parámetros que afectan el resultado final, pero que no son de interés en ningún otro sentido.\n",
        "\n",
        "Un parámetro molesto es cualquier cantidad cuyo valor no es directamente relevante para el objetivo de un análisis, pero que sin embargo, es necesario para determinar el resultado que interesa.\n",
        "2. El diferente manejo de la incertidumbre: por ejemplo, la diferencia sutil (y a menudo pasada por alto) entre los intervalos de confianza frecuentistas y las regiones creíbles bayesianas.\n",
        "\n",
        "A continuación discutiremos ejemplos de esto."
      ],
      "metadata": {
        "id": "WpFPj3duABKS"
      }
    },
    {
      "cell_type": "markdown",
      "source": [
        "# Ejemplo 2: El juego de billar de Bayes\n",
        "\n",
        "Se trata de un juego de apuestas en el que Alicia y Bob apuestan sobre el resultado de un proceso que no pueden observar directamente.\n",
        "Alice y Bob entran en una habitación, detrás de una cortina hay una mesa de billar, que no pueden ver, su amiga Carol hace rodar una bola por la mesa y marca dónde cae. Una vez que la marca está en su lugar, Carol comienza a hacer rodar nuevas bolas por la mesa. Si la bola cae a la izquierda de la marca, Alice obtiene un punto; si cae a la derecha de la marca, Bob obtiene un punto. Podemos suponer que los lanzamientos de Carol son imparciales: es decir, las bolas tienen la misma probabilidad de terminar en cualquier lugar de la mesa. La primera persona que alcance los seis puntos gana el juego, en este caso, la ubicación de la marca (determinada por el primer lanzamiento) puede considerarse un parámetro molesto: es desconocido y no tiene interés inmediato, pero claramente debe tenerse en cuenta al predecir el resultado de los lanzamientos posteriores. Si el primer lanzamiento se establece muy a la derecha, los lanzamientos posteriores favorecerán a Alice. Si se establece muy a la izquierda, Bob será el favorecido. Con esta configuración, buscamos responder a esta pregunta: en un juego en particular, después de ocho lanzamientos, Alice tiene cinco puntos y Bob tiene tres puntos. ¿Cuál es la probabilidad de que Bob obtenga seis puntos y gane el juego?. Intuitivamente, nos damos cuenta de que, como Alice recibió cinco de los ocho puntos, la ubicación del marcador probablemente la favorezca. Dado que tiene tres oportunidades de obtener un sexto punto antes de que Bob pueda ganar, parece que lo ha conseguido. Pero, cuantitativamente hablando, ¿cuál es la probabilidad de que Bob persista para ganar?"
      ],
      "metadata": {
        "id": "Yjog7T1VDW8F"
      }
    },
    {
      "cell_type": "markdown",
      "source": [
        "### -> Un enfoque frecuentista ingenuo\n",
        "\n",
        "Como cinco bolas de ocho calleron en el lado del marcador de Alicia, calculamos la estimación de máxima verosimilitud de p, dada por:\n",
        "\n",
        "$$\\hat{p} = \\frac{5}{8}$$\n",
        "\n",
        "De la probabilidad binomial se sigue un resultado de manera directa. Suponiendo esta probabilidad máxima, podemos calcular la probabilidad de que Bob gane, lo que requiere que obtenga un punto en cada uno de los tres lanzamientos siguientes. Esto viene dado por:\n",
        "\n",
        "$$P(B)=(1-\\hat{p})^3$$\n",
        "\n",
        "lo implementamos de la siguiente manera"
      ],
      "metadata": {
        "id": "4Z-6E2okFuXq"
      }
    },
    {
      "cell_type": "code",
      "source": [
        "p_hat = 5/8\n",
        "P_B = (1-p_hat)**3\n",
        "print(\"La probabilidad de que Bob gane es: \",round(P_B,2))"
      ],
      "metadata": {
        "id": "auiZ5pLXGwF2",
        "outputId": "c6159069-f02a-4716-ca62-7ce742d15c94",
        "colab": {
          "base_uri": "https://localhost:8080/"
        }
      },
      "execution_count": 3,
      "outputs": [
        {
          "output_type": "stream",
          "name": "stdout",
          "text": [
            "La probabilidad de que Bob gane es:  0.05\n"
          ]
        }
      ]
    },
    {
      "cell_type": "markdown",
      "source": [
        "### -> Enfoque bayesiano\n",
        "Un enfoque bayesiano para este problema implica marginalizar (es decir, integrar) la $p$ desconocida de modo que, suponiendo que lo anterior sea preciso, nuestro resultado debe ser independiente de su valor real.\n",
        "En este sentido, consideraremos las siguientes cantidades:\n",
        "1. $B=$ Bob gana.\n",
        "2. $D=$ Datos observados, es decir $D=(5,3)$\n",
        "3. $\\rho =$ probabilidad desconocida de que una pelota caiga en el lado de Alicia durante el juego actual.\n",
        "Comenzamos aplicando la definición de probabilidad condicional para\n",
        "expandir el término $P(B,\\rho|D)$:\n",
        "\n",
        "$$P(B|D)=\\int P(B|\\rho,D)P(\\rho|D)d\\rho$$\n",
        "\n",
        "Finalmente, utilizando la misma identidad de probabilidad con la que comenzamos, podemos expandir $P(D)$ en el denominador para encontrar:\n",
        "\n",
        "$$P(B|D)=\\frac{\\int P(B|\\rho,D)P(D|\\rho)P(\\rho)d\\rho}{\\int P(D|\\rho)P(\\rho)d\\rho}$$\n",
        "\n",
        "donde:\n",
        "\n",
        "* $P(B∣\\rho,D):$ Es la probabilidad de que Bob gane tres veces seguidas dados un valor de $\\rho$ (probabilidad de ganar un juego) y los datos $D$. Se calcula como $(1-\\rho)^3$\n",
        "* $P(D|\\rho):$ Es la probabilidad de obtener exactamente 5 éxitos (victorias de Alice) en 8 intentos, dado el valor $\\rho$. Esto se obtiene usando la distribución binomial:\n",
        "$P(D|\\rho)$ -> $\\rho^5 (1-\\rho)^3$\n",
        "* $P(\\rho):$ Es la probabilidad a priori de $\\rho$. En este caso, se asume que $\\rho$ es uniforme entre 0 y 1.\n",
        "\n",
        "por lo que\n",
        "\n",
        "$$P(B|D)=\\frac{\\int_{0}^{1} (1-\\rho)^6 \\rho^5 d\\rho}{\\int_{0}^{1} (1-\\rho)^3 \\rho^5 d\\rho}$$\n",
        "\n",
        "Estas integrales son instancias de la función beta, por lo que podemos\n",
        "evaluar rápidamente el resultado usando scipy:\n"
      ],
      "metadata": {
        "id": "WtyZbZzLG6Cr"
      }
    },
    {
      "cell_type": "code",
      "source": [
        "from scipy.special import beta # Se importa la función beta\n",
        "P_B_D = beta(6+1, 5+1) / beta(3+1, 5+1) # los valores pueden representar el número de éxitos y fracasos en un contexto de estimación bayesiana\n",
        "print(\"La probabilidad de que Bob gane es: \",round(P_B_D,2))"
      ],
      "metadata": {
        "id": "bxRhhHFNOcvj",
        "outputId": "cfb9a8bc-96b8-4e06-afdf-98086f33b063",
        "colab": {
          "base_uri": "https://localhost:8080/"
        }
      },
      "execution_count": 4,
      "outputs": [
        {
          "output_type": "stream",
          "name": "stdout",
          "text": [
            "La probabilidad de que Bob gane es:  0.09\n"
          ]
        }
      ]
    },
    {
      "cell_type": "markdown",
      "source": [
        "* El enfoque bayesiano da probabilidades de 10 a 1 en contra de Bob, mientras que el enfoque frecuentista ingenuo da probabilidades de 18 a 1 en contra de Bob. Entonces, ¿cuál es correcto?\n",
        "Para un problema tan simple como este, podemos responder a esta pregunta empíricamente simulando una gran cantidad de juegos y contando la fracción de juegos adecuados que Bob gana. El resultado de dicha simulación confirma el resultado\n",
        "bayesiano: 10 a 1 en contra de la victoria de Bob. ¿El frecuentismo es incorrecto?, no necesariamente: en este caso, el resultado incorrecto es más una cuestión de que el enfoque sea \"ingenuo\" que de que sea\n",
        "\"frecuentista\"."
      ],
      "metadata": {
        "id": "TbqPi5q0PNFx"
      }
    },
    {
      "cell_type": "markdown",
      "source": [
        "# Confianza vs. Credibilidad\n",
        "\n",
        "A la hora de construir un límite estándar del 95% sobre un parámetro $\\theta$:\n",
        " * Un bavesiano diría: \"Dados nuestros datos observados, hay un 95% de probabilidad de que el verdadero valor de $\\theta$ se encuentre dentro de la región creíble\".\n",
        " * Un frecuentista diría: \"Si este experimento se repite muchas veces, en el 95% de estos casos el intervalo de confianza calculado contendrá el verdadero 0.25\".\n",
        "\n",
        "Observemos la sutil diferencia: el bayesiano enuncia una probabilidad sobre el valor del parámetro dada una región creíble fija. El frecuentista enuncia una probabilidad sobre el intervalo de confianza en sí dado un valor de parámetro fijo. Esta distinción se desprende directamente de la definición de probabilidad que se ha analizado anteriormente, la probabilidad bayesiana es una afirmación del grado de conocimiento sobre un parámetro, la probabilidad frecuentista es una afirmación de la frecuencia límite a largo plazo de las cantidades (como el intervalo de confianza) derivadas de los datos.\n",
        "\n",
        "El frecuentismo no busca una afirmación probabilística sobre un intervalo fijo, como lo hace el enfoque bayesiano; en cambio, busca afirmaciones probabilísticas sobre un conjunto de intervalos construidos, siendo el intervalo calculado particular sólo una única extracción de entre ellos."
      ],
      "metadata": {
        "id": "ShqSwiNwRR0r"
      }
    },
    {
      "cell_type": "markdown",
      "source": [
        "# Ejemplo 3 (Bayesianismo): El método Monte Carlo con cadenas de Markov\n",
        "\n",
        "Un punto de inflexión en la computación bayesiana práctica fue el desarrollo y la aplicación de métodos de muestreo como Markov Chain Monte Carlo, los cuales son una clase de algoritmos que pueden caracterizar de manera eficiente incluso distribuciones posteriores de alta dimensión mediante la extracción de muestras\n",
        "aleatorias de manera que los puntos se distribuyan de acuerdo hacia la parte posterior.\n",
        "A continuación, propondremos vemos modelo sencillo y compararemos un enfoque frecuentista estándar\n",
        "con tres implementaciones de MCMC disponibles en Python.\n",
        "\n"
      ],
      "metadata": {
        "id": "3hTtL8FWTs5A"
      }
    },
    {
      "cell_type": "markdown",
      "source": [
        "### -> Un modelo lineal simple\n",
        "Consideremos un modelo lineal simple de tres parámetros que ajusta una línea recta a datos con errores desconocidos. Los parámetros serán la intersección con el eje $\\alpha$, la pendiente $\\beta$ y la dispersión normal (desconocida) o sobre la línea.\n",
        "Para los datos $D = {(xi, yi)}$, el modelo es\n",
        "\n",
        "$$ \\hat{y}(x_i|\\alpha,\\beta)=\\alpha + \\beta x_i$$\n",
        "\n",
        "y la probabilidad es el producto de la distribución gaussiana para cada\n",
        "punto:\n",
        " $$\\mathscr{L}(D|\\alpha,\\beta,\\sigma)=(2\\pi\\sigma^2)^{-\\frac{N}{2}} \\prod_{i=1}^{N} \\text{ exp }[\\frac{-{[y_i-\\hat{y}(x_i|\\alpha,\\beta)]^2}}{2\\sigma^2}] $$\n",
        "\n",
        " Evaluaremos este modelo en el siguiente conjunto de datos:\n"
      ],
      "metadata": {
        "id": "7Fog8YSKUyfy"
      }
    },
    {
      "cell_type": "code",
      "source": [
        "np.random.seed(42) # Fija la semilla del generador de números aleatorios para asegurar la reproducibilidad de los resultados\n",
        "theta_true = (25, 0.5) # Define los parámetros del modelo lineal (intersección y pendiente)\n",
        "xdata = 100 * np.random.random(20) # Genera 20 valores aleatorios de x entre 0 y 100\n",
        "ydata = theta_true[0] + theta_true[1] * xdata # Calcula los valores de y correspondientes a la línea recta\n",
        "ydata = np.random.normal(ydata, 10) # # Agrega ruido aleatorio a los valores de y con una desviación estándar de 10\n"
      ],
      "metadata": {
        "id": "CPsQKXJMRSiw"
      },
      "execution_count": 5,
      "outputs": []
    },
    {
      "cell_type": "markdown",
      "source": [
        "####-> Solución frecuentista\n",
        "\n",
        "Se puede encontrar una solución frecuentista calculando la estimación puntual de máxima verosimilitud.\n",
        "Si definimos el vector $\\theta = [\\alpha \\beta]^T$ el vector de respuesta, $Y=[y_1 , y_2, y_3 , ... , y_N]^T$ y la matriz de diseño:\n",
        "\n",
        "$$\\begin{equation}\n",
        "\\begin{bmatrix}\n",
        " 1 & 1 & 1 & ... & 1\\\\\n",
        "x_1 & x_2 & x_3 & ... & x_N\n",
        "\\end{bmatrix}\n",
        "\\end{equation}$$\n",
        "\n",
        "Se puede demostrar que la solución de máxima verosimilitud\n",
        "\n",
        "$$\\hat{\\theta}=(X^T X )^{-1} (X^T Y) $$"
      ],
      "metadata": {
        "id": "UNdeMb1cS4KK"
      }
    },
    {
      "cell_type": "code",
      "source": [
        "X = np.vstack([np.ones_like(xdata), xdata]).T #Creamos la matriz X de diseño para el modelo de regresión lineal\n",
        "theta_hat = np.linalg.solve(np.dot(X.T, X),np.dot(X.T, ydata)) #np.dont(..) calcula el producto de matrices\n",
        "                                                               # np.linalg.solve(...) resuelve el sistema de ecuaciones para obtener theta\n",
        "y_hat = np.dot(X, theta_hat) # Se predice el valor de y tomando en cuenta los coeficientres obtenidos por theta\n",
        "sigma_hat = np.std(ydata - y_hat) # Se calcula la desviación estándar de los residuos (errores)\n",
        "Sigma = sigma_hat ** 2 *  np.linalg.inv(np.dot(X.T, X)) # Se calcula la matriz de covarianza de los estimadores de los coeficientes theta"
      ],
      "metadata": {
        "id": "6DBIG8D6FgS9"
      },
      "execution_count": 6,
      "outputs": []
    },
    {
      "cell_type": "markdown",
      "source": [
        "En la práctica, el enfoque frecuentista suele depender de muchos más diagnósticos estadísticos que la máxima verosimilitud y el intervalo de confianza. Para este problema, se puede utilizar de la siguiente manera:"
      ],
      "metadata": {
        "id": "A35m9N0f4xWb"
      }
    },
    {
      "cell_type": "code",
      "source": [
        "import statsmodels.api as sm # version 0.5\n",
        "X = sm.add_constant(xdata) # sm.add_constant(...) agrega un término constante al conjunto de datos de entrada xdata\n",
        "result = sm.OLS(ydata, X).fit() # sm.OLS(...) crea un modelo de regresión lineal utilizando el metodo de minimos cuadrados\n",
        "                                # .fit(...) ajusta el modelo a los datos, estimando los coeficientes de la regresión\n",
        "sigma_hat = result.params    # Contiene los coeficientes estimados (o parámetros) del modelo\n",
        "Sigma = result.cov_params()   # Contiene la matriz de covarianza de los coeficientes estimados\n",
        "print(result.summary2())  # Imprime un resumen detallado de los resultados del ajuste del modelo de regresión"
      ],
      "metadata": {
        "id": "nPtvbfJ85FRf",
        "outputId": "13ba1f9e-0aca-4c96-fa4f-82858b0dbe29",
        "colab": {
          "base_uri": "https://localhost:8080/"
        }
      },
      "execution_count": 7,
      "outputs": [
        {
          "output_type": "stream",
          "name": "stdout",
          "text": [
            "                 Results: Ordinary least squares\n",
            "=================================================================\n",
            "Model:              OLS              Adj. R-squared:     0.683   \n",
            "Dependent Variable: y                AIC:                147.7737\n",
            "Date:               2024-10-08 16:53 BIC:                149.7651\n",
            "No. Observations:   20               Log-Likelihood:     -71.887 \n",
            "Df Model:           1                F-statistic:        41.97   \n",
            "Df Residuals:       18               Prob (F-statistic): 4.30e-06\n",
            "R-squared:          0.700            Scale:              86.157  \n",
            "-------------------------------------------------------------------\n",
            "            Coef.    Std.Err.     t      P>|t|     [0.025    0.975]\n",
            "-------------------------------------------------------------------\n",
            "const      24.6361     3.7871   6.5053   0.0000   16.6797   32.5924\n",
            "x1          0.4483     0.0692   6.4782   0.0000    0.3029    0.5937\n",
            "-----------------------------------------------------------------\n",
            "Omnibus:              1.996        Durbin-Watson:           2.758\n",
            "Prob(Omnibus):        0.369        Jarque-Bera (JB):        1.634\n",
            "Skew:                 0.651        Prob(JB):                0.442\n",
            "Kurtosis:             2.486        Condition No.:           100  \n",
            "=================================================================\n",
            "Notes:\n",
            "[1] Standard Errors assume that the covariance matrix of the\n",
            "errors is correctly specified.\n"
          ]
        }
      ]
    },
    {
      "cell_type": "markdown",
      "source": [
        "Podríamos imaginarnos cómo abordar este problema transformando las varables, por ejemplo, haciendo uso del Prior de Jeffreys en el contexto de un modelo de regresión lineal. Se propone transformar variables utilizando un prior plano en el ángulo que la línea forma con el eje $x$, en lugar de usar la pendiente. A través de transformaciones y usando el Jacobiano, se deduce que la probabilidad conjunta de los parámetros $\\alpha$ y $\\beta$ debe ser proporcional a $$(1+\\beta^2)^{\\frac{3}{2}}$$\n",
        "\n",
        "por lo que se argumenta que para el parámetro $\\sigma$ (la desviación estándar), el Prior de Jeffreys es inversamente proporcional a $\\sigma$, es decir, $$P(\\sigma)∝1/\\sigma$$, lo que equivale a un prior plano en el logaritmo de $\\sigma$,por lo que el prior no informativo para el problema de regresión lineal es proporcional a $$\\frac{1}{\\sigma}(1+\\beta^2)^{-\\frac{3}{2}}$$ y se puede usar este prior junto con la verosimilitud para evaluar el posterior usando métodos como MCMC.\n",
        "\n"
      ],
      "metadata": {
        "id": "CB31fFJD6XlM"
      }
    },
    {
      "cell_type": "markdown",
      "source": [
        "### Solición con presentador\n",
        "\n",
        "El paquete emcee en Python, implementa un método de muestreo MCMC llamado Affine Invariant Ensemble MCMC. Este método es una versión avanzada de MCMC, propuesto por Goodman y Weare en 2010. El paquete emcee es ligero y fácil de usar, ya que solo requiere definir una función en Python que represente el logaritmo del posterior.\n",
        "\n",
        "Para mayor claridad, la definición del posterior se descompone en dos partes: el log-prior (logaritmo del prior) y el log-likelihood (logaritmo de la verosimilitud), que se utilizan para el muestreo."
      ],
      "metadata": {
        "id": "RqQSiLxR9dlA"
      }
    },
    {
      "cell_type": "code",
      "source": [
        "!pip install -q emcee # Installs the emcee package if it's not already installed\n",
        "\n",
        "import emcee # librería para realizar muestreo de cadenas de Markov\n",
        "import numpy as np # Make sure to import numpy\n",
        "\n",
        "\n",
        "def log_prior(theta):\n",
        "    alpha, beta, sigma = theta\n",
        "    if sigma < 0:\n",
        "        return -np.inf\n",
        "    else:\n",
        "        return (-1.5 * np.log(1 + beta ** 2) - np.log(sigma))\n",
        "\n",
        "def log_like(theta, x, y):  # Funcion de verosimilitud\n",
        "    alpha, beta, sigma = theta\n",
        "    y_model = alpha + beta * x\n",
        "    # Fix: Use np.pi * sigma instead of np.pisigma\n",
        "    return -0.5 * np.sum(np.log(2 * np.pi * sigma ** 2) + (y - y_model) ** 2 / sigma ** 2)\n",
        "\n",
        "def log_posterior(theta, x, y):\n",
        "    return log_prior(theta) + log_like(theta, x, y)\n",
        "\n"
      ],
      "metadata": {
        "id": "9eZWZg359w98",
        "outputId": "864fb735-a53d-4d4b-e786-8fa56a8ea746",
        "colab": {
          "base_uri": "https://localhost:8080/"
        }
      },
      "execution_count": 8,
      "outputs": [
        {
          "output_type": "stream",
          "name": "stdout",
          "text": [
            "\u001b[?25l   \u001b[90m━━━━━━━━━━━━━━━━━━━━━━━━━━━━━━━━━━━━━━━━\u001b[0m \u001b[32m0.0/47.4 kB\u001b[0m \u001b[31m?\u001b[0m eta \u001b[36m-:--:--\u001b[0m\r\u001b[2K   \u001b[90m━━━━━━━━━━━━━━━━━━━━━━━━━━━━━━━━━━━━━━━━\u001b[0m \u001b[32m47.4/47.4 kB\u001b[0m \u001b[31m2.5 MB/s\u001b[0m eta \u001b[36m0:00:00\u001b[0m\n",
            "\u001b[?25h"
          ]
        }
      ]
    },
    {
      "cell_type": "markdown",
      "source": [
        "A continuación, configuramos el cálculo. emcee combina varios \"caminantes\" que interactúan, cada uno de los cuales genera su propia cadena de Markov. También especificaremos un período de rodaje para permitir\n",
        "que las cadenas se estabilicen antes de dibujar los trazos finales:"
      ],
      "metadata": {
        "id": "g7RdknphActv"
      }
    },
    {
      "cell_type": "code",
      "source": [
        "ndim=3 # Indica que se muestrearán tres parámetros del modelo\n",
        "nwalkers=50 # Utiliza 50 caminantes para explorar el espacio de parámetros.\n",
        "nburn=100 # Descartará los primeros 100 pasos de cada caminante\n",
        "nsteps=20 # Indica que los caminantes realizarán 20 pasos después del \"burn-in\"\n",
        "starting_guesses=np.random.rand(nwalkers,ndim) #Los caminantes comienzan en posiciones aleatorias en un cubo tridimensional de valores entre 0 y 1."
      ],
      "metadata": {
        "id": "s_iaRzXf-Z8z"
      },
      "execution_count": 9,
      "outputs": []
    },
    {
      "cell_type": "code",
      "source": [
        "sampler=emcee.EnsembleSampler(nwalkers,ndim,log_posterior,args=[xdata,ydata])\n",
        "sampler.run_mcmc(starting_guesses,nsteps) # se ejecuta el muestreo"
      ],
      "metadata": {
        "id": "baF_VmTRBVPe",
        "outputId": "0871587f-dd6c-46bb-d9fb-95fbaa2b4be5",
        "colab": {
          "base_uri": "https://localhost:8080/"
        }
      },
      "execution_count": null,
      "outputs": [
        {
          "output_type": "execute_result",
          "data": {
            "text/plain": [
              "State([[ 0.3763919   0.79886258  1.21177699]\n",
              " [ 0.64299545  0.69689583  1.19831571]\n",
              " [ 1.35122147  0.82573427  1.1175031 ]\n",
              " [ 0.94405975  0.62865287  1.22145464]\n",
              " [-0.12924585  0.97886393  1.60234028]\n",
              " [ 6.48524827  0.96246102  3.35054845]\n",
              " [11.60934366  0.74243132 10.16325352]\n",
              " [15.49071841  0.56871489 14.73210227]\n",
              " [ 5.53784646  0.75543389  3.17309771]\n",
              " [41.15339607  0.30153534 30.06638605]\n",
              " [ 0.09448164  0.88310874  1.77496312]\n",
              " [ 0.77349468  1.03781048  2.21963606]\n",
              " [ 6.52889933  0.77866798  3.22780982]\n",
              " [ 4.12059196  0.52778713  3.96419113]\n",
              " [ 1.84388302  0.68115604  1.08378125]\n",
              " [ 1.48375863  0.80601919  1.20536222]\n",
              " [ 3.25515743  0.87344422  1.79801087]\n",
              " [ 3.70166503  0.51293817  1.66903624]\n",
              " [ 2.83344396  0.77582472  2.40452792]\n",
              " [27.30254077  0.38609556  7.87732631]\n",
              " [ 1.86187372  0.83690771  1.23884616]\n",
              " [ 3.59668033  0.62418803  3.78653728]\n",
              " [ 0.74626056  0.74620825  1.42961018]\n",
              " [ 1.25348442  0.75577482  1.07733496]\n",
              " [10.51767541  0.86359623  5.0870221 ]\n",
              " [ 4.34976047  0.60940594  4.72513859]\n",
              " [ 0.56560294  0.91383626  1.29620157]\n",
              " [ 2.70437696  0.83438344  1.80063883]\n",
              " [ 0.76941098  0.56397973  1.11941112]\n",
              " [ 3.56580461  0.6611916   3.61677605]\n",
              " [12.317972    0.92501664 12.40071814]\n",
              " [ 2.37483749  0.9138512   1.74977816]\n",
              " [ 1.50927776  0.47356535  2.5529503 ]\n",
              " [ 3.44662141  0.78989786  2.75057431]\n",
              " [ 4.47624537  0.72499849  3.43199605]\n",
              " [ 1.34254281  0.32875523  1.85908183]\n",
              " [ 2.56533326  0.92251839  1.3876984 ]\n",
              " [ 1.67946617  0.72307183  1.54276901]\n",
              " [ 0.22354223  0.68908737  2.72686263]\n",
              " [ 0.67004224  0.3465586   1.82047792]\n",
              " [ 1.33571563  0.68463743  2.00719052]\n",
              " [ 0.32778863  0.76536133  1.81981453]\n",
              " [ 1.97683839  0.76003942  1.83786676]\n",
              " [ 2.87553211  0.83874375  1.71705379]\n",
              " [ 3.02842525  0.56591346  2.27352193]\n",
              " [ 1.2528704   0.81506711  2.1855492 ]\n",
              " [-8.00737396  1.47602526  6.45022672]\n",
              " [ 0.36695331  0.5525113   1.05464605]\n",
              " [ 6.27408889  0.8896268   6.78073408]\n",
              " [ 2.01798953  0.48111414  2.00991122]], log_prob=[-1763.47756907 -2058.25647962 -1957.50648466 -2336.51133487\n",
              " -1318.10425639  -351.36445282   -82.7873105    -80.07201851\n",
              "  -229.81022259   -92.11499219  -885.41721456  -847.62714639\n",
              "  -220.88153214  -281.92891238 -2349.81055802 -1665.19816053\n",
              "  -785.58413446 -1481.56188263  -418.74451315   -74.99407172\n",
              " -1575.89124605  -238.01719521 -1311.08967844 -2168.0975328\n",
              "  -152.49954346  -171.3440131  -1691.6417702   -740.09478293\n",
              " -3489.11743109  -234.44841846   -96.37800291  -923.81328452\n",
              "  -898.96899377  -322.33210735  -216.90389521 -2687.53854674\n",
              " -1479.62874578 -1091.97629463  -455.66370074 -2765.60127617\n",
              "  -737.60926669  -828.61783908  -728.63562943  -809.8413783\n",
              "  -719.5025795   -542.25909284  -355.99312878 -4223.93377399\n",
              "  -115.13706966 -1331.67200124], blobs=None, random_state=('MT19937', array([3710027072,  703276831, 1985392177, 4134152641, 3282151224,\n",
              "       1779538131,  570459091, 4175290543, 1870407218, 1290421141,\n",
              "       1048637181, 3425032313, 3284747736, 2907911215, 1733346050,\n",
              "       2216915657, 3224980222, 1889253625, 1687498020,  739816236,\n",
              "       3529216835, 4275998814,  839619832, 3507777218, 2700520340,\n",
              "       1248666805, 2891945440, 3988693050, 1262685162, 2038706604,\n",
              "       3725157307, 1557444629, 2479717825,  858138248, 2203586209,\n",
              "        221453251, 3426399686, 2144839557, 3572116475, 4111904125,\n",
              "       4209890512,  117121684, 2872677890,  120582017, 2867304801,\n",
              "        105857553, 3592763271,  206881759, 1314547021, 3420431193,\n",
              "       3374762950, 2757681245, 2212986124, 1405750339, 3208292798,\n",
              "        814752454, 1937339897,  522290853,  967839276,  268785840,\n",
              "       1233888248, 1579477632, 3858694201, 2777310704, 2604103963,\n",
              "        116031526, 1290689440, 2054794261, 3917301340, 1905192630,\n",
              "        257661537,  500976549,  412783129,  225131250, 2590791003,\n",
              "       1770700678, 3348499051, 3127074816, 1688205005, 2237452579,\n",
              "       2200777557,  630187838, 3815080540, 2196080121, 1760718434,\n",
              "       2974082087, 3273086974, 2790973997, 2351379780,  743184870,\n",
              "       2235680502, 3784152012, 1625316863, 2458045318, 1948425014,\n",
              "       3114962225,  444533243, 1621205661, 2825079656, 1715062740,\n",
              "       4219433521, 3276648936,  422826287,  878609250, 4191986783,\n",
              "       1681086916,  736564436, 2144092273, 1718652673, 4051799966,\n",
              "       2663037585, 3100858496,  841768196, 2097550879, 2689053382,\n",
              "       2360002116,  516398087, 1279576275, 2888557909, 1877410498,\n",
              "       3585735981, 3778208425, 2752514063,  254913836, 3106684055,\n",
              "        632209795, 2629869457, 2981304244, 1818666307, 1375804768,\n",
              "       4058072307, 1339492074, 3370575846, 2439043590, 3308355370,\n",
              "       2536446465, 3762356897, 4033489191,  909602894, 2400705072,\n",
              "       2356369947,  357794967, 3793460811, 3945504641,   39302641,\n",
              "        171474147, 3604748340, 4267254626, 3138818159, 2283866628,\n",
              "       2205723984,  898637432, 3807662191, 1271213177,   22378253,\n",
              "       2371853358,  788464006, 3345530974, 4233783139, 2215476166,\n",
              "       1706859401, 2857298817, 1189203776, 3517960895, 2517659170,\n",
              "       4183972086, 1303638820, 4268407133, 3097366818, 1678583064,\n",
              "       3051761889,  293270458, 3197932712, 3505476175, 4025056057,\n",
              "       1533983148, 4198676442, 3420784319, 1337230214, 2532694402,\n",
              "       3822736799, 2131088573, 3724829683, 3097390747, 1923541206,\n",
              "        983415862, 3504703545, 3027809964, 2850344797, 2216702125,\n",
              "       2686115646,  472116517, 4290819806, 1003380318, 2634361126,\n",
              "       1175453925, 1267489516, 1842488358,  896695359, 1232008087,\n",
              "       4241795097, 1411989443, 4126972221, 2082306428, 3899839974,\n",
              "       3923489425, 3942751940, 3852981396,   25294577,  420908463,\n",
              "       3349993878, 3122186392, 3694348599, 4143696558,  149905458,\n",
              "       4136548632, 1464806137, 4185906689, 3639296762, 2523286838,\n",
              "       4014823570,  498417742,  263615644, 2509145488, 1870103768,\n",
              "       1570085442,  567238015, 3410563467, 2306150591, 3484241139,\n",
              "       3050572674, 3017668658, 3931902894, 4000400152, 3454016854,\n",
              "        525063511, 3227256494, 2371223033, 3215693041,  544389239,\n",
              "       1341091746,   93589759,  312829905, 4213799614,  134828671,\n",
              "       2715590006, 3133351017, 1796010502, 1841476538, 3131453016,\n",
              "       2846989878,  731635243, 3841415097, 3573985875, 1497530192,\n",
              "       2296887380, 2054389420, 1999615308,  272739116, 2449492218,\n",
              "       2472935692, 1030107256,  455405667, 2281070050, 2187433068,\n",
              "       2655583934, 3712363823, 3503099343, 1426067564, 1958442106,\n",
              "       2621292793,  262752667, 2465782535,  545596854, 3857551121,\n",
              "       1164278918, 3519810713, 3239878842, 1813674527, 1318940237,\n",
              "       1756652014, 3641876063,  660617348,  480525024, 2734785493,\n",
              "       3682867339, 1955642818, 1791615206,  480240603, 3517832987,\n",
              "        483332705,   36212351,  758770309, 3077042121, 2098637037,\n",
              "       1225361706,  857047927, 3441312405, 4127908523, 3165500563,\n",
              "        948543955, 1042136242, 2347276535, 4028901125, 3407421756,\n",
              "        411380425, 3495368916, 3725412923,  619850504, 2811522197,\n",
              "        317314089, 3685923050, 4109462400, 2989285812, 1925502340,\n",
              "       1512706141, 2504336656, 1419228113, 3191393862,  339469023,\n",
              "       3599132107,  703801142, 3946095871, 2338088932, 1753174373,\n",
              "       2297167829, 3065691850, 3410588124, 3337039059, 1485203886,\n",
              "        651406093, 2824065942,  436595956, 4157303127, 3207776286,\n",
              "       2887391896, 2891246705, 3152246844, 2277228628,  948747603,\n",
              "       3469750534,   52263183, 3233884973, 3053991016, 2462915527,\n",
              "          6455738, 2169770845, 1953685163,  744760893, 3081588395,\n",
              "       3318927237, 2094666680,  272225043, 1698462413, 4013064324,\n",
              "        983706993,  492432373,  978190147, 4100684529, 3173285581,\n",
              "       1718414376, 3800774484, 1605500243, 3282904251, 2030184133,\n",
              "       2134093245, 1891928890, 3533380273, 3040342508, 2691433109,\n",
              "        620329511, 2035932744, 3119570453, 3607273099, 1242682290,\n",
              "       2268793105,   51906390, 3834213453, 1287470099, 2032406324,\n",
              "          7632260, 1220865281, 1147393523, 3255092652,  449781247,\n",
              "        699352999, 1491412968,  816560367, 3911054264,  458717093,\n",
              "       1159904016,  457901218, 4256743391,  265855432, 2100919450,\n",
              "       1487605896, 3779409518,  948918881, 1960850440, 1867167246,\n",
              "       1042120090, 2341473019, 2518222036, 3484105327, 1367837665,\n",
              "       1559097977, 2111765114, 2040462644,  875638073, 2060740322,\n",
              "       2719172244, 2909297896, 3431770527,  237159446,   19073198,\n",
              "       2710947880,  832258956, 1445191768, 3789500412, 3900047090,\n",
              "       1341832453, 3673482385, 1465106655,  201721259, 3439777583,\n",
              "        534107251, 1154091949,  782676672, 3623904546, 3482890186,\n",
              "       3198815892, 1774293919, 2601809837, 1494598314, 4120365159,\n",
              "       1250433110, 2286416671, 2514760570, 3073125935, 2677207522,\n",
              "       2525787557, 2974845233, 3863419139, 2270802997, 2849710020,\n",
              "        587918803, 1922098461, 3923639736, 1138968854, 4256716219,\n",
              "       2936057631, 4137248893,  517517499,  176975202, 3546621099,\n",
              "       3613036059, 4088629273, 2574567026, 3517041139, 2555133142,\n",
              "       3447790146, 1842818959, 1940768048,  659514659, 1767344663,\n",
              "       3749762869, 1384783996, 2690574911,  324983003, 2538174340,\n",
              "       2333548716, 3585205478, 3352569215, 2387549204, 4287209455,\n",
              "       2996769383, 2297585782,  242159996, 1404166686, 2642892716,\n",
              "        345501634, 1662787216, 2867074283, 1992018959, 2032129196,\n",
              "        395284719,  638723967, 3606504270, 3015594733,  333210626,\n",
              "       1404521828, 2951525610,  384529475, 3545938740, 1923375529,\n",
              "       1649720552, 4168028007, 4137574220, 1467166280, 2057343230,\n",
              "       3972506129, 3633110918, 2076347623, 4150490251, 1820482509,\n",
              "       3612604539,  142242991,  999024554, 3668382339, 4093342720,\n",
              "        933460771,  512172123,  104789715, 2455222856,  797485320,\n",
              "        100332868, 1219371920, 3460489401, 2535949904, 3738963548,\n",
              "       4109015718, 2461267799, 2463454536, 1825432068, 1798315548,\n",
              "       1778720716, 4023328190, 2043282070, 3536990014, 2911846628,\n",
              "       2444180327, 3672944469,  832609400, 4276815552, 2666417583,\n",
              "       2619065016, 1873617814, 2964609375, 2722633981, 2792090884,\n",
              "        682228744, 3655940432,  217204174, 2205101159, 1980991128,\n",
              "       2535061114,  275245486, 1742488860, 2309759499, 2647086162,\n",
              "       3166203413, 2177096742,  597281430, 1398478591, 2487368665,\n",
              "       3566725337, 2473880470, 3457118769, 2738684268,  917341344,\n",
              "       3765758790,   27649644, 1139202551, 1377841500, 2300743393,\n",
              "       3474623963, 4100967605, 2142424558, 4216801865, 3482664912,\n",
              "        823356423, 1900764502, 3970754609, 3619921846, 1584766726,\n",
              "       2214344988, 3579763312,  250752541, 4036648709,  372758660,\n",
              "       2336926517,  324717461,  646904827, 3871145168, 2546881746,\n",
              "       2755331691,  905062440, 2604887036, 1358624705, 1471765692,\n",
              "       3979936449, 3329319577, 1749809819, 2268956916, 1819832658,\n",
              "       1525502924,  530888416,  253772327, 2571934314, 1843693765,\n",
              "        353573613, 3208119948, 1021612843,  877713095, 2931608745,\n",
              "        833182830, 2204413900, 2744393134, 3048187585,  360596711,\n",
              "       1254639619, 3851626502, 4213599053, 2731782248, 3399995020,\n",
              "       2678423989, 3771739174, 3259845611,  474487639,  564863742,\n",
              "        704959312, 1236091120, 2536165145, 2413065422], dtype=uint32), 197, 0, 0.0))"
            ]
          },
          "metadata": {},
          "execution_count": 54
        }
      ]
    },
    {
      "cell_type": "markdown",
      "source": [
        "A continuacio se muestra un paquete que utiliza el clásico muestreador Metropolis-Hastings y ofrece muchas características integradas, como soporte para el muestreo eficiente de distribuciones previas comunes. Debido a estas capacidades, PyMC requiere un poco más de configuración inicial en comparación con emcee, pero resulta ser una herramienta muy poderosa para realizar inferencias bayesianas flexibles."
      ],
      "metadata": {
        "id": "Q0Z5PoyuC9Dt"
      }
    },
    {
      "cell_type": "code",
      "source": [
        "!pip install -q pymc3==3.11.5 theano-pymc==1.1.2\n"
      ],
      "metadata": {
        "id": "iRFccJhJeO23"
      },
      "execution_count": 39,
      "outputs": []
    },
    {
      "cell_type": "code",
      "source": [
        "import pymc3 as pm\n",
        "\n",
        "# Suponiendo que tienes tus datos 'xdata' y 'ydata'\n",
        "xdata = np.random.rand(100)\n",
        "ydata = 2.5 * xdata + np.random.randn(100)\n",
        "\n",
        "with pm.Model() as model:\n",
        "    # Definir las distribuciones previas para alpha, beta y sigma\n",
        "    alpha = pm.Uniform('alpha', -100, 100)\n",
        "    beta = pm.Normal('beta', mu=0, sigma=10)\n",
        "    sigma = pm.HalfNormal('sigma', sigma=1)\n",
        "\n",
        "    # Definir la función modelo\n",
        "    y_model = alpha + beta * xdata\n",
        "\n",
        "    # Definir la verosimilitud\n",
        "    y_obs = pm.Normal('y_obs', mu=y_model, sigma=sigma, observed=ydata)\n",
        "\n",
        "    # Ejecutar el muestreo MCMC\n",
        "    trace = pm.sample(1000, tune=1000, chains=2)\n",
        "\n",
        "# Mostrar un resumen de los resultados del muestreo\n",
        "pm.summary(trace)\n",
        "\n"
      ],
      "metadata": {
        "id": "AIyrBP8EIfCr",
        "outputId": "530939e8-b7ff-4a13-8a40-19fa86e8dc87",
        "colab": {
          "base_uri": "https://localhost:8080/",
          "height": 461
        }
      },
      "execution_count": 40,
      "outputs": [
        {
          "output_type": "stream",
          "name": "stdout",
          "text": [
            "!!!!!!!!!!!!!!!!!!!!!!!!!!!!!!!!!!!!!!!!!!!!!!!!!!!!!!!!!!!!\n",
            "The imported Theano(-PyMC) module is broken.\n",
            "It was imported from _NamespacePath(['/usr/local/lib/python3.10/dist-packages/theano'])\n",
            "Try to uninstall/reinstall it after closing all active sessions/notebooks.\n",
            "Also see https://github.com/pymc-devs/pymc3/wiki for installation instructions.\n",
            "!!!!!!!!!!!!!!!!!!!!!!!!!!!!!!!!!!!!!!!!!!!!!!!!!!!!!!!!!!!!\n"
          ]
        },
        {
          "output_type": "error",
          "ename": "AttributeError",
          "evalue": "module 'theano' has no attribute 'config'",
          "traceback": [
            "\u001b[0;31m---------------------------------------------------------------------------\u001b[0m",
            "\u001b[0;31mAttributeError\u001b[0m                            Traceback (most recent call last)",
            "\u001b[0;32m<ipython-input-40-c4934d72a17c>\u001b[0m in \u001b[0;36m<cell line: 1>\u001b[0;34m()\u001b[0m\n\u001b[0;32m----> 1\u001b[0;31m \u001b[0;32mimport\u001b[0m \u001b[0mpymc3\u001b[0m \u001b[0;32mas\u001b[0m \u001b[0mpm\u001b[0m\u001b[0;34m\u001b[0m\u001b[0;34m\u001b[0m\u001b[0m\n\u001b[0m\u001b[1;32m      2\u001b[0m \u001b[0;34m\u001b[0m\u001b[0m\n\u001b[1;32m      3\u001b[0m \u001b[0;31m# Suponiendo que tienes tus datos 'xdata' y 'ydata'\u001b[0m\u001b[0;34m\u001b[0m\u001b[0;34m\u001b[0m\u001b[0m\n\u001b[1;32m      4\u001b[0m \u001b[0mxdata\u001b[0m \u001b[0;34m=\u001b[0m \u001b[0mnp\u001b[0m\u001b[0;34m.\u001b[0m\u001b[0mrandom\u001b[0m\u001b[0;34m.\u001b[0m\u001b[0mrand\u001b[0m\u001b[0;34m(\u001b[0m\u001b[0;36m100\u001b[0m\u001b[0;34m)\u001b[0m\u001b[0;34m\u001b[0m\u001b[0;34m\u001b[0m\u001b[0m\n\u001b[1;32m      5\u001b[0m \u001b[0mydata\u001b[0m \u001b[0;34m=\u001b[0m \u001b[0;36m2.5\u001b[0m \u001b[0;34m*\u001b[0m \u001b[0mxdata\u001b[0m \u001b[0;34m+\u001b[0m \u001b[0mnp\u001b[0m\u001b[0;34m.\u001b[0m\u001b[0mrandom\u001b[0m\u001b[0;34m.\u001b[0m\u001b[0mrandn\u001b[0m\u001b[0;34m(\u001b[0m\u001b[0;36m100\u001b[0m\u001b[0;34m)\u001b[0m\u001b[0;34m\u001b[0m\u001b[0;34m\u001b[0m\u001b[0m\n",
            "\u001b[0;32m/usr/local/lib/python3.10/dist-packages/pymc3/__init__.py\u001b[0m in \u001b[0;36m<module>\u001b[0;34m\u001b[0m\n\u001b[1;32m    110\u001b[0m \u001b[0;34m\u001b[0m\u001b[0m\n\u001b[1;32m    111\u001b[0m \u001b[0m_check_backend_version\u001b[0m\u001b[0;34m(\u001b[0m\u001b[0;34m)\u001b[0m\u001b[0;34m\u001b[0m\u001b[0;34m\u001b[0m\u001b[0m\n\u001b[0;32m--> 112\u001b[0;31m \u001b[0m__set_compiler_flags\u001b[0m\u001b[0;34m(\u001b[0m\u001b[0;34m)\u001b[0m\u001b[0;34m\u001b[0m\u001b[0;34m\u001b[0m\u001b[0m\n\u001b[0m\u001b[1;32m    113\u001b[0m \u001b[0m_hotfix_theano_printing\u001b[0m\u001b[0;34m(\u001b[0m\u001b[0;34m)\u001b[0m\u001b[0;34m\u001b[0m\u001b[0;34m\u001b[0m\u001b[0m\n\u001b[1;32m    114\u001b[0m \u001b[0;34m\u001b[0m\u001b[0m\n",
            "\u001b[0;32m/usr/local/lib/python3.10/dist-packages/pymc3/__init__.py\u001b[0m in \u001b[0;36m__set_compiler_flags\u001b[0;34m()\u001b[0m\n\u001b[1;32m     81\u001b[0m \u001b[0;32mdef\u001b[0m \u001b[0m__set_compiler_flags\u001b[0m\u001b[0;34m(\u001b[0m\u001b[0;34m)\u001b[0m\u001b[0;34m:\u001b[0m\u001b[0;34m\u001b[0m\u001b[0;34m\u001b[0m\u001b[0m\n\u001b[1;32m     82\u001b[0m     \u001b[0;31m# Workarounds for Theano compiler problems on various platforms\u001b[0m\u001b[0;34m\u001b[0m\u001b[0;34m\u001b[0m\u001b[0m\n\u001b[0;32m---> 83\u001b[0;31m     \u001b[0mcurrent\u001b[0m \u001b[0;34m=\u001b[0m \u001b[0mtheano\u001b[0m\u001b[0;34m.\u001b[0m\u001b[0mconfig\u001b[0m\u001b[0;34m.\u001b[0m\u001b[0mgcc__cxxflags\u001b[0m\u001b[0;34m\u001b[0m\u001b[0;34m\u001b[0m\u001b[0m\n\u001b[0m\u001b[1;32m     84\u001b[0m     \u001b[0maugmented\u001b[0m \u001b[0;34m=\u001b[0m \u001b[0;34mf\"{current} -Wno-c++11-narrowing\"\u001b[0m\u001b[0;34m\u001b[0m\u001b[0;34m\u001b[0m\u001b[0m\n\u001b[1;32m     85\u001b[0m \u001b[0;34m\u001b[0m\u001b[0m\n",
            "\u001b[0;31mAttributeError\u001b[0m: module 'theano' has no attribute 'config'"
          ]
        }
      ]
    },
    {
      "cell_type": "code",
      "source": [
        "S=pymc.MCMC(model)\n",
        "S.sample(iter=10000,burn=1000)\n",
        "trace=[S.trace('alpha')[:],S.trace('beta')[:],S.trace('sigma')[:]]"
      ],
      "metadata": {
        "id": "sY8j2F7tKXdQ"
      },
      "execution_count": null,
      "outputs": []
    },
    {
      "cell_type": "markdown",
      "source": [
        "### Solución con PyStan\n",
        "El lenguaje Stan está diseñado especificamente para la expresión de modelos probabilísticos; PyStan permite que los modelos Stan especificados en forma de cadenas de Python sean analizados, compilados y ejecutados por la biblioteca Stan."
      ],
      "metadata": {
        "id": "E1qf3CTYKP2W"
      }
    },
    {
      "cell_type": "code",
      "source": [
        "import pystan\n",
        "model_code=\"\"\"\n",
        "data {\n",
        "  int<lower=0> N; //nuber of points\n",
        "  vector[N] x; // x values\n",
        "  vector[N] y; // y values\n",
        "}\n",
        "parameters {\n",
        "  real alpha_perp;\n",
        "  real <lower =-pi()/2, upper = pi()/2> theta;\n",
        "  real log_sigma;\n",
        "}\n",
        "transformed parameters {\n",
        "  real alpha;\n",
        "  real beta;\n",
        "  real sigma;\n",
        "  real ymodel[N];\n",
        "  alpha <- alpha_perp / cos(theta);\n",
        "  beta <- sin(theta);\n",
        "  sigma <- exp(log_sigma);\n",
        "  for (j in 1:N)\n",
        "     ymodel[j] <- alpha + beta * x[j];\n",
        "     }\n",
        "model {\n",
        "  y ~ normal(ymodel,sigma);\n",
        "}\n",
        "\"\"\"\n",
        "data={'N':len(xdata),'x':xdata,'y':ydata}\n",
        "fit=pystan.stan(model_code=model_code,data=data,iter=25000,chains=4)\n",
        "tr = fit.extract()\n",
        "trace = [tr['alpha'],tr['beta'],tr['sigma']]\n"
      ],
      "metadata": {
        "id": "RhRoMKxjKXbg"
      },
      "execution_count": null,
      "outputs": []
    },
    {
      "cell_type": "markdown",
      "source": [
        "Finalmente, combinamos estas ideas y mostramos varios ejemplos del uso del frecuentismo y el bayesianismo en un problema de regresión lineal más realista, utilizando varios paquetes maduros disponibles en el ecosistema del lenguaje Python. Juntos, estos paquetes ofrecen un conjunto de herramientas para el análisis estadístico tanto en el marco frecuentista\n",
        "como en el bayesiano. ¿Cuál es entonces el mejor enfoque? Es una cuestión de ideología personal, pero también depende de la naturaleza del problema en cuestión. Los enfoques frecuentistas suelen calcularse fácilmente y son adecuados para procesos y mediciones verdaderamente repetibles, pero pueden encontrarse con obstáculos con conjuntos pequeños de datos y modelos que se alejan mucho del modelo gaussiano. Existen herramientas frecuentistas para estas situaciones, pero a menudo requieren consideraciones sutiles y conocimientos especializados. Los enfoques bayesianos requieren la especificación de un valor previo potencialmente subjetivo y a menudo implican un cálculo intensivo mediante MCMC."
      ],
      "metadata": {
        "id": "Su-B0VCvMkLz"
      }
    }
  ]
}