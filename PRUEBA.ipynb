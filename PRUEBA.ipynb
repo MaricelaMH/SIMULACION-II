{
  "nbformat": 4,
  "nbformat_minor": 0,
  "metadata": {
    "colab": {
      "provenance": [],
      "authorship_tag": "ABX9TyNWoO3B924O6YgkI2QPz6Fl",
      "include_colab_link": true
    },
    "kernelspec": {
      "name": "python3",
      "display_name": "Python 3"
    },
    "language_info": {
      "name": "python"
    }
  },
  "cells": [
    {
      "cell_type": "markdown",
      "metadata": {
        "id": "view-in-github",
        "colab_type": "text"
      },
      "source": [
        "<a href=\"https://colab.research.google.com/github/MaricelaMH/SIMULACION-II/blob/main/PRUEBA.ipynb\" target=\"_parent\"><img src=\"https://colab.research.google.com/assets/colab-badge.svg\" alt=\"Open In Colab\"/></a>"
      ]
    },
    {
      "cell_type": "code",
      "source": [
        "import numpy as np\n",
        "\n",
        "# Función objetivo: cos(pi/2 * x)\n",
        "def f(x):\n",
        "    return (1 - x**2)\n",
        "\n",
        "# Función de densidad de probabilidad g(x) = 3/2(1 - x^2)\n",
        "def g(x):\n",
        "    return (3/2) * (1 - x**2)\n",
        "\n",
        "# Inversa de la función de distribución acumulada de g(x), para muestrear de g(x)\n",
        "def sample_from_g(num_samples):\n",
        "    u = np.random.uniform(0, 1, num_samples)\n",
        "    return np.sqrt(1 - u)\n",
        "\n",
        "# Función para estimar la integral usando el método de la media muestral\n",
        "def importance_sampling_integral_mean_sample(num_samples):\n",
        "    # Muestrear de la distribución g(x) = 3/2(1 - x^2)\n",
        "    samples = sample_from_g(num_samples)\n",
        "\n",
        "    # Evaluar la función f(x) en las muestras\n",
        "    values_f = f(samples)\n",
        "\n",
        "    # Evaluar la función g(x) en las muestras\n",
        "    values_g = g(samples)\n",
        "\n",
        "    # Calcular los pesos f(x) / g(x)\n",
        "    weights = values_f / values_g\n",
        "\n",
        "    # Estimar la integral como el promedio ponderado de los valores\n",
        "    estimate = np.mean(weights)\n",
        "\n",
        "    return estimate\n",
        "\n",
        "# Número de muestras\n",
        "num_samples = 1000\n",
        "\n",
        "# Estimar la integral\n",
        "estimated_integral = importance_sampling_integral_mean_sample(num_samples)\n",
        "\n",
        "print(f\"Estimación de la integral usando el método de la media muestral con muestreo de importancia: {estimated_integral:.5f}\")\n",
        "\n",
        "# Valor real de la integral (resuelto analíticamente)\n",
        "true_integral = 2 / np.pi  # Aproximadamente 0.63662\n",
        "print(f\"Valor real de la integral: {true_integral:.5f}\")\n"
      ],
      "metadata": {
        "id": "Jr7aXQiuSKj8"
      },
      "execution_count": null,
      "outputs": []
    }
  ]
}