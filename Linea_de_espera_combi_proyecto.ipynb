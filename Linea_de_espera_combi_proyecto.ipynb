{
  "nbformat": 4,
  "nbformat_minor": 0,
  "metadata": {
    "colab": {
      "provenance": [],
      "authorship_tag": "ABX9TyNCXyd3phnJpijsPYyCdzhx",
      "include_colab_link": true
    },
    "kernelspec": {
      "name": "python3",
      "display_name": "Python 3"
    },
    "language_info": {
      "name": "python"
    }
  },
  "cells": [
    {
      "cell_type": "markdown",
      "metadata": {
        "id": "view-in-github",
        "colab_type": "text"
      },
      "source": [
        "<a href=\"https://colab.research.google.com/github/MaricelaMH/SIMULACION-II/blob/main/Linea_de_espera_combi_proyecto.ipynb\" target=\"_parent\"><img src=\"https://colab.research.google.com/assets/colab-badge.svg\" alt=\"Open In Colab\"/></a>"
      ]
    },
    {
      "cell_type": "markdown",
      "source": [
        "## SIMULACIÓN DE UNA PARADA DE COMBIS"
      ],
      "metadata": {
        "id": "HrjKLwCq4JXm"
      }
    },
    {
      "cell_type": "markdown",
      "source": [
        "Contexto del problema: En Naucalpan de Juarez, Estado de México, hay una parada de combis en el paradero de Cuatro Caminos donde los pasajeros se forman para esperar la próxima llegada de una combi. Esta parada sigue una disciplina de servicio primero en entrar, primero en salir (FIFO), donde la combi recoge a los pasajeros en el orden en que llegaron. Para ello realizaremos una simulación para lograr entender mejor el comportamiento de nuestro sistema y asi tomar desiciones sobre los horarios y capacidad de las combis para evitar tiempos de esperas excesivos parea los pasajeros."
      ],
      "metadata": {
        "id": "mNHmR8RW6hDS"
      }
    },
    {
      "cell_type": "markdown",
      "source": [
        "1. Para simular lo anterior, usaremos la libreria simpy por lo que la importaremos junto con las demas librerias que usaremos."
      ],
      "metadata": {
        "id": "lkfkWw1J85Iz"
      }
    },
    {
      "cell_type": "code",
      "execution_count": 52,
      "metadata": {
        "colab": {
          "base_uri": "https://localhost:8080/"
        },
        "id": "GK5RJpSM4GRi",
        "outputId": "fd840975-e595-45fa-8593-db7a3c6b2ec4"
      },
      "outputs": [
        {
          "output_type": "stream",
          "name": "stdout",
          "text": [
            "Requirement already satisfied: simpy in /usr/local/lib/python3.10/dist-packages (4.1.1)\n"
          ]
        }
      ],
      "source": [
        "!pip install simpy"
      ]
    },
    {
      "cell_type": "code",
      "source": [
        "import matplotlib.pyplot as plt\n",
        "import numpy as np\n",
        "import random\n",
        "import simpy"
      ],
      "metadata": {
        "id": "qHy1el1J-ZuT"
      },
      "execution_count": 53,
      "outputs": []
    },
    {
      "cell_type": "markdown",
      "source": [
        "2. Definimos nuestros parámetros"
      ],
      "metadata": {
        "id": "HePryAX4-fOP"
      }
    },
    {
      "cell_type": "code",
      "source": [
        "# Parámetros del sistema de combis\n",
        "tiempo_llegada_pasajeros = 5                 # Tasa de llegada de los pasajeros (1 cada 5 minutos)\n",
        "tiempo_llegada_combis =  20                 # Tasa de llegada de combis (1 cada 20 minutos)\n",
        "cap_combi = 19              # Capacidad máxima de pasajeros de cada combi\n",
        "tiempo_prom_abordo = 1/2     # Tiempo promedio de abordo de cada pasajero (en minutos)"
      ],
      "metadata": {
        "id": "nPVXuJxa_L56"
      },
      "execution_count": 103,
      "outputs": []
    },
    {
      "cell_type": "code",
      "source": [
        "# Tiempo de simulación (en minutos)\n",
        "tiempo_simulacion=120"
      ],
      "metadata": {
        "id": "kyk37EV9BClf"
      },
      "execution_count": 104,
      "outputs": []
    },
    {
      "cell_type": "code",
      "source": [
        "# Creamos nuestras listas para almacenar nuestros datos\n",
        "longitud_cola=[]\n",
        "tiempo_espera=[]\n",
        "tiempos_abordo=[]\n",
        "combis_necesarias=[]  # Lista para la cantidad de combis necesarias"
      ],
      "metadata": {
        "id": "GAWwddrLACAf"
      },
      "execution_count": 105,
      "outputs": []
    },
    {
      "cell_type": "markdown",
      "source": [
        "3. Creamos una función que nos ayudara a simular la llegada de los pasajeros a la parada de combis las cuales suelen seguir una distribución exponencial, por lo que la media estara definida como:\n",
        "\n",
        "$$ \\mu = \\frac{1}{ll}  $$\n",
        "\n",
        "donde $ll$ es el tiempo promedio de llegada de los pasajeros"
      ],
      "metadata": {
        "id": "TSekK8mwDc7_"
      }
    },
    {
      "cell_type": "code",
      "source": [
        "# Función para simular cuando los pasajeros llegan a la parada de combis.\n",
        "def llegada_pasajeros(env, cola_pasajeros,tiempo_pasajero, texto=True):\n",
        "  numero_pasajero = 1  # Contador para identificar cada pasajero\n",
        "  while True:\n",
        "        # Sabiendo que el tiempos de llegada de los pasajeros siguen una distribución exponencial\n",
        "        tiempo_ll_pas = np.random.exponential(1 / tiempo_llegada_pasajeros)\n",
        "        yield env.timeout(tiempo_ll_pas) #Pausamos la ejecución durante tiempo_ll unidades de tiempo\n",
        "\n",
        "        pasajero = f'--- El pasajero número {numero_pasajero}'\n",
        "        print(f'{pasajero} llegó en el minuto {env.now:.2}----')\n",
        "\n",
        "        cola_pasajeros.put((pasajero,env.now)) #Guardamos el tiempo de llegada de los pasajeros\n",
        "        tiempo_pasajero.append(env.now) #Guardamos el tiempo de llegada de los pasajeros\n",
        "\n",
        "        numero_pasajero+=1 #Incrementamos el contador de pasajeros\n",
        "\n",
        "        # Actualizamos la longitud de la cola\n",
        "        longitud_cola.append(len(cola_pasajeros.items))"
      ],
      "metadata": {
        "id": "okaKe8RwGN0q"
      },
      "execution_count": 106,
      "outputs": []
    },
    {
      "cell_type": "markdown",
      "source": [
        "4. Creamos nuevamente otra función que nos ayudara a simular el tiempo de llegadas de las combis"
      ],
      "metadata": {
        "id": "Yfcwa_SWbP45"
      }
    },
    {
      "cell_type": "code",
      "source": [
        "def llegada_combis(env, cola_pasajeros,combis,tiempo_pasajero,texto=True):\n",
        "   numero_combi = 1  # Contador para identificar cada combi\n",
        "   while True:\n",
        "        # El tiempo de llegada sigue una distribución exponencial\n",
        "        tiempo_ll_com = np.random.exponential(1 / tiempo_llegada_combis)\n",
        "        yield env.timeout(tiempo_ll_com)\n",
        "\n",
        "        combi = f' La combi número {numero_combi}'\n",
        "        print(f'{combi} llegó en el minuto {env.now:.2f} ***')\n",
        "        pasajeros = []\n",
        "        tiempo_abordo_combi = 0\n",
        "\n",
        "        # Las personas abordan la combi hasta que se llena\n",
        "        while len(pasajeros) < cap_combi and len(cola_pasajeros.items) > 0:\n",
        "            pasajero, tiempo_ll_pas = yield cola_pasajeros.get()  # Persona sube a la combi\n",
        "            pasajeros.append(pasajero)\n",
        "            tiempo_abordo_combi += random.expovariate(tiempo_prom_abordo)  # Tiempo de abordo de cada persona (promedio 2 minutos)\n",
        "            # Registramos el tiempo de espera para esta persona (tiempo de llegada a la cola y tiempo de abordo)\n",
        "            tiempo_espera_pasajero = env.now - tiempo_ll_pas\n",
        "            tiempo_espera.append(tiempo_espera_pasajero)\n",
        "            print(f'{pasajero} subió a  {combi} después de {tiempo_espera_pasajero:.3f} minutos de espera +++')\n",
        "\n",
        "        # La combi parte con los pasajeros\n",
        "        combis.put(pasajeros)\n",
        "        print(f'{combi} se fue con {len(pasajeros)} pasajeros <--.')\n",
        "\n",
        "        # Registrar el tiempo de abordo de cada persona\n",
        "        tiempos_abordo.append(tiempo_abordo_combi / len(pasajeros) if pasajeros else 0)\n",
        "\n",
        "        # Registrar la cantidad de combis necesarias (realmente activas)\n",
        "        combis_necesarias.append(len(pasajeros))  # Una nueva combi disponible\n",
        "        numero_combi += 1  # Incrementar el ID de la combi"
      ],
      "metadata": {
        "id": "VHNIbeIcJQP2"
      },
      "execution_count": 107,
      "outputs": []
    },
    {
      "cell_type": "markdown",
      "source": [
        "5. Creamos una función llamada abordaje la cual ayudara a simular el tiempo que le lleva al pasajero abordar una combi , donde utilizaremos una distribución uniforme para determinar el tiempo mínimo y máximo de abordaje del pasajero."
      ],
      "metadata": {
        "id": "shDYGMSRKwWB"
      }
    },
    {
      "cell_type": "code",
      "source": [
        "def estimar_num_combis(): # Calculamos el numero de combis necesarias\n",
        "    # Tasa de llegada de personas\n",
        "    tasa_llegada_personas = 1 / tiempo_llegada_pasajeros\n",
        "    # Número estimado de combis\n",
        "    num_combis_estimadas = (tasa_llegada_personas * tiempo_simulacion) / cap_combi\n",
        "    print(f'El número estimado de combis necesarias es de: {num_combis_estimadas:.2f}')\n",
        "    return num_combis_estimadas"
      ],
      "metadata": {
        "id": "uLBOWpDXIcAN"
      },
      "execution_count": 108,
      "outputs": []
    },
    {
      "cell_type": "code",
      "source": [
        "def simular():\n",
        "    \"\"\"Función principal para ejecutar la simulación.\"\"\"\n",
        "    env = simpy.Environment()\n",
        "    cola_pasajeros = simpy.Store(env)  # Cola de personas\n",
        "    combis = simpy.Store(env)  # Cola de combis\n",
        "    tiempo_pasajero = []  # Para guardar el tiempo de llegada de cada persona\n",
        "\n",
        "    # Arrancamos los procesos de llegada\n",
        "    env.process(llegada_pasajeros(env, cola_pasajeros, tiempo_pasajero))\n",
        "    env.process(llegada_combis(env, cola_pasajeros, combis, tiempo_pasajero))\n",
        "\n",
        "    # Ejecutamos la simulación\n",
        "    env.run(until=tiempo_simulacion)\n",
        "\n",
        "    # Estimamos el número de combis necesarias\n",
        "    estimar_num_combis()\n"
      ],
      "metadata": {
        "id": "U8Fp0hN3I50F"
      },
      "execution_count": 109,
      "outputs": []
    },
    {
      "cell_type": "code",
      "source": [
        "# Ejecutamos la simulación\n",
        "simular()"
      ],
      "metadata": {
        "id": "UV5Fi4yVJy-1",
        "outputId": "c8bbb966-3056-4d5a-85a4-a807a129d4b1",
        "colab": {
          "base_uri": "https://localhost:8080/"
        }
      },
      "execution_count": 110,
      "outputs": [
        {
          "output_type": "stream",
          "name": "stdout",
          "text": [
            "--- El pasajero número 1 llegó en el minuto 1.8----\n",
            "--- El pasajero número 2 llegó en el minuto 1.8----\n",
            "--- El pasajero número 3 llegó en el minuto 8.8----\n",
            "--- El pasajero número 4 llegó en el minuto 9.3----\n",
            "--- El pasajero número 5 llegó en el minuto 2.2e+01----\n",
            "--- El pasajero número 6 llegó en el minuto 2.6e+01----\n",
            "--- El pasajero número 7 llegó en el minuto 3e+01----\n",
            " La combi número 1 llegó en el minuto 31.76 ***\n",
            "--- El pasajero número 1 subió a   La combi número 1 después de 29.988 minutos de espera +++\n",
            "--- El pasajero número 2 subió a   La combi número 1 después de 29.925 minutos de espera +++\n",
            "--- El pasajero número 3 subió a   La combi número 1 después de 22.959 minutos de espera +++\n",
            "--- El pasajero número 4 subió a   La combi número 1 después de 22.439 minutos de espera +++\n",
            "--- El pasajero número 5 subió a   La combi número 1 después de 9.994 minutos de espera +++\n",
            "--- El pasajero número 6 subió a   La combi número 1 después de 5.755 minutos de espera +++\n",
            "--- El pasajero número 7 subió a   La combi número 1 después de 2.205 minutos de espera +++\n",
            " La combi número 1 se fue con 7 pasajeros <--.\n",
            "--- El pasajero número 8 llegó en el minuto 4e+01----\n",
            "--- El pasajero número 9 llegó en el minuto 4.2e+01----\n",
            "--- El pasajero número 10 llegó en el minuto 5.5e+01----\n",
            "--- El pasajero número 11 llegó en el minuto 6.4e+01----\n",
            "--- El pasajero número 12 llegó en el minuto 6.8e+01----\n",
            "--- El pasajero número 13 llegó en el minuto 7.2e+01----\n",
            "--- El pasajero número 14 llegó en el minuto 7.6e+01----\n",
            "--- El pasajero número 15 llegó en el minuto 8.2e+01----\n",
            "--- El pasajero número 16 llegó en el minuto 9.7e+01----\n",
            "--- El pasajero número 17 llegó en el minuto 9.8e+01----\n",
            " La combi número 2 llegó en el minuto 98.43 ***\n",
            "--- El pasajero número 8 subió a   La combi número 2 después de 58.454 minutos de espera +++\n",
            "--- El pasajero número 9 subió a   La combi número 2 después de 56.286 minutos de espera +++\n",
            "--- El pasajero número 10 subió a   La combi número 2 después de 43.572 minutos de espera +++\n",
            "--- El pasajero número 11 subió a   La combi número 2 después de 34.150 minutos de espera +++\n",
            "--- El pasajero número 12 subió a   La combi número 2 después de 30.495 minutos de espera +++\n",
            "--- El pasajero número 13 subió a   La combi número 2 después de 26.275 minutos de espera +++\n",
            "--- El pasajero número 14 subió a   La combi número 2 después de 22.111 minutos de espera +++\n",
            "--- El pasajero número 15 subió a   La combi número 2 después de 16.711 minutos de espera +++\n",
            "--- El pasajero número 16 subió a   La combi número 2 después de 1.486 minutos de espera +++\n",
            "--- El pasajero número 17 subió a   La combi número 2 después de 0.049 minutos de espera +++\n",
            " La combi número 2 se fue con 10 pasajeros <--.\n",
            "--- El pasajero número 18 llegó en el minuto 1e+02----\n",
            " La combi número 3 llegó en el minuto 101.07 ***\n",
            "--- El pasajero número 18 subió a   La combi número 3 después de 0.510 minutos de espera +++\n",
            " La combi número 3 se fue con 1 pasajeros <--.\n",
            "--- El pasajero número 19 llegó en el minuto 1.1e+02----\n",
            "--- El pasajero número 20 llegó en el minuto 1.1e+02----\n",
            "--- El pasajero número 21 llegó en el minuto 1.2e+02----\n",
            "--- El pasajero número 22 llegó en el minuto 1.2e+02----\n",
            "El número estimado de combis necesarias es de: 1.26\n"
          ]
        }
      ]
    }
  ]
}