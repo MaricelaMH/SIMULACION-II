{
  "nbformat": 4,
  "nbformat_minor": 0,
  "metadata": {
    "colab": {
      "provenance": [],
      "authorship_tag": "ABX9TyOmSXSF07Kz9rzyZSa+nis1",
      "include_colab_link": true
    },
    "kernelspec": {
      "name": "python3",
      "display_name": "Python 3"
    },
    "language_info": {
      "name": "python"
    }
  },
  "cells": [
    {
      "cell_type": "markdown",
      "metadata": {
        "id": "view-in-github",
        "colab_type": "text"
      },
      "source": [
        "<a href=\"https://colab.research.google.com/github/MaricelaMH/SIMULACION-II/blob/main/Linea_de_espera_combi_proyecto.ipynb\" target=\"_parent\"><img src=\"https://colab.research.google.com/assets/colab-badge.svg\" alt=\"Open In Colab\"/></a>"
      ]
    },
    {
      "cell_type": "markdown",
      "source": [
        "## SIMULACIÓN DE UNA PARADA DE COMBIS"
      ],
      "metadata": {
        "id": "HrjKLwCq4JXm"
      }
    },
    {
      "cell_type": "markdown",
      "source": [
        "Contexto del problema: En Naucalpan de Juarez, Estado de México, hay una parada de combis en el paradero de Cuatro Caminos donde los pasajeros se forman para esperar la próxima llegada de una combi. Esta parada sigue una disciplina de servicio primero en entrar, primero en salir (FIFO), donde la combi recoge a los pasajeros en el orden en que llegaron. Para ello realizaremos una simulación para lograr entender mejor el comportamiento de nuestro sistema y asi tomar desiciones sobre los horarios y capacidad de las combis para evitar tiempos de esperas excesivos parea los pasajeros."
      ],
      "metadata": {
        "id": "mNHmR8RW6hDS"
      }
    },
    {
      "cell_type": "markdown",
      "source": [
        "1. Para simular lo anterior, usaremos la libreria simpy por lo que la importaremos junto con las demas librerias que usaremos."
      ],
      "metadata": {
        "id": "lkfkWw1J85Iz"
      }
    },
    {
      "cell_type": "code",
      "execution_count": 1,
      "metadata": {
        "colab": {
          "base_uri": "https://localhost:8080/"
        },
        "id": "GK5RJpSM4GRi",
        "outputId": "06b21d89-7f35-4265-dcbc-241293230bc4"
      },
      "outputs": [
        {
          "output_type": "stream",
          "name": "stdout",
          "text": [
            "Collecting simpy\n",
            "  Downloading simpy-4.1.1-py3-none-any.whl.metadata (6.1 kB)\n",
            "Downloading simpy-4.1.1-py3-none-any.whl (27 kB)\n",
            "Installing collected packages: simpy\n",
            "Successfully installed simpy-4.1.1\n"
          ]
        }
      ],
      "source": [
        "!pip install simpy"
      ]
    },
    {
      "cell_type": "code",
      "source": [
        "import matplotlib.pyplot as plt\n",
        "import numpy as np\n",
        "from random import random, seed\n",
        "import pandas as pd\n",
        "import simpy"
      ],
      "metadata": {
        "id": "qHy1el1J-ZuT"
      },
      "execution_count": 2,
      "outputs": []
    },
    {
      "cell_type": "markdown",
      "source": [
        "2. Definimos nuestros parámetros"
      ],
      "metadata": {
        "id": "HePryAX4-fOP"
      }
    },
    {
      "cell_type": "code",
      "source": [
        "# Parámetros del sistema de combis\n",
        "no_combis = 1            # Cantidad de combis disponibles en la parada\n",
        "tc_min = 1                  # Tiempo mínimo de abordaje por pasajero (minutos)\n",
        "tc_max = 2                  # Tiempo máximo de abordaje por pasajero (minutos)\n",
        "ll = 2 / 1                  # Tasa de llegada de los pasajeros (2 cada minuto)\n",
        "mu = 1 / 15                 # Tasa de llegada de combis (1 cada 15 minutos)\n",
        "clientes = 100               # Total de pasajeros a simular\n",
        "cifras = 2                  # Cantidad de cifras decimales para mostrar\n",
        "cap_combi = 19              # Capacidad máxima de pasajeros de cada combi"
      ],
      "metadata": {
        "id": "nPVXuJxa_L56"
      },
      "execution_count": 21,
      "outputs": []
    },
    {
      "cell_type": "code",
      "source": [
        "TLL, TA, TS = [], [], []   # Listas para tiempos de llegada de los pasajeros, abordaje, y tiempo de salida de la combi"
      ],
      "metadata": {
        "id": "yQFLZ7bLApVX"
      },
      "execution_count": 22,
      "outputs": []
    },
    {
      "cell_type": "code",
      "source": [
        "# Parámetro de simulación\n",
        "semilla = 13\n",
        "seed(semilla)"
      ],
      "metadata": {
        "id": "kyk37EV9BClf"
      },
      "execution_count": 23,
      "outputs": []
    },
    {
      "cell_type": "markdown",
      "source": [
        "3. Creamos una función que nos ayudara a simular la llegada de los pasajeros a la parada de combis las cuales suelen seguir una distribución exponencial, por lo que la media estara definida como:\n",
        "\n",
        "$$ \\mu = \\frac{1}{ll}  $$\n",
        "\n",
        "donde $ll$ es el tiempo promedio de llegada de los pasajeros"
      ],
      "metadata": {
        "id": "TSekK8mwDc7_"
      }
    },
    {
      "cell_type": "code",
      "source": [
        "# Función para simular cuando los pasajeros llegan a la parada de combis.\n",
        "def parada_combis(env, parada, num_pasajeros, texto=True):\n",
        "    for i in range(num_pasajeros):\n",
        "        # Tiempo hasta la próxima llegada del pasajero siguiendo distribución exponencial\n",
        "        mu = 1 / ll\n",
        "        tll = np.random.exponential(mu)\n",
        "        yield env.timeout(tll)\n",
        "        TLL.append(env.now)  # Almacenamos el tiempo de llegada del pasajero\n",
        "        if texto:\n",
        "            print(f'----Ha llegado el pasajero número {i} en el minuto {round(env.now, cifras)}----')\n",
        "        env.process(abordaje(env, parada, i, texto))"
      ],
      "metadata": {
        "id": "okaKe8RwGN0q"
      },
      "execution_count": 18,
      "outputs": []
    },
    {
      "cell_type": "markdown",
      "source": [
        "4. Creamos nuevamente otra función que nos ayudara a simular el"
      ],
      "metadata": {
        "id": "Yfcwa_SWbP45"
      }
    },
    {
      "cell_type": "code",
      "source": [
        "def llegada_autobus(env, parada, texto=False):\n",
        "    global mu\n",
        "    while True:\n",
        "        # Tiempo entre llegadas de autobuses siguiendo distribución exponencial\n",
        "        t_llegada_autobus = np.random.exponential(scale=1/mu)\n",
        "        yield env.timeout(t_llegada_autobus)\n",
        "\n",
        "        num_pasajeros = len(parada.queue)  # Pasajeros esperando en la cola\n",
        "        if texto:\n",
        "            print(f'Autobús llega a la parada a los {round(env.now, cifras)} minutos')\n",
        "\n",
        "        # Determinar cuántos pasajeros recogerá el autobús\n",
        "        if num_pasajeros > 0:\n",
        "            pasajeros_a_recoger = min(num_pasajeros, capacidad_autobus)\n",
        "            for _ in range(pasajeros_a_recoger):\n",
        "                parada.release(parada.request())  # Se simula la subida de los pasajeros al autobús\n",
        "            if texto:\n",
        "                print(f'Autobús recoge a {pasajeros_a_recoger} pasajeros en la parada a los {round(env.now, cifras)} minutos')\n"
      ],
      "metadata": {
        "id": "VHNIbeIcJQP2"
      },
      "execution_count": null,
      "outputs": []
    },
    {
      "cell_type": "markdown",
      "source": [
        "5. Creamos una función llamada abordaje la cual ayudara a simular el tiempo que le lleva al pasajero abordar una combi , donde utilizaremos una distribución uniforme para determinar el tiempo mínimo y máximo de abordaje del pasajero."
      ],
      "metadata": {
        "id": "shDYGMSRKwWB"
      }
    },
    {
      "cell_type": "code",
      "source": [
        "def abordaje(env, parada, num_pasajero, texto=True):\n",
        "    global tc_min, tc_max, cifras, dur_abordaje, LC, LS\n",
        "    # Solicitamos abordar una combi\n",
        "    with parada.request() as request:  # Solicitamos una combi\n",
        "        yield request  # Hace que el pasajero espere hasta que pueda abordar la combi\n",
        "        # Tiempo de abordaje\n",
        "        tc = np.random.uniform(tc_min, tc_max)  # Tiempo de corte aleatorio\n",
        "        dur_abordaje += tc\n",
        "        LC.append(tc)\n",
        "        if texto:\n",
        "            print(f'****Pasajero {num_pasajero} inicia el abordaje en el minuto {round(env.now, cifras)}****')\n",
        "        yield env.timeout(tc)\n",
        "        LS.append(env.now)\n",
        "        if texto:\n",
        "            print(f'xxxPasajero {num_pasajero} termina el abordaje en el minuto {round(env.now, cifras)}xxx')\n"
      ],
      "metadata": {
        "id": "jhTw8T2ZIuoN"
      },
      "execution_count": 20,
      "outputs": []
    }
  ]
}