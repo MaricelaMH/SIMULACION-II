{
  "nbformat": 4,
  "nbformat_minor": 0,
  "metadata": {
    "colab": {
      "provenance": [],
      "authorship_tag": "ABX9TyPjZws8anfIEISfdnHTmd/+",
      "include_colab_link": true
    },
    "kernelspec": {
      "name": "python3",
      "display_name": "Python 3"
    },
    "language_info": {
      "name": "python"
    }
  },
  "cells": [
    {
      "cell_type": "markdown",
      "metadata": {
        "id": "view-in-github",
        "colab_type": "text"
      },
      "source": [
        "<a href=\"https://colab.research.google.com/github/MaricelaMH/SIMULACION-II/blob/main/Linea_de_espera_combi_proyecto.ipynb\" target=\"_parent\"><img src=\"https://colab.research.google.com/assets/colab-badge.svg\" alt=\"Open In Colab\"/></a>"
      ]
    },
    {
      "cell_type": "markdown",
      "source": [
        "## SIMULACIÓN DE UNA PARADA DE COMBIS"
      ],
      "metadata": {
        "id": "HrjKLwCq4JXm"
      }
    },
    {
      "cell_type": "markdown",
      "source": [
        "Contexto del problema: En Naucalpan de Juarez, Estado de México, hay una parada de combis en el paradero de Cuatro Caminos donde los pasajeros se forman para esperar la próxima llegada de una combi. Esta parada sigue una disciplina de servicio primero en entrar, primero en salir (FIFO), donde la combi recoge a los pasajeros en el orden en que llegaron. Para ello realizaremos una simulación para lograr entender mejor el comportamiento de nuestro sistema y asi tomar desiciones sobre los horarios y capacidad de las combis para evitar tiempos de esperas excesivos parea los pasajeros."
      ],
      "metadata": {
        "id": "mNHmR8RW6hDS"
      }
    },
    {
      "cell_type": "markdown",
      "source": [
        "1. Para simular lo anterior, usaremos la libreria simpy por lo que la importaremos junto con las demas librerias que usaremos."
      ],
      "metadata": {
        "id": "lkfkWw1J85Iz"
      }
    },
    {
      "cell_type": "code",
      "execution_count": 1,
      "metadata": {
        "colab": {
          "base_uri": "https://localhost:8080/"
        },
        "id": "GK5RJpSM4GRi",
        "outputId": "4c0cb8a0-4b70-44a8-9838-db4f19c03172"
      },
      "outputs": [
        {
          "output_type": "stream",
          "name": "stdout",
          "text": [
            "Collecting simpy\n",
            "  Downloading simpy-4.1.1-py3-none-any.whl.metadata (6.1 kB)\n",
            "Downloading simpy-4.1.1-py3-none-any.whl (27 kB)\n",
            "Installing collected packages: simpy\n",
            "Successfully installed simpy-4.1.1\n"
          ]
        }
      ],
      "source": [
        "!pip install simpy"
      ]
    },
    {
      "cell_type": "code",
      "source": [
        "import matplotlib.pyplot as plt\n",
        "import numpy as np\n",
        "from random import random, seed\n",
        "import pandas as pd\n",
        "import simpy"
      ],
      "metadata": {
        "id": "qHy1el1J-ZuT"
      },
      "execution_count": 136,
      "outputs": []
    },
    {
      "cell_type": "markdown",
      "source": [
        "2. Definimos nuestros parámetros"
      ],
      "metadata": {
        "id": "HePryAX4-fOP"
      }
    },
    {
      "cell_type": "code",
      "source": [
        "# Parámetros del sistema de combis\n",
        "no_combis = 1            # Cantidad de combis disponibles en la parada\n",
        "tc_min = 1                  # Tiempo mínimo de abordaje por pasajero (minutos)\n",
        "tc_max = 2                  # Tiempo máximo de abordaje por pasajero (minutos)\n",
        "mu = 5                 # Tasa de llegada de los pasajeros (1 cada 2 minutos)\n",
        "ll =  20                 # Tasa de llegada de combis (1 cada 15 minutos)\n",
        "pasajeros = 50              # Total de pasajeros a simular\n",
        "cifras = 2                  # Cantidad de cifras decimales para mostrar\n",
        "cap_combi = 19              # Capacidad máxima de pasajeros de cada combi"
      ],
      "metadata": {
        "id": "nPVXuJxa_L56"
      },
      "execution_count": 188,
      "outputs": []
    },
    {
      "cell_type": "code",
      "source": [
        "TLL, TA, TS = [], [], []   # Listas para tiempos de llegada de los pasajeros, abordaje, y tiempo de salida de la combi"
      ],
      "metadata": {
        "id": "yQFLZ7bLApVX"
      },
      "execution_count": 189,
      "outputs": []
    },
    {
      "cell_type": "code",
      "source": [
        "# Parámetro de simulación\n",
        "semilla = 13\n",
        "seed(semilla)"
      ],
      "metadata": {
        "id": "kyk37EV9BClf"
      },
      "execution_count": 190,
      "outputs": []
    },
    {
      "cell_type": "markdown",
      "source": [
        "3. Creamos una función que nos ayudara a simular la llegada de los pasajeros a la parada de combis las cuales suelen seguir una distribución exponencial, por lo que la media estara definida como:\n",
        "\n",
        "$$ \\mu = \\frac{1}{ll}  $$\n",
        "\n",
        "donde $ll$ es el tiempo promedio de llegada de los pasajeros"
      ],
      "metadata": {
        "id": "TSekK8mwDc7_"
      }
    },
    {
      "cell_type": "code",
      "source": [
        "# Función para simular cuando los pasajeros llegan a la parada de combis.\n",
        "def parada_combis(env, parada, num_pasajeros, texto=True):\n",
        "    for i in range(num_pasajeros):\n",
        "        # Tiempo hasta la próxima llegada del pasajero siguiendo distribución exponencial\n",
        "        tll = np.random.exponential(scale=mu)\n",
        "        yield env.timeout(tll) #Pausamos la ejecución durante tll unidades de tiempo\n",
        "        TLL.append(env.now)  # Almacenamos el tiempo de llegada del pasajero\n",
        "        if texto:\n",
        "            print(f'----Ha llegado el pasajero número {i} en el minuto {round(env.now, cifras)}----')\n",
        "        env.process(abordaje(env, parada, i, texto))"
      ],
      "metadata": {
        "id": "okaKe8RwGN0q"
      },
      "execution_count": 191,
      "outputs": []
    },
    {
      "cell_type": "markdown",
      "source": [
        "4. Creamos nuevamente otra función que nos ayudara a simular el"
      ],
      "metadata": {
        "id": "Yfcwa_SWbP45"
      }
    },
    {
      "cell_type": "code",
      "source": [
        "def llegada_combis(env, parada, texto=True):\n",
        "   numero_combi = 1  # Contador para identificar cada combi\n",
        "   while True:\n",
        "        # Tiempo entre llegadas de combis siguiendo distribución exponencial\n",
        "        t_llegada_combis = np.random.exponential(scale=ll)\n",
        "        yield env.timeout(t_llegada_combis)\n",
        "\n",
        "        num_p = len(parada.queue)  # Pasajeros esperando en la cola\n",
        "        if texto:\n",
        "            print(f'La combi número {numero_combi} llega a la parada a los {round(env.now, 2)} minutos')\n",
        "\n",
        "        # Si hay pasajeros, determinamos cuantos pasajeros recojera la combi\n",
        "        if num_p > 0:\n",
        "            pasajeros_a_recoger = min(num_p,cap_combi)\n",
        "            for _ in range(pasajeros_a_recoger):\n",
        "                parada.release(parada.request())  # Se simula la subida de los pasajeros al autobús\n",
        "            if texto:\n",
        "                print(f'La combi recoge a {pasajeros_a_recoger} pasajeros en la parada a los {round(env.now, cifras)} minutos')\n",
        "\n",
        "        # Si quedan pasajeros en la cola después de llenar la combi, esperan a la siguiente\n",
        "            if num_p > cap_combi:\n",
        "                if texto:\n",
        "                    print(f'Quedan {num_p - 19} pasajeros esperando la próxima combi en la parada a los {round(env.now, 2)} minutos')\n",
        "\n",
        "            # Agregar el mensaje indicando que la combi ha salido\n",
        "            if texto:\n",
        "                print(f'La combi número {numero_combi} sale del paradero con {pasajeros_a_recoger} pasajeros a los {round(env.now, 2)} minutos')\n",
        "\n",
        "        # Incrementar el número de combi para la siguiente llegada\n",
        "        numero_combi += 1"
      ],
      "metadata": {
        "id": "VHNIbeIcJQP2"
      },
      "execution_count": 192,
      "outputs": []
    },
    {
      "cell_type": "markdown",
      "source": [
        "5. Creamos una función llamada abordaje la cual ayudara a simular el tiempo que le lleva al pasajero abordar una combi , donde utilizaremos una distribución uniforme para determinar el tiempo mínimo y máximo de abordaje del pasajero."
      ],
      "metadata": {
        "id": "shDYGMSRKwWB"
      }
    },
    {
      "cell_type": "code",
      "source": [
        "def abordaje(env, parada, num, texto=True):\n",
        "    global TLL,TA,TS\n",
        "    # Solicitamos abordar una combi\n",
        "    with parada.request() as request:  # Solicitamos una combi\n",
        "        yield request  # Hace que el pasajero espere hasta que pueda abordar la combi\n",
        "        # Tiempo de abordaje\n",
        "        tc = np.random.uniform(tc_min, tc_max)  # Tiempo de corte aleatorio\n",
        "        TA.append(tc)\n",
        "        if texto:\n",
        "            print(f'**** El pasajero {num} inicia el abordaje en el minuto {round(env.now, cifras)}****')\n",
        "        yield env.timeout(tc)\n",
        "        TS.append(env.now)\n",
        "        if texto:\n",
        "            print(f'xxx El pasajero {num} termina el abordaje en el minuto {round(env.now, cifras)}xxx')\n"
      ],
      "metadata": {
        "id": "jhTw8T2ZIuoN"
      },
      "execution_count": 193,
      "outputs": []
    },
    {
      "cell_type": "code",
      "source": [
        "# prompt: como evito que se generen muchos resultados al ejecutar el codigo anterior\n",
        "\n",
        "def exp(n):\n",
        "    long_cola = []\n",
        "    tiempo_esp = []\n",
        "    uso = [] # Porcentaje de uso de las combis\n",
        "    combis_necesarias_totales = []\n",
        "\n",
        "    for _ in range(n):\n",
        "        global TLL, TA, TS\n",
        "        TLL, TA, TS = [], [], []\n",
        "\n",
        "        env.process(parada_combis(env, parada, pasajeros, texto=True)) # Set texto to False to suppress printing\n",
        "        env.process(llegada_combis(env, parada, texto=True)) # Set texto to False to suppress printing\n",
        "        env.run(until=120) # Tiempo de simulación (ajustado)\n",
        "\n",
        "        TLL, TA, TS = np.array(TLL), np.array(TA), np.array(TS)\n",
        "        num_abordos = len(TS)\n",
        "        TLL = TLL[:num_abordos]\n",
        "        TA = TA[:num_abordos]\n",
        "        t_esp = sum(TS - TLL - TA)\n",
        "        fin_sim = env.now\n",
        "\n",
        "        long_cola.append(t_esp / fin_sim)\n",
        "        tiempo_esp.append(t_esp / pasajeros)\n",
        "        uso.append(100 * sum(TA) / fin_sim)\n",
        "\n",
        "        # Calcular el número total de combis necesarias\n",
        "        # Basado en la cantidad total de pasajeros en cola y la capacidad del autobús\n",
        "        total_pasajeros = len(TLL)  # Total de pasajeros atendidos\n",
        "        total_combis = min(np.ceil(total_pasajeros / cap_combi),no_combis)  # Combis necesarias\n",
        "        combis_necesarias_totales.append(total_combis)\n",
        "\n",
        "\n",
        "        return long_cola, tiempo_esp, uso, combis_necesarias_totales  # Asegurarse de que se devuelven cuatro valores"
      ],
      "metadata": {
        "id": "YR9--EOrdoHT"
      },
      "execution_count": 194,
      "outputs": []
    },
    {
      "cell_type": "code",
      "source": [
        "env = simpy.Environment()\n",
        "parada = simpy.Resource(env, capacity=no_combis)\n",
        "long_cola, tiempo_esp, uso, combis_necesarias_totales = exp(10) #Example call to exp\n"
      ],
      "metadata": {
        "id": "DOdGtFVpUMKh",
        "outputId": "409aada6-9dde-4ca1-d2bf-ec9e5f817b27",
        "colab": {
          "base_uri": "https://localhost:8080/"
        }
      },
      "execution_count": 195,
      "outputs": [
        {
          "output_type": "stream",
          "name": "stdout",
          "text": [
            "----Ha llegado el pasajero número 0 en el minuto 0.72----\n",
            "**** El pasajero 0 inicia el abordaje en el minuto 0.72****\n",
            "----Ha llegado el pasajero número 1 en el minuto 1.15----\n",
            "xxx El pasajero 0 termina el abordaje en el minuto 2.48xxx\n",
            "**** El pasajero 1 inicia el abordaje en el minuto 2.48****\n",
            "xxx El pasajero 1 termina el abordaje en el minuto 3.94xxx\n",
            "----Ha llegado el pasajero número 2 en el minuto 12.09----\n",
            "**** El pasajero 2 inicia el abordaje en el minuto 12.09****\n",
            "xxx El pasajero 2 termina el abordaje en el minuto 13.56xxx\n",
            "----Ha llegado el pasajero número 3 en el minuto 14.58----\n",
            "**** El pasajero 3 inicia el abordaje en el minuto 14.58****\n",
            "xxx El pasajero 3 termina el abordaje en el minuto 16.4xxx\n",
            "----Ha llegado el pasajero número 4 en el minuto 17.26----\n",
            "**** El pasajero 4 inicia el abordaje en el minuto 17.26****\n",
            "----Ha llegado el pasajero número 5 en el minuto 17.51----\n",
            "xxx El pasajero 4 termina el abordaje en el minuto 18.35xxx\n",
            "**** El pasajero 5 inicia el abordaje en el minuto 18.35****\n",
            "----Ha llegado el pasajero número 6 en el minuto 18.77----\n",
            "xxx El pasajero 5 termina el abordaje en el minuto 19.62xxx\n",
            "**** El pasajero 6 inicia el abordaje en el minuto 19.62****\n",
            "xxx El pasajero 6 termina el abordaje en el minuto 21.16xxx\n",
            "----Ha llegado el pasajero número 7 en el minuto 24.36----\n",
            "**** El pasajero 7 inicia el abordaje en el minuto 24.36****\n",
            "xxx El pasajero 7 termina el abordaje en el minuto 26.08xxx\n",
            "----Ha llegado el pasajero número 8 en el minuto 30.77----\n",
            "**** El pasajero 8 inicia el abordaje en el minuto 30.77****\n",
            "xxx El pasajero 8 termina el abordaje en el minuto 32.29xxx\n",
            "----Ha llegado el pasajero número 9 en el minuto 32.63----\n",
            "**** El pasajero 9 inicia el abordaje en el minuto 32.63****\n",
            "xxx El pasajero 9 termina el abordaje en el minuto 34.11xxx\n",
            "----Ha llegado el pasajero número 10 en el minuto 35.84----\n",
            "**** El pasajero 10 inicia el abordaje en el minuto 35.84****\n",
            "xxx El pasajero 10 termina el abordaje en el minuto 37.04xxx\n",
            "----Ha llegado el pasajero número 11 en el minuto 42.23----\n",
            "**** El pasajero 11 inicia el abordaje en el minuto 42.23****\n",
            "xxx El pasajero 11 termina el abordaje en el minuto 43.76xxx\n",
            "----Ha llegado el pasajero número 12 en el minuto 44.77----\n",
            "**** El pasajero 12 inicia el abordaje en el minuto 44.77****\n",
            "xxx El pasajero 12 termina el abordaje en el minuto 46.65xxx\n",
            "----Ha llegado el pasajero número 13 en el minuto 47.86----\n",
            "**** El pasajero 13 inicia el abordaje en el minuto 47.86****\n",
            "xxx El pasajero 13 termina el abordaje en el minuto 49.85xxx\n",
            "La combi número 1 llega a la parada a los 57.32 minutos\n",
            "----Ha llegado el pasajero número 14 en el minuto 59.25----\n",
            "**** El pasajero 14 inicia el abordaje en el minuto 59.25****\n",
            "----Ha llegado el pasajero número 15 en el minuto 59.83----\n",
            "xxx El pasajero 14 termina el abordaje en el minuto 60.65xxx\n",
            "**** El pasajero 15 inicia el abordaje en el minuto 60.65****\n",
            "xxx El pasajero 15 termina el abordaje en el minuto 62.61xxx\n",
            "----Ha llegado el pasajero número 16 en el minuto 65.96----\n",
            "**** El pasajero 16 inicia el abordaje en el minuto 65.96****\n",
            "xxx El pasajero 16 termina el abordaje en el minuto 67.43xxx\n",
            "----Ha llegado el pasajero número 17 en el minuto 70.17----\n",
            "**** El pasajero 17 inicia el abordaje en el minuto 70.17****\n",
            "----Ha llegado el pasajero número 18 en el minuto 70.77----\n",
            "----Ha llegado el pasajero número 19 en el minuto 71.35----\n",
            "xxx El pasajero 17 termina el abordaje en el minuto 71.86xxx\n",
            "**** El pasajero 18 inicia el abordaje en el minuto 71.86****\n",
            "xxx El pasajero 18 termina el abordaje en el minuto 72.97xxx\n",
            "**** El pasajero 19 inicia el abordaje en el minuto 72.97****\n",
            "xxx El pasajero 19 termina el abordaje en el minuto 74.73xxx\n",
            "----Ha llegado el pasajero número 20 en el minuto 83.79----\n",
            "**** El pasajero 20 inicia el abordaje en el minuto 83.79****\n",
            "xxx El pasajero 20 termina el abordaje en el minuto 84.84xxx\n",
            "----Ha llegado el pasajero número 21 en el minuto 87.24----\n",
            "**** El pasajero 21 inicia el abordaje en el minuto 87.24****\n",
            "xxx El pasajero 21 termina el abordaje en el minuto 88.72xxx\n",
            "----Ha llegado el pasajero número 22 en el minuto 89.43----\n",
            "**** El pasajero 22 inicia el abordaje en el minuto 89.43****\n",
            "xxx El pasajero 22 termina el abordaje en el minuto 90.95xxx\n",
            "----Ha llegado el pasajero número 23 en el minuto 93.57----\n",
            "**** El pasajero 23 inicia el abordaje en el minuto 93.57****\n",
            "xxx El pasajero 23 termina el abordaje en el minuto 94.71xxx\n",
            "----Ha llegado el pasajero número 24 en el minuto 100.23----\n",
            "**** El pasajero 24 inicia el abordaje en el minuto 100.23****\n",
            "xxx El pasajero 24 termina el abordaje en el minuto 101.5xxx\n",
            "----Ha llegado el pasajero número 25 en el minuto 113.46----\n",
            "**** El pasajero 25 inicia el abordaje en el minuto 113.46****\n",
            "xxx El pasajero 25 termina el abordaje en el minuto 114.88xxx\n",
            "----Ha llegado el pasajero número 26 en el minuto 119.59----\n",
            "**** El pasajero 26 inicia el abordaje en el minuto 119.59****\n"
          ]
        }
      ]
    }
  ]
}