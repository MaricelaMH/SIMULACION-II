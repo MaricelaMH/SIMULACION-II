{
  "nbformat": 4,
  "nbformat_minor": 0,
  "metadata": {
    "colab": {
      "provenance": [],
      "authorship_tag": "ABX9TyOeuyOtdd/usdAU7FtiOgDF",
      "include_colab_link": true
    },
    "kernelspec": {
      "name": "python3",
      "display_name": "Python 3"
    },
    "language_info": {
      "name": "python"
    }
  },
  "cells": [
    {
      "cell_type": "markdown",
      "metadata": {
        "id": "view-in-github",
        "colab_type": "text"
      },
      "source": [
        "<a href=\"https://colab.research.google.com/github/MaricelaMH/SIMULACION-II/blob/main/Linea_de_espera_combi_proyecto.ipynb\" target=\"_parent\"><img src=\"https://colab.research.google.com/assets/colab-badge.svg\" alt=\"Open In Colab\"/></a>"
      ]
    },
    {
      "cell_type": "markdown",
      "source": [
        "## SIMULACIÓN DE UNA PARADA DE COMBIS"
      ],
      "metadata": {
        "id": "HrjKLwCq4JXm"
      }
    },
    {
      "cell_type": "markdown",
      "source": [
        "Contexto del problema: En Naucalpan de Juarez, Estado de México, hay una parada de combis en el paradero de Cuatro Caminos donde los pasajeros se forman para esperar la próxima llegada de una combi. Esta parada sigue una disciplina de servicio primero en entrar, primero en salir (FIFO), donde la combi recoge a los pasajeros en el orden en que llegaron. Para ello realizaremos una simulación para lograr entender mejor el comportamiento de nuestro sistema y asi tomar desiciones sobre los horarios y capacidad de las combis para evitar tiempos de esperas excesivos parea los pasajeros."
      ],
      "metadata": {
        "id": "mNHmR8RW6hDS"
      }
    },
    {
      "cell_type": "markdown",
      "source": [
        "1. Para simular lo anterior, usaremos la libreria simpy por lo que la importaremos junto con las demas librerias que usaremos."
      ],
      "metadata": {
        "id": "lkfkWw1J85Iz"
      }
    },
    {
      "cell_type": "code",
      "execution_count": 1,
      "metadata": {
        "colab": {
          "base_uri": "https://localhost:8080/"
        },
        "id": "GK5RJpSM4GRi",
        "outputId": "4bfdfebc-0231-4987-beeb-dcc4f282e3af"
      },
      "outputs": [
        {
          "output_type": "stream",
          "name": "stdout",
          "text": [
            "Collecting simpy\n",
            "  Downloading simpy-4.1.1-py3-none-any.whl.metadata (6.1 kB)\n",
            "Downloading simpy-4.1.1-py3-none-any.whl (27 kB)\n",
            "Installing collected packages: simpy\n",
            "Successfully installed simpy-4.1.1\n"
          ]
        }
      ],
      "source": [
        "!pip install simpy"
      ]
    },
    {
      "cell_type": "code",
      "source": [
        "import matplotlib.pyplot as plt\n",
        "import numpy as np\n",
        "import random\n",
        "import simpy"
      ],
      "metadata": {
        "id": "qHy1el1J-ZuT"
      },
      "execution_count": 21,
      "outputs": []
    },
    {
      "cell_type": "markdown",
      "source": [
        "2. Definimos nuestros parámetros"
      ],
      "metadata": {
        "id": "HePryAX4-fOP"
      }
    },
    {
      "cell_type": "code",
      "source": [
        "# Parámetros del sistema de combis\n",
        "no_combis = 1            # Cantidad de combis disponibles en la parada\n",
        "tiempo_llegada_pasajeros = 2                 # Tasa de llegada de los pasajeros (1 cada 5 minutos)\n",
        "tiempo_llegada_combis =  20                 # Tasa de llegada de combis (1 cada 20 minutos)\n",
        "cap_combi = 19              # Capacidad máxima de pasajeros de cada combi\n",
        "tiempo_prom_abordo = 1/2     # Tiempo promedio de abordo de cada pasajero (en minutos)"
      ],
      "metadata": {
        "id": "nPVXuJxa_L56"
      },
      "execution_count": 44,
      "outputs": []
    },
    {
      "cell_type": "code",
      "source": [
        "# Tiempo de simulación (en minutos)\n",
        "tiempo_simulacion=120"
      ],
      "metadata": {
        "id": "kyk37EV9BClf"
      },
      "execution_count": 45,
      "outputs": []
    },
    {
      "cell_type": "code",
      "source": [
        "# Creamos nuestras listas para almacenar nuestros datos\n",
        "longitud_cola=[]\n",
        "tiempo_espera=[]\n",
        "tiempos_abordo=[]\n",
        "combis_necesarias=[]  # Lista para la cantidad de combis necesarias"
      ],
      "metadata": {
        "id": "GAWwddrLACAf"
      },
      "execution_count": 46,
      "outputs": []
    },
    {
      "cell_type": "markdown",
      "source": [
        "3. Creamos una función que nos ayudara a simular la llegada de los pasajeros a la parada de combis las cuales suelen seguir una distribución exponencial, por lo que la media estara definida como:\n",
        "\n",
        "$$ \\mu = \\frac{1}{ll}  $$\n",
        "\n",
        "donde $ll$ es el tiempo promedio de llegada de los pasajeros"
      ],
      "metadata": {
        "id": "TSekK8mwDc7_"
      }
    },
    {
      "cell_type": "code",
      "source": [
        "# Función para simular cuando los pasajeros llegan a la parada de combis.\n",
        "def llegada_pasajeros(env, cola_pasajeros,tiempo_pasajero, texto=True):\n",
        "  numero_pasajero = 1  # Contador para identificar cada pasajero\n",
        "  while True:\n",
        "        # Sabiendo que el tiempos de llegada de los pasajeros siguen una distribución exponencial\n",
        "        tiempo_ll_pas = random.expovariate(1 / tiempo_llegada_pasajeros)\n",
        "        yield env.timeout(tiempo_ll_pas) #Pausamos la ejecución durante tiempo_ll unidades de tiempo\n",
        "\n",
        "        pasajero = f'--- El pasajero número {numero_pasajero}'\n",
        "        print(f'{pasajero} llegó en el minuto {env.now:.2}----')\n",
        "\n",
        "        cola_pasajeros.put((pasajero,env.now)) #Guardamos el tiempo de llegada de los pasajeros\n",
        "        tiempo_pasajero.append(env.now) #Guardamos el tiempo de llegada de los pasajeros\n",
        "\n",
        "        numero_pasajero+=1 #Incrementamos el contador de pasajeros\n",
        "\n",
        "        # Actualizamos la longitud de la cola\n",
        "        longitud_cola.append(len(cola_pasajeros.items))"
      ],
      "metadata": {
        "id": "okaKe8RwGN0q"
      },
      "execution_count": 47,
      "outputs": []
    },
    {
      "cell_type": "markdown",
      "source": [
        "4. Creamos nuevamente otra función que nos ayudara a simular el tiempo de llegadas de las combis"
      ],
      "metadata": {
        "id": "Yfcwa_SWbP45"
      }
    },
    {
      "cell_type": "code",
      "source": [
        "def llegada_combis(env, cola_pasajeros,combis,tiempo_pasajero,texto=True):\n",
        "   numero_combi = 1  # Contador para identificar cada combi\n",
        "   while True:\n",
        "        # El tiempo de llegada sigue una distribución exponencial\n",
        "        tiempo_ll_com = random.expovariate(1 / tiempo_llegada_combis)\n",
        "        yield env.timeout(tiempo_ll_com)\n",
        "\n",
        "        combi = f' La combi número {numero_combi}'\n",
        "        print(f'{combi} llegó en el minuto {env.now:.2f} ***')\n",
        "        pasajeros = []\n",
        "        tiempo_abordo_combi = 0\n",
        "\n",
        "        # Las personas abordan la combi hasta que se llena\n",
        "        while len(pasajeros) < cap_combi and len(cola_pasajeros.items) > 0:\n",
        "            pasajero, tiempo_ll_pas = yield cola_pasajeros.get()  # Persona sube a la combi\n",
        "            pasajeros.append(pasajero)\n",
        "            tiempo_abordo_combi += random.expovariate(tiempo_prom_abordo)  # Tiempo de abordo de cada persona (promedio 2 minutos)\n",
        "            # Registramos el tiempo de espera para esta persona (tiempo de llegada a la cola y tiempo de abordo)\n",
        "            tiempo_espera_pasajero = env.now - tiempo_ll_pas\n",
        "            tiempo_espera.append(tiempo_espera_pasajero)\n",
        "            print(f'{pasajero} subió a  {combi} después de {tiempo_espera_pasajero:.2f} minutos de espera +++')\n",
        "\n",
        "        # La combi parte con los pasajeros\n",
        "        combis.put(pasajeros)\n",
        "        print(f'{combi} se fue con {len(pasajeros)} pasajeros <--.')\n",
        "\n",
        "        # Registrar el tiempo de abordo de cada persona\n",
        "        tiempos_abordo.append(tiempo_abordo_combi / len(pasajeros) if pasajeros else 0)\n",
        "\n",
        "        # Registrar la cantidad de combis necesarias (realmente activas)\n",
        "        combis_necesarias.append(1)  # Una nueva combi disponible\n",
        "        numero_combi += 1  # Incrementar el ID de la combi\n",
        "\n",
        "        # Cuando una combi se va, eliminamos la combi del sistema (por eso estamos usando combis.put)\n",
        "        if len(pasajeros) > 0:\n",
        "            combis_necesarias[-1] = len(pasajeros)"
      ],
      "metadata": {
        "id": "VHNIbeIcJQP2"
      },
      "execution_count": 48,
      "outputs": []
    },
    {
      "cell_type": "markdown",
      "source": [
        "5. Creamos una función llamada abordaje la cual ayudara a simular el tiempo que le lleva al pasajero abordar una combi , donde utilizaremos una distribución uniforme para determinar el tiempo mínimo y máximo de abordaje del pasajero."
      ],
      "metadata": {
        "id": "shDYGMSRKwWB"
      }
    },
    {
      "cell_type": "code",
      "source": [
        "def simular():\n",
        "    \"\"\"Función principal para ejecutar la simulación.\"\"\"\n",
        "    env = simpy.Environment()\n",
        "    cola_pasajeros = simpy.Store(env)  # Cola de personas\n",
        "    combis = simpy.Store(env)  # Cola de combis\n",
        "    tiempo_pasajero = []  # Para guardar el tiempo de llegada de cada persona\n",
        "\n",
        "    # Estimamos el número de combis necesarias\n",
        "    estimar_num_combis()\n",
        "\n",
        "    # Arrancamos los procesos de llegada\n",
        "    env.process(llegada_pasajeros(env, cola_pasajeros, tiempo_pasajero))\n",
        "    env.process(llegada_combis(env, cola_pasajeros, combis, tiempo_pasajero))\n",
        "\n",
        "    # Ejecutamos la simulación\n",
        "    env.run(until=tiempo_simulacion)\n"
      ],
      "metadata": {
        "id": "U8Fp0hN3I50F"
      },
      "execution_count": 49,
      "outputs": []
    },
    {
      "cell_type": "code",
      "source": [
        "# Ejecutamos la simulación\n",
        "simular()"
      ],
      "metadata": {
        "id": "UV5Fi4yVJy-1",
        "outputId": "04bd0c09-7569-4e3d-923b-7583483234a0",
        "colab": {
          "base_uri": "https://localhost:8080/"
        }
      },
      "execution_count": 50,
      "outputs": [
        {
          "output_type": "stream",
          "name": "stdout",
          "text": [
            "El número estimado de combis necesarias es de: 3.16\n",
            "--- El pasajero número 1 llegó en el minuto 1.7----\n",
            " La combi número 1 llegó en el minuto 1.75 ***\n",
            "--- El pasajero número 1 subió a   La combi número 1 después de 0.04 minutos de espera +++\n",
            " La combi número 1 se fue con 1 pasajeros <--.\n",
            " La combi número 2 llegó en el minuto 2.87 ***\n",
            " La combi número 2 se fue con 0 pasajeros <--.\n",
            "--- El pasajero número 2 llegó en el minuto 3.7----\n",
            "--- El pasajero número 3 llegó en el minuto 4.2----\n",
            "--- El pasajero número 4 llegó en el minuto 4.5----\n",
            "--- El pasajero número 5 llegó en el minuto 5.4----\n",
            "--- El pasajero número 6 llegó en el minuto 6.5----\n",
            "--- El pasajero número 7 llegó en el minuto 6.5----\n",
            "--- El pasajero número 8 llegó en el minuto 6.9----\n",
            "--- El pasajero número 9 llegó en el minuto 7.6----\n",
            "--- El pasajero número 10 llegó en el minuto 1e+01----\n",
            " La combi número 3 llegó en el minuto 10.54 ***\n",
            "--- El pasajero número 2 subió a   La combi número 3 después de 6.81 minutos de espera +++\n",
            "--- El pasajero número 3 subió a   La combi número 3 después de 6.35 minutos de espera +++\n",
            "--- El pasajero número 4 subió a   La combi número 3 después de 6.06 minutos de espera +++\n",
            "--- El pasajero número 5 subió a   La combi número 3 después de 5.14 minutos de espera +++\n",
            "--- El pasajero número 6 subió a   La combi número 3 después de 4.08 minutos de espera +++\n",
            "--- El pasajero número 7 subió a   La combi número 3 después de 4.03 minutos de espera +++\n",
            "--- El pasajero número 8 subió a   La combi número 3 después de 3.67 minutos de espera +++\n",
            "--- El pasajero número 9 subió a   La combi número 3 después de 2.96 minutos de espera +++\n",
            "--- El pasajero número 10 subió a   La combi número 3 después de 0.23 minutos de espera +++\n",
            " La combi número 3 se fue con 9 pasajeros <--.\n",
            "--- El pasajero número 11 llegó en el minuto 1.5e+01----\n",
            " La combi número 4 llegó en el minuto 21.10 ***\n",
            "--- El pasajero número 11 subió a   La combi número 4 después de 6.60 minutos de espera +++\n",
            " La combi número 4 se fue con 1 pasajeros <--.\n",
            "--- El pasajero número 12 llegó en el minuto 2.2e+01----\n",
            "--- El pasajero número 13 llegó en el minuto 2.3e+01----\n",
            "--- El pasajero número 14 llegó en el minuto 2.3e+01----\n",
            "--- El pasajero número 15 llegó en el minuto 2.6e+01----\n",
            "--- El pasajero número 16 llegó en el minuto 2.6e+01----\n",
            "--- El pasajero número 17 llegó en el minuto 2.8e+01----\n",
            "--- El pasajero número 18 llegó en el minuto 3.1e+01----\n",
            "--- El pasajero número 19 llegó en el minuto 3.1e+01----\n",
            "--- El pasajero número 20 llegó en el minuto 3.1e+01----\n",
            "--- El pasajero número 21 llegó en el minuto 3.8e+01----\n",
            "--- El pasajero número 22 llegó en el minuto 3.8e+01----\n",
            "--- El pasajero número 23 llegó en el minuto 4.2e+01----\n",
            "--- El pasajero número 24 llegó en el minuto 4.3e+01----\n",
            "--- El pasajero número 25 llegó en el minuto 4.3e+01----\n",
            "--- El pasajero número 26 llegó en el minuto 4.3e+01----\n",
            "--- El pasajero número 27 llegó en el minuto 4.3e+01----\n",
            "--- El pasajero número 28 llegó en el minuto 4.3e+01----\n",
            "--- El pasajero número 29 llegó en el minuto 4.5e+01----\n",
            "--- El pasajero número 30 llegó en el minuto 4.5e+01----\n",
            "--- El pasajero número 31 llegó en el minuto 4.5e+01----\n",
            "--- El pasajero número 32 llegó en el minuto 4.6e+01----\n",
            "--- El pasajero número 33 llegó en el minuto 4.6e+01----\n",
            "--- El pasajero número 34 llegó en el minuto 4.7e+01----\n",
            "--- El pasajero número 35 llegó en el minuto 4.7e+01----\n",
            "--- El pasajero número 36 llegó en el minuto 4.8e+01----\n",
            "--- El pasajero número 37 llegó en el minuto 4.9e+01----\n",
            "--- El pasajero número 38 llegó en el minuto 5e+01----\n",
            "--- El pasajero número 39 llegó en el minuto 5e+01----\n",
            "--- El pasajero número 40 llegó en el minuto 5e+01----\n",
            "--- El pasajero número 41 llegó en el minuto 5.1e+01----\n",
            " La combi número 5 llegó en el minuto 57.22 ***\n",
            "--- El pasajero número 12 subió a   La combi número 5 después de 34.90 minutos de espera +++\n",
            "--- El pasajero número 13 subió a   La combi número 5 después de 34.52 minutos de espera +++\n",
            "--- El pasajero número 14 subió a   La combi número 5 después de 34.06 minutos de espera +++\n",
            "--- El pasajero número 15 subió a   La combi número 5 después de 31.00 minutos de espera +++\n",
            "--- El pasajero número 16 subió a   La combi número 5 después de 30.84 minutos de espera +++\n",
            "--- El pasajero número 17 subió a   La combi número 5 después de 29.00 minutos de espera +++\n",
            "--- El pasajero número 18 subió a   La combi número 5 después de 26.70 minutos de espera +++\n",
            "--- El pasajero número 19 subió a   La combi número 5 después de 26.33 minutos de espera +++\n",
            "--- El pasajero número 20 subió a   La combi número 5 después de 26.15 minutos de espera +++\n",
            "--- El pasajero número 21 subió a   La combi número 5 después de 19.57 minutos de espera +++\n",
            "--- El pasajero número 22 subió a   La combi número 5 después de 19.57 minutos de espera +++\n",
            "--- El pasajero número 23 subió a   La combi número 5 después de 15.30 minutos de espera +++\n",
            "--- El pasajero número 24 subió a   La combi número 5 después de 14.65 minutos de espera +++\n",
            "--- El pasajero número 25 subió a   La combi número 5 después de 14.50 minutos de espera +++\n",
            "--- El pasajero número 26 subió a   La combi número 5 después de 14.27 minutos de espera +++\n",
            "--- El pasajero número 27 subió a   La combi número 5 después de 14.20 minutos de espera +++\n",
            "--- El pasajero número 28 subió a   La combi número 5 después de 13.82 minutos de espera +++\n",
            "--- El pasajero número 29 subió a   La combi número 5 después de 12.49 minutos de espera +++\n",
            "--- El pasajero número 30 subió a   La combi número 5 después de 12.37 minutos de espera +++\n",
            " La combi número 5 se fue con 19 pasajeros <--.\n",
            "--- El pasajero número 42 llegó en el minuto 5.7e+01----\n",
            "--- El pasajero número 43 llegó en el minuto 5.9e+01----\n",
            "--- El pasajero número 44 llegó en el minuto 6.3e+01----\n",
            " La combi número 6 llegó en el minuto 63.22 ***\n",
            "--- El pasajero número 31 subió a   La combi número 6 después de 18.09 minutos de espera +++\n",
            "--- El pasajero número 32 subió a   La combi número 6 después de 17.39 minutos de espera +++\n",
            "--- El pasajero número 33 subió a   La combi número 6 después de 17.13 minutos de espera +++\n",
            "--- El pasajero número 34 subió a   La combi número 6 después de 16.56 minutos de espera +++\n",
            "--- El pasajero número 35 subió a   La combi número 6 después de 16.36 minutos de espera +++\n",
            "--- El pasajero número 36 subió a   La combi número 6 después de 15.45 minutos de espera +++\n",
            "--- El pasajero número 37 subió a   La combi número 6 después de 14.39 minutos de espera +++\n",
            "--- El pasajero número 38 subió a   La combi número 6 después de 13.48 minutos de espera +++\n",
            "--- El pasajero número 39 subió a   La combi número 6 después de 13.03 minutos de espera +++\n",
            "--- El pasajero número 40 subió a   La combi número 6 después de 12.99 minutos de espera +++\n",
            "--- El pasajero número 41 subió a   La combi número 6 después de 11.82 minutos de espera +++\n",
            "--- El pasajero número 42 subió a   La combi número 6 después de 5.77 minutos de espera +++\n",
            "--- El pasajero número 43 subió a   La combi número 6 después de 4.10 minutos de espera +++\n",
            "--- El pasajero número 44 subió a   La combi número 6 después de 0.37 minutos de espera +++\n",
            " La combi número 6 se fue con 14 pasajeros <--.\n",
            "--- El pasajero número 45 llegó en el minuto 6.7e+01----\n",
            "--- El pasajero número 46 llegó en el minuto 6.8e+01----\n",
            " La combi número 7 llegó en el minuto 67.92 ***\n",
            "--- El pasajero número 45 subió a   La combi número 7 después de 1.39 minutos de espera +++\n",
            "--- El pasajero número 46 subió a   La combi número 7 después de 0.16 minutos de espera +++\n",
            " La combi número 7 se fue con 2 pasajeros <--.\n",
            "--- El pasajero número 47 llegó en el minuto 7.4e+01----\n",
            "--- El pasajero número 48 llegó en el minuto 7.7e+01----\n",
            "--- El pasajero número 49 llegó en el minuto 7.9e+01----\n",
            "--- El pasajero número 50 llegó en el minuto 8.3e+01----\n",
            "--- El pasajero número 51 llegó en el minuto 8.3e+01----\n",
            "--- El pasajero número 52 llegó en el minuto 9e+01----\n",
            " La combi número 8 llegó en el minuto 89.91 ***\n",
            "--- El pasajero número 47 subió a   La combi número 8 después de 16.04 minutos de espera +++\n",
            "--- El pasajero número 48 subió a   La combi número 8 después de 12.48 minutos de espera +++\n",
            "--- El pasajero número 49 subió a   La combi número 8 después de 11.24 minutos de espera +++\n",
            "--- El pasajero número 50 subió a   La combi número 8 después de 6.98 minutos de espera +++\n",
            "--- El pasajero número 51 subió a   La combi número 8 después de 6.96 minutos de espera +++\n",
            "--- El pasajero número 52 subió a   La combi número 8 después de 0.15 minutos de espera +++\n",
            " La combi número 8 se fue con 6 pasajeros <--.\n",
            "--- El pasajero número 53 llegó en el minuto 9.1e+01----\n",
            "--- El pasajero número 54 llegó en el minuto 9.2e+01----\n",
            "--- El pasajero número 55 llegó en el minuto 9.5e+01----\n",
            "--- El pasajero número 56 llegó en el minuto 9.6e+01----\n",
            " La combi número 9 llegó en el minuto 96.45 ***\n",
            "--- El pasajero número 53 subió a   La combi número 9 después de 5.90 minutos de espera +++\n",
            "--- El pasajero número 54 subió a   La combi número 9 después de 4.84 minutos de espera +++\n",
            "--- El pasajero número 55 subió a   La combi número 9 después de 1.73 minutos de espera +++\n",
            "--- El pasajero número 56 subió a   La combi número 9 después de 0.14 minutos de espera +++\n",
            " La combi número 9 se fue con 4 pasajeros <--.\n",
            "--- El pasajero número 57 llegó en el minuto 9.7e+01----\n",
            "--- El pasajero número 58 llegó en el minuto 1.1e+02----\n",
            "--- El pasajero número 59 llegó en el minuto 1.1e+02----\n",
            "--- El pasajero número 60 llegó en el minuto 1.1e+02----\n",
            "--- El pasajero número 61 llegó en el minuto 1.2e+02----\n",
            "--- El pasajero número 62 llegó en el minuto 1.2e+02----\n",
            "--- El pasajero número 63 llegó en el minuto 1.2e+02----\n"
          ]
        }
      ]
    },
    {
      "cell_type": "code",
      "source": [
        "def estimar_num_combis(): # Calculamos el numero de combis necesarias\n",
        "    # Tasa de llegada de personas\n",
        "    tasa_llegada_personas = 1 / tiempo_llegada_pasajeros\n",
        "    # Número estimado de combis\n",
        "    num_combis_estimadas = (tasa_llegada_personas * tiempo_simulacion) / cap_combi\n",
        "    print(f'El número estimado de combis necesarias es de: {num_combis_estimadas:.2f}')\n",
        "    return num_combis_estimadas"
      ],
      "metadata": {
        "id": "uLBOWpDXIcAN"
      },
      "execution_count": 51,
      "outputs": []
    }
  ]
}