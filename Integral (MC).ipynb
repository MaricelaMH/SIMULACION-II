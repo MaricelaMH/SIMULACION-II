{
  "cells": [
    {
      "cell_type": "markdown",
      "metadata": {
        "id": "view-in-github",
        "colab_type": "text"
      },
      "source": [
        "<a href=\"https://colab.research.google.com/github/MaricelaMH/SIMULACION-II/blob/main/Integral%20(MC).ipynb\" target=\"_parent\"><img src=\"https://colab.research.google.com/assets/colab-badge.svg\" alt=\"Open In Colab\"/></a>"
      ]
    },
    {
      "cell_type": "code",
      "execution_count": 62,
      "metadata": {
        "id": "0rHweoMInaAM"
      },
      "outputs": [],
      "source": [
        "# Importamos libreria necesarias\n",
        "import numpy as np\n",
        "import random as rnd\n",
        "import matplotlib.pyplot as plt"
      ]
    },
    {
      "cell_type": "code",
      "execution_count": 63,
      "metadata": {
        "id": "Hpb0YiNLnuFi"
      },
      "outputs": [],
      "source": [
        "# Definimos nuestra funcion\n",
        "def f(x):\n",
        "  return np.cos((np.pi*x)/2)"
      ]
    },
    {
      "cell_type": "code",
      "source": [
        "# Método de Monte Carlo para aproximar la integral\n",
        "def monte_carlo_integral(a, b, N):\n",
        "    # Generaramos N puntos aleatorios en el intervalo [a, b]\n",
        "    puntos = np.random.uniform(a, b, N)\n",
        "\n",
        "    # Evaluar la función en los puntos aleatorios\n",
        "    valores_funcion = f(puntos)\n",
        "\n",
        "    # Calcular la media de los valores de la función\n",
        "    media = np.mean(valores_funcion)\n",
        "\n",
        "    # Multiplicar la media por el tamaño del intervalo (b - a)\n",
        "    integral = (b - a) * media\n",
        "    return integral"
      ],
      "metadata": {
        "id": "cQnQZOW4QBcO"
      },
      "execution_count": 74,
      "outputs": []
    },
    {
      "cell_type": "code",
      "source": [
        "# Calcular la integral utilizando Monte Carlo\n",
        "resultado= monte_carlo_integral(0, 1, 100)"
      ],
      "metadata": {
        "id": "6ibMXrfsQRvV"
      },
      "execution_count": 75,
      "outputs": []
    },
    {
      "cell_type": "code",
      "execution_count": 76,
      "metadata": {
        "colab": {
          "base_uri": "https://localhost:8080/"
        },
        "id": "hJ6-wCd-uOph",
        "outputId": "f26549d5-992e-46eb-e5f7-8b35aea23938"
      },
      "outputs": [
        {
          "output_type": "stream",
          "name": "stdout",
          "text": [
            "Estimación de la integral: 0.6396695163654844\n"
          ]
        }
      ],
      "source": [
        "print(f\"Estimación de la integral: {resultado}\")"
      ]
    },
    {
      "cell_type": "code",
      "source": [
        "# Función para realizar varias simulaciones y graficar el histograma\n",
        "def graficar_histograma(a, b, N, iteraciones):\n",
        "    resultados = []\n",
        "\n",
        "    for _ in range(iteraciones):\n",
        "        resultado = monte_carlo_integral(a, b, N)\n",
        "        resultados.append(resultado)\n",
        "\n",
        "    # Graficar el histograma de los resultados\n",
        "    plt.hist(resultados, bins=30, density=True, alpha=0.75, color='blue')\n",
        "    plt.title(\"Histograma de aproximaciones de Monte Carlo\")\n",
        "    plt.xlabel(\"Valor de la aproximación de la integral\")\n",
        "    plt.ylabel(\"Densidad de probabilidad\")\n",
        "    plt.grid(True)\n",
        "    plt.show()"
      ],
      "metadata": {
        "id": "pvNi6sDxYjuN"
      },
      "execution_count": 77,
      "outputs": []
    },
    {
      "cell_type": "code",
      "source": [
        "# Graficar el histograma\n",
        "iteraciones = 1000\n",
        "graficar_histograma(0, 1, 100, iteraciones)"
      ],
      "metadata": {
        "colab": {
          "base_uri": "https://localhost:8080/",
          "height": 250
        },
        "id": "crbx8lsOYlDK",
        "outputId": "f39016a3-089f-467c-c0a9-0a4e5114f6f9"
      },
      "execution_count": 78,
      "outputs": [
        {
          "output_type": "display_data",
          "data": {
            "text/plain": [
              "<Figure size 640x480 with 1 Axes>"
            ],
            "image/png": "[encoded data removed]"
          },
          "metadata": {}
        }
      ]
    },
    {
      "cell_type": "code",
      "source": [
        "# Función para realizar varias simulaciones, graficar el histograma y calcular el intervalo de confianza\n",
        "def calcular_intervalo_confianza(a, b, N, iteraciones):\n",
        "    resultados = []\n",
        "\n",
        "    for _ in range(iteraciones):\n",
        "        resultado = monte_carlo_integral(a, b, N)\n",
        "        resultados.append(resultado)\n",
        "\n",
        "    # Convertir resultados en un array de numpy\n",
        "    resultados = np.array(resultados)\n",
        "\n",
        "    # Calcular la media y desviación estándar de los resultados\n",
        "    media = np.mean(resultados)\n",
        "    desviacion_estandar = np.std(resultados)\n",
        "\n",
        "# Calcular el intervalo de confianza del 95%\n",
        "    margen_error = 1.96 * (desviacion_estandar / np.sqrt(iteraciones))\n",
        "    intervalo_confianza = (media - margen_error, media + margen_error)\n",
        "\n",
        "  # Redondear la media y el intervalo de confianza a 2 decimales\n",
        "    media_redondeada = round(media, 2)\n",
        "    intervalo_confianza_redondeado = (round(intervalo_confianza[0], 2), round(intervalo_confianza[1], 2))\n",
        "\n",
        "    # Mostrar el intervalo de confianza\n",
        "    print(f\"Media aproximada: {media}\")\n",
        "    print(f\"Desviación estándar: {desviacion_estandar}\")\n",
        "    print(f\"Intervalo de confianza del 95%: {intervalo_confianza_redondeado}\")"
      ],
      "metadata": {
        "id": "O4f9WsAWZzVs"
      },
      "execution_count": 86,
      "outputs": []
    },
    {
      "cell_type": "code",
      "source": [
        "# Calcular el intervalo de confianza y graficar el histograma\n",
        "calcular_intervalo_confianza(0, 1, 100, iteraciones)"
      ],
      "metadata": {
        "colab": {
          "base_uri": "https://localhost:8080/"
        },
        "id": "AmM5PMbeaOpt",
        "outputId": "9fbcf040-62af-4d74-9678-77e1830d5c17"
      },
      "execution_count": 87,
      "outputs": [
        {
          "output_type": "stream",
          "name": "stdout",
          "text": [
            "Media aproximada: 0.6358593316283797\n",
            "Desviación estándar: 0.030658181892191144\n",
            "Intervalo de confianza del 95%: (0.63, 0.64)\n"
          ]
        }
      ]
    }
  ],
  "metadata": {
    "colab": {
      "provenance": [],
      "authorship_tag": "ABX9TyNujx8cYR5Sc/41QF57+gVR",
      "include_colab_link": true
    },
    "kernelspec": {
      "display_name": "Python 3",
      "name": "python3"
    },
    "language_info": {
      "name": "python"
    }
  },
  "nbformat": 4,
  "nbformat_minor": 0
}