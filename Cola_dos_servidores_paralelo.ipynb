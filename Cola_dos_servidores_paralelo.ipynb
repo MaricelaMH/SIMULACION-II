{
  "nbformat": 4,
  "nbformat_minor": 0,
  "metadata": {
    "colab": {
      "provenance": [],
      "authorship_tag": "ABX9TyNzxxmauepqv/WToiyGI2Z4",
      "include_colab_link": true
    },
    "kernelspec": {
      "name": "python3",
      "display_name": "Python 3"
    },
    "language_info": {
      "name": "python"
    }
  },
  "cells": [
    {
      "cell_type": "markdown",
      "metadata": {
        "id": "view-in-github",
        "colab_type": "text"
      },
      "source": [
        "<a href=\"https://colab.research.google.com/github/MaricelaMH/SIMULACION-II/blob/main/Cola_dos_servidores_paralelo.ipynb\" target=\"_parent\"><img src=\"https://colab.research.google.com/assets/colab-badge.svg\" alt=\"Open In Colab\"/></a>"
      ]
    },
    {
      "cell_type": "markdown",
      "source": [
        "## COLA-CON-DOS-SERVIDORES-EN-PARALELO\n",
        "Es otro sistema de teoría de colas, donde los clientes llegan a un sistema que tiene dos servidores. Ambos servidores operan en paralelo, es decir, pueden atender a clientes al mismo tiempo, de manera independiente.\n",
        "\n",
        "Imprementaremos el siguiente pseudocodigo para modelar un sistema de colas en paralelo.\n",
        "\n",
        "![texto alternativo](https://drive.google.com/uc?id=1YyGn4RKgkrxFgRTHpT2sF4DsQvt9pWr0)\n",
        "\n",
        "\n"
      ],
      "metadata": {
        "id": "IpZjsmH9BIHx"
      }
    },
    {
      "cell_type": "markdown",
      "source": [
        "# VARIABLES - - INICIALES\n",
        "1. Primero definimos cada variable para ver el comportamiento que tendran:\n",
        "\n",
        "$t=0$: Tiempo inicial\n",
        "\n",
        "$C_1$: Clientes atendidos por el servidor 1\n",
        "\n",
        "$C_2$: Clientes atendidos por el servidor 2\n",
        "\n",
        "$N_{LL}$: Llegadas de clientes al sistema\n",
        "\n",
        "$SS$: Clientes que esperan a ser atendidos\n",
        "\n",
        "$t_{LL}$: Tiempo de la proxima llegada de cliente\n",
        "\n",
        "$t_1$: Tiempo en que el servidor 1 termina de al cliente\n",
        "\n",
        "$t_2$: Tiempo en que el servidor 2 termina de al cliente\n",
        "\n",
        "Por lo que codificamos lo siguinte"
      ],
      "metadata": {
        "id": "3HGXAylmEbIU"
      }
    },
    {
      "cell_type": "markdown",
      "source": [
        "2. De la misma manera que  el ejercicio de cola con un servidor y en serie utilizamos la distribución exponencial."
      ],
      "metadata": {
        "id": "Lkf8nLf2FrkO"
      }
    },
    {
      "cell_type": "code",
      "execution_count": 8,
      "metadata": {
        "id": "__CqQk5tBF2V"
      },
      "outputs": [],
      "source": [
        "import numpy as np\n",
        "import math\n",
        "import random\n",
        "import matplotlib.pyplot as plt\n",
        "\n",
        "# Definimos las siguientes funciones para generar nuestros tiempos\n",
        "def tiempo_llegada():\n",
        "    return random.expovariate(1.0)  # Distribución exponencial para llegadas\n",
        "\n",
        "def tiempo_servicio():\n",
        "    return random.expovariate(1.0)  # Distribución exponencial para servicio\n"
      ]
    },
    {
      "cell_type": "markdown",
      "source": [
        "3. Inicializamos nuestras variables"
      ],
      "metadata": {
        "id": "VvhHgREaGRd_"
      }
    },
    {
      "cell_type": "code",
      "source": [
        "# Parámetros de simulación\n",
        "t = 0  # Tiempo inicial\n",
        "C1 = 0  # Clientes atendidos por el servidor 1\n",
        "C2 = 0  # Clientes atendidos por el servidor 2\n",
        "NLL = 0  # Número de llegadas\n",
        "SS = (0)  # Estado de la cola (vacía al principio)\n",
        "T = 120  # Tinepo máximo de simulacion\n",
        "\n",
        "# Inicializamos el primer evento\n",
        "\n",
        "tLL = tiempo_llegada()  # Tiempo de llegada del primer cliente\n",
        "t1 = math.inf  # Servidor 1 vacío inicialmente\n",
        "t2 = math.inf  # Servidor 2 vacío inicialmente"
      ],
      "metadata": {
        "id": "QZe9-0ekGT8m"
      },
      "execution_count": 9,
      "outputs": []
    },
    {
      "cell_type": "markdown",
      "source": [
        "4. Describimos los casos establecidos en el pseudocódigo:\n",
        "\n",
        "* Caso 1: Un cliente llega al sistema\n",
        "* Caso 2: Un servidor ha terminado de atender a un cliente\n",
        "* Caso 3: Similar al caso 2, pero para el servidor 2"
      ],
      "metadata": {
        "id": "SQm1MvSEGuU8"
      }
    },
    {
      "cell_type": "code",
      "source": [
        "# Simulación\n",
        "while t < T:  # Simular por 100 unidades de tiempo\n",
        "    if tLL <= t1 and tLL <= t2:\n",
        "        # Caso 1: Llega un cliente\n",
        "        t = tLL # Actualizamos nuestro tiempo a la llegada del cliente\n",
        "        NLL += 1  # Incrementamos el npumero de llegadas\n",
        "        LL.append(t)  # Añadir cliente a la cola\n",
        "        tLL = t + tiempo_llegada()  # Generar próximo tiempo de llegada\n",
        "\n",
        "        if SS == (0):\n",
        "            SS = (1, NLL, 0)\n",
        "            Y1 = tiempo_servicio()  # Generar Y1\n",
        "            t1 = t + Y1\n",
        "        elif SS == (1, SS[1], 0):\n",
        "             SS = (2, SS[1], NLL)  # Asignar al servidor 2\n",
        "             Y2 = tiempo_servicio()  # Generar Y2\n",
        "             t2 = t + Y2  # Asignar tiempo de salida para el servidor\n",
        "        elif SS == (1,0,SS[1]):\n",
        "            SS = (2, NLL, SS[1])\n",
        "            Y1 = tiempo_servicio()\n",
        "            t1 = t + Y1\n",
        "\n",
        ""
      ],
      "metadata": {
        "colab": {
          "base_uri": "https://localhost:8080/",
          "height": 203
        },
        "id": "2sm8nK_eG2CL",
        "outputId": "7c384b88-b061-4662-96df-363afb5151f3"
      },
      "execution_count": 12,
      "outputs": [
        {
          "output_type": "error",
          "ename": "NameError",
          "evalue": "name 'LL' is not defined",
          "traceback": [
            "\u001b[0;31m---------------------------------------------------------------------------\u001b[0m",
            "\u001b[0;31mNameError\u001b[0m                                 Traceback (most recent call last)",
            "\u001b[0;32m<ipython-input-12-db15e4e11871>\u001b[0m in \u001b[0;36m<cell line: 2>\u001b[0;34m()\u001b[0m\n\u001b[1;32m      5\u001b[0m         \u001b[0mt\u001b[0m \u001b[0;34m=\u001b[0m \u001b[0mtLL\u001b[0m \u001b[0;31m# Actualizamos nuestro tiempo a la llegada del cliente\u001b[0m\u001b[0;34m\u001b[0m\u001b[0;34m\u001b[0m\u001b[0m\n\u001b[1;32m      6\u001b[0m         \u001b[0mNLL\u001b[0m \u001b[0;34m+=\u001b[0m \u001b[0;36m1\u001b[0m  \u001b[0;31m# Incrementamos el npumero de llegadas\u001b[0m\u001b[0;34m\u001b[0m\u001b[0;34m\u001b[0m\u001b[0m\n\u001b[0;32m----> 7\u001b[0;31m         \u001b[0mLL\u001b[0m\u001b[0;34m.\u001b[0m\u001b[0mappend\u001b[0m\u001b[0;34m(\u001b[0m\u001b[0mt\u001b[0m\u001b[0;34m)\u001b[0m  \u001b[0;31m# Añadir cliente a la cola\u001b[0m\u001b[0;34m\u001b[0m\u001b[0;34m\u001b[0m\u001b[0m\n\u001b[0m\u001b[1;32m      8\u001b[0m         \u001b[0mtLL\u001b[0m \u001b[0;34m=\u001b[0m \u001b[0mt\u001b[0m \u001b[0;34m+\u001b[0m \u001b[0mtiempo_llegada\u001b[0m\u001b[0;34m(\u001b[0m\u001b[0;34m)\u001b[0m  \u001b[0;31m# Generar próximo tiempo de llegada\u001b[0m\u001b[0;34m\u001b[0m\u001b[0;34m\u001b[0m\u001b[0m\n\u001b[1;32m      9\u001b[0m \u001b[0;34m\u001b[0m\u001b[0m\n",
            "\u001b[0;31mNameError\u001b[0m: name 'LL' is not defined"
          ]
        }
      ]
    },
    {
      "cell_type": "code",
      "source": [
        "# Resultado final\n",
        "print(f\"Clientes atendidos por el servidor 1: {C1}\")\n",
        "print(f\"Clientes atendidos por el servidor 2: {C2}\")"
      ],
      "metadata": {
        "id": "imajGWbAHVV_"
      },
      "execution_count": null,
      "outputs": []
    }
  ]
}