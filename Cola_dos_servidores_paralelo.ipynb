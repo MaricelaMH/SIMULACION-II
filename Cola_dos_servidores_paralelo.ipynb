{
  "nbformat": 4,
  "nbformat_minor": 0,
  "metadata": {
    "colab": {
      "provenance": [],
      "authorship_tag": "ABX9TyP8PmVXCP82UXyTK7QrshN0",
      "include_colab_link": true
    },
    "kernelspec": {
      "name": "python3",
      "display_name": "Python 3"
    },
    "language_info": {
      "name": "python"
    }
  },
  "cells": [
    {
      "cell_type": "markdown",
      "metadata": {
        "id": "view-in-github",
        "colab_type": "text"
      },
      "source": [
        "<a href=\"https://colab.research.google.com/github/MaricelaMH/SIMULACION-II/blob/main/Cola_dos_servidores_paralelo.ipynb\" target=\"_parent\"><img src=\"https://colab.research.google.com/assets/colab-badge.svg\" alt=\"Open In Colab\"/></a>"
      ]
    },
    {
      "cell_type": "markdown",
      "source": [
        "## COLA-CON-DOS-SERVIDORES-EN-PARALELO\n",
        "Es otro sistema de teoría de colas, donde los clientes llegan a un sistema que tiene dos servidores. Ambos servidores operan en paralelo, es decir, pueden atender a clientes al mismo tiempo, de manera independiente.\n",
        "\n",
        "Imprementaremos el siguiente pseudocodigo para modelar un sistema de colas en paralelo.\n",
        "\n",
        "![texto alternativo](https://drive.google.com/uc?id=1YyGn4RKgkrxFgRTHpT2sF4DsQvt9pWr0)\n",
        "\n",
        "\n"
      ],
      "metadata": {
        "id": "IpZjsmH9BIHx"
      }
    },
    {
      "cell_type": "markdown",
      "source": [
        "# VARIABLES - - INICIALES\n",
        "1. Primero definimos cada variable para ver el comportamiento que tendran:\n",
        "\n",
        "$t=0$: Tiempo inicial\n",
        "\n",
        "$C_1$: Clientes atendidos por el servidor 1\n",
        "\n",
        "$C_2$: Clientes atendidos por el servidor 2\n",
        "\n",
        "$N_{LL}$: Llegadas de clientes al sistema\n",
        "\n",
        "$SS$: Clientes que esperan a ser atendidos\n",
        "\n",
        "$t_{LL}$: Tiempo de la proxima llegada de cliente\n",
        "\n",
        "$t_1$: Tiempo en que el servidor 1 termina de al cliente\n",
        "\n",
        "$t_2$: Tiempo en que el servidor 2 termina de al cliente\n",
        "\n",
        "Por lo que codificamos lo siguinte"
      ],
      "metadata": {
        "id": "3HGXAylmEbIU"
      }
    },
    {
      "cell_type": "markdown",
      "source": [
        "2. De la misma manera que  el ejercicio de cola con un servidor y en serie utilizamos la distribución exponencial."
      ],
      "metadata": {
        "id": "Lkf8nLf2FrkO"
      }
    },
    {
      "cell_type": "code",
      "execution_count": 5,
      "metadata": {
        "id": "__CqQk5tBF2V"
      },
      "outputs": [],
      "source": [
        "import random\n",
        "import math\n",
        "import matplotlib.pyplot as plt\n",
        "\n",
        "# Funciones para generar tiempos de llegada y servicio con distribución uniforme\n",
        "def tiempo_llegada():\n",
        "    return random.uniform(0, 1)  # Distribución para el tiempo de llegadas\n",
        "\n",
        "def tiempo_servicio():\n",
        "    return random.uniform(0, 1)  # Distribución para el tiempo de servicio"
      ]
    },
    {
      "cell_type": "markdown",
      "source": [
        "3. Inicializamos nuestras variables"
      ],
      "metadata": {
        "id": "VvhHgREaGRd_"
      }
    },
    {
      "cell_type": "code",
      "source": [
        "# Parámetros de simulación\n",
        "t = 0  # Tiempo inicial\n",
        "C1 = 0  # Clientes atendidos por el servidor 1\n",
        "C2 = 0  # Clientes atendidos por el servidor 2\n",
        "NLL = 0  # Número de llegadas\n",
        "SS = (0)  # Estado de los servidores (número de clientes, servidor 1, servidor 2)\n",
        "T = 60  # Tinepo máximo de simulacion\n",
        "\n",
        "# Inicializamos el primer evento\n",
        "\n",
        "tLL = tiempo_llegada()  # Tiempo de llegada del primer cliente\n",
        "t1 = math.inf  # Servidor 1 vacío inicialmente\n",
        "t2 = math.inf  # Servidor 2 vacío inicialmente"
      ],
      "metadata": {
        "id": "QZe9-0ekGT8m"
      },
      "execution_count": 6,
      "outputs": []
    },
    {
      "cell_type": "code",
      "source": [
        "\n",
        "LL = [] # Lista para tiempos de llegadas\n",
        "S = []   # Lista para tiempos de salidas"
      ],
      "metadata": {
        "id": "FhZOMbNEXKNT"
      },
      "execution_count": 7,
      "outputs": []
    },
    {
      "cell_type": "markdown",
      "source": [
        "4. Describimos los casos establecidos en el pseudocódigo:\n",
        "\n",
        "* Caso 1: Un cliente llega al sistema\n",
        "* Caso 2: Un servidor ha terminado de atender a un cliente\n",
        "* Caso 3: Similar al caso 2, pero para el servidor 2"
      ],
      "metadata": {
        "id": "SQm1MvSEGuU8"
      }
    },
    {
      "cell_type": "code",
      "source": [
        "# Simulación\n",
        "while t < T:  # Simular por 100 unidades de tiempo\n",
        "    if tLL <= t1 and tLL <= t2:\n",
        "        # Caso 1: Llega un cliente\n",
        "        t = tLL # Actualizamos nuestro tiempo a la llegada del cliente\n",
        "        NLL += 1  # Incrementamos el npumero de llegadas\n",
        "        LL.append(t)  # Añadir cliente a la cola\n",
        "        tLL = t + tiempo_llegada()  # Generar próximo tiempo de llegada\n",
        "\n",
        "        if SS == (0):\n",
        "            # Si no hay clientes en espera, asignar al servidor 1\n",
        "            SS = (1, NLL, 0)\n",
        "            Y1 = tiempo_servicio()  # Generar Y1\n",
        "            t1 = t + Y1\n",
        "        elif SS[0] == 1 and SS[2] == 0:\n",
        "            # Si hay clientes en espera, asignar al servidor 2\n",
        "            SS = (2,SS[1],NLL)\n",
        "            Y2 = tiempo_servicio()  # Generar Y2\n",
        "            t2 = t + Y2\n",
        "            LL.append(t)\n",
        "\n",
        "\n",
        "\n",
        "\n"
      ],
      "metadata": {
        "colab": {
          "base_uri": "https://localhost:8080/",
          "height": 240
        },
        "id": "2sm8nK_eG2CL",
        "outputId": "fb5af47f-9cde-4049-8ff1-17cd8a7284b1"
      },
      "execution_count": 11,
      "outputs": [
        {
          "output_type": "error",
          "ename": "KeyboardInterrupt",
          "evalue": "",
          "traceback": [
            "\u001b[0;31m---------------------------------------------------------------------------\u001b[0m",
            "\u001b[0;31mKeyboardInterrupt\u001b[0m                         Traceback (most recent call last)",
            "\u001b[0;32m<ipython-input-11-d2dbee36fca5>\u001b[0m in \u001b[0;36m<cell line: 2>\u001b[0;34m()\u001b[0m\n\u001b[1;32m      1\u001b[0m \u001b[0;31m# Simulación\u001b[0m\u001b[0;34m\u001b[0m\u001b[0;34m\u001b[0m\u001b[0m\n\u001b[0;32m----> 2\u001b[0;31m \u001b[0;32mwhile\u001b[0m \u001b[0mt\u001b[0m \u001b[0;34m<\u001b[0m \u001b[0mT\u001b[0m\u001b[0;34m:\u001b[0m  \u001b[0;31m# Simular por 100 unidades de tiempo\u001b[0m\u001b[0;34m\u001b[0m\u001b[0;34m\u001b[0m\u001b[0m\n\u001b[0m\u001b[1;32m      3\u001b[0m     \u001b[0;32mif\u001b[0m \u001b[0mtLL\u001b[0m \u001b[0;34m<=\u001b[0m \u001b[0mt1\u001b[0m \u001b[0;32mand\u001b[0m \u001b[0mtLL\u001b[0m \u001b[0;34m<=\u001b[0m \u001b[0mt2\u001b[0m\u001b[0;34m:\u001b[0m\u001b[0;34m\u001b[0m\u001b[0;34m\u001b[0m\u001b[0m\n\u001b[1;32m      4\u001b[0m         \u001b[0;31m# Caso 1: Llega un cliente\u001b[0m\u001b[0;34m\u001b[0m\u001b[0;34m\u001b[0m\u001b[0m\n\u001b[1;32m      5\u001b[0m         \u001b[0mt\u001b[0m \u001b[0;34m=\u001b[0m \u001b[0mtLL\u001b[0m \u001b[0;31m# Actualizamos nuestro tiempo a la llegada del cliente\u001b[0m\u001b[0;34m\u001b[0m\u001b[0;34m\u001b[0m\u001b[0m\n",
            "\u001b[0;31mKeyboardInterrupt\u001b[0m: "
          ]
        }
      ]
    },
    {
      "cell_type": "code",
      "source": [
        "# Resultado final\n",
        "print(f\"Clientes atendidos por el servidor 1: {C1}\")\n",
        "print(f\"Clientes atendidos por el servidor 2: {C2}\")"
      ],
      "metadata": {
        "id": "imajGWbAHVV_"
      },
      "execution_count": null,
      "outputs": []
    }
  ]
}