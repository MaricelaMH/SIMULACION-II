{
  "nbformat": 4,
  "nbformat_minor": 0,
  "metadata": {
    "colab": {
      "provenance": [],
      "authorship_tag": "ABX9TyM2A0JSwQDyg6r5HB+pneo0",
      "include_colab_link": true
    },
    "kernelspec": {
      "name": "python3",
      "display_name": "Python 3"
    },
    "language_info": {
      "name": "python"
    }
  },
  "cells": [
    {
      "cell_type": "markdown",
      "metadata": {
        "id": "view-in-github",
        "colab_type": "text"
      },
      "source": [
        "<a href=\"https://colab.research.google.com/github/MaricelaMH/SIMULACION-II/blob/main/Cola_dos_servidores_paralelo.ipynb\" target=\"_parent\"><img src=\"https://colab.research.google.com/assets/colab-badge.svg\" alt=\"Open In Colab\"/></a>"
      ]
    },
    {
      "cell_type": "markdown",
      "source": [
        "## COLA-CON-DOS-SERVIDORES-EN-PARALELO\n",
        "Es otro sistema de teoría de colas, donde los clientes llegan a un sistema que tiene dos servidores. Ambos servidores operan en paralelo, es decir, pueden atender a clientes al mismo tiempo, de manera independiente.\n",
        "\n",
        "Imprementaremos el siguiente pseudocodigo para modelar un sistema de colas en paralelo.\n",
        "\n",
        "![texto alternativo](https://drive.google.com/uc?id=1YyGn4RKgkrxFgRTHpT2sF4DsQvt9pWr0)\n",
        "\n",
        "\n"
      ],
      "metadata": {
        "id": "IpZjsmH9BIHx"
      }
    },
    {
      "cell_type": "markdown",
      "source": [
        "# VARIABLES - - INICIALES\n",
        "1. Primero definimos cada variable para ver el comportamiento que tendran:\n",
        "\n",
        "$t=0$: Tiempo inicial\n",
        "\n",
        "$C_1$: Clientes atendidos por el servidor 1\n",
        "\n",
        "$C_2$: Clientes atendidos por el servidor 2\n",
        "\n",
        "$N_{LL}$: Llegadas de clientes al sistema\n",
        "\n",
        "$SS$: Clientes que esperan a ser atendidos\n",
        "\n",
        "$t_{LL}$: Tiempo de la proxima llegada de cliente\n",
        "\n",
        "$t_1$: Tiempo en que el servidor 1 termina de al cliente\n",
        "\n",
        "$t_2$: Tiempo en que el servidor 2 termina de al cliente\n",
        "\n",
        "Por lo que codificamos lo siguinte"
      ],
      "metadata": {
        "id": "3HGXAylmEbIU"
      }
    },
    {
      "cell_type": "markdown",
      "source": [
        "2. De la misma manera que  el ejercicio de cola con un servidor y en serie utilizamos la distribución uniforme."
      ],
      "metadata": {
        "id": "Lkf8nLf2FrkO"
      }
    },
    {
      "cell_type": "code",
      "execution_count": 103,
      "metadata": {
        "id": "__CqQk5tBF2V"
      },
      "outputs": [],
      "source": [
        "import random\n",
        "import math\n",
        "import matplotlib.pyplot as plt\n",
        "\n",
        "# Funciones para generar tiempos de llegada y servicio con distribución uniforme\n",
        "def tiempo_llegada():\n",
        "    return random.uniform(1, 5)  # Distribución para el tiempo de llegadas\n",
        "\n",
        "def tiempo_servicio():\n",
        "    return random.uniform(1, 5)  # Distribución para el tiempo de servicio"
      ]
    },
    {
      "cell_type": "markdown",
      "source": [
        "3. Inicializamos nuestras variables"
      ],
      "metadata": {
        "id": "VvhHgREaGRd_"
      }
    },
    {
      "cell_type": "code",
      "source": [
        "# Parámetros de la simulación\n",
        "T0 = 0  # Tiempo inicial\n",
        "T = 120 # Tiempo maximo de simulacion\n",
        "C1 = 0  # Contador del servidor 1\n",
        "C2 = 0  # Contador del servidor 2\n",
        "NLL = 0  # Número de llegadas\n",
        "SS = []  # Estado del sistema\n",
        "t = 0  # Tiempo actual\n",
        "tLL = tiempo_llegada()  # Primer tiempo de llegada\n",
        "t1 = math.inf  # Tiempo en que el servidor 1 estará disponible\n",
        "t2 = math.inf  # Tiempo en que el servidor 2 estará disponible\n"
      ],
      "metadata": {
        "id": "IJVFvxuGTe6X"
      },
      "execution_count": 104,
      "outputs": []
    },
    {
      "cell_type": "code",
      "source": [
        "# Iniciar la simulación\n",
        "SS =[] #Estado del sistema\n",
        "tiempos = [] # Lista para tiempos de llegadas\n",
        "clientes_en_sistema = []   # Lista para tiempos de salidas"
      ],
      "metadata": {
        "id": "pZigM_dDTgOZ"
      },
      "execution_count": 105,
      "outputs": []
    },
    {
      "cell_type": "markdown",
      "source": [
        "4. Describimos los casos establecidos en el pseudocódigo:\n",
        "\n",
        "* Caso 1: Un cliente llega al sistema\n",
        "* Caso 2: Un servidor ha terminado de atender a un cliente\n",
        "* Caso 3: Similar al caso 2, pero para el servidor 2"
      ],
      "metadata": {
        "id": "SQm1MvSEGuU8"
      }
    },
    {
      "cell_type": "code",
      "source": [
        "# Ciclo de simulación\n",
        "while t < T:\n",
        "    if (tLL <= t1) and (tLL <= t2):\n",
        "        # Caso 1: Llegada de cliente\n",
        "        t = tLL\n",
        "        NLL += 1\n",
        "        tLL = t + tiempo_llegada()\n",
        "        if len(SS) == 0:\n",
        "            SS = [(1, NLL, 0)]  # Asignamos al servidor 1\n",
        "            t1 = t + tiempo_servicio()  # Tiempo de servicio en servidor 1\n",
        "        elif len(SS) == 1 and SS[0][2] == 0:\n",
        "            SS = [(2, NLL, 0)]  # Asignamos al servidor 2\n",
        "            t2 = t + tiempo_servicio()  # Tiempo de servicio en servidor 2\n",
        "        else:\n",
        "            SS.append(NLL)  # Añadimos a la cola de espera\n",
        "        # Registramos a los clientes en el sistema en este momento\n",
        "        tiempos.append(t)\n",
        "        clientes_en_sistema.append(len(SS))\n",
        "\n",
        "    elif tLL > t1 and t1 <= t2:\n",
        "        # Caso 2: Servidor 1 finaliza servicio\n",
        "        t = t1\n",
        "        C1 += 1\n",
        "        if len(SS) > 1:\n",
        "            SS = [SS[1]] + SS[2:]  # Pasamos al siguiente cliente a servicio\n",
        "            t1 = t + tiempo_servicio()  # Generar nuevo tiempo de servicio\n",
        "        else:\n",
        "            SS = []  # El servidor está vacío\n",
        "            t1 = math.inf\n",
        "        # Registro de clientes en el sistema en este momento\n",
        "        tiempos.append(t)\n",
        "        clientes_en_sistema.append(len(SS))\n",
        "\n",
        "    elif t2 < tLL and t2 < t1:\n",
        "        # Caso 3: Servidor 2 finaliza servicio\n",
        "        t = t2\n",
        "        C2 += 1\n",
        "        if len(SS) > 2:\n",
        "            SS = [SS[0]] + [SS[2]] + SS[3:]  # Pasamos al siguiente cliente a servicio\n",
        "            t2 = t + tiempo_servicio()  # Generaos nuevo tiempo de servicio\n",
        "        elif len(SS) == 2:  # Verifica si solo hay 2 elementos en SS\n",
        "            SS = [SS[0]]  # El servidor 1 sigue con el cliente, servidor 2 vacío\n",
        "            t2 = math.inf  # No hay más clientes para el servidor 2\n",
        "        else:\n",
        "            SS = []  # No hay clientes, servidor vacío\n",
        "            t2 = math.inf  # Ambos servidores vacíos\n",
        "        # Registro de clientes en el sistema en este momento\n",
        "        tiempos.append(t)\n",
        "        clientes_en_sistema.append(len(SS))"
      ],
      "metadata": {
        "id": "o-vyfZTZTiut"
      },
      "execution_count": 106,
      "outputs": []
    },
    {
      "cell_type": "markdown",
      "source": [
        "5. Podemos observar cuantos clientes fueron atendidos por el servidor 1 y 2"
      ],
      "metadata": {
        "id": "B-kus-RRqpAk"
      }
    },
    {
      "cell_type": "code",
      "source": [
        "# Resultados finales\n",
        "print(f\"Total de clientes atendidos por el servidor 1: {C1}\")\n",
        "print(f\"Total de clientes atendidos por el servidor 2: {C2}\")\n",
        "print(f\"Total de llegadas: {NLL}\")"
      ],
      "metadata": {
        "colab": {
          "base_uri": "https://localhost:8080/"
        },
        "id": "myQqWt8CTnpK",
        "outputId": "f4dbbd94-7464-472f-88a7-dab0f6f9d73d"
      },
      "execution_count": 107,
      "outputs": [
        {
          "output_type": "stream",
          "name": "stdout",
          "text": [
            "Total de clientes atendidos por el servidor 1: 26\n",
            "Total de clientes atendidos por el servidor 2: 12\n",
            "Total de llegadas: 45\n"
          ]
        }
      ]
    },
    {
      "cell_type": "markdown",
      "source": [
        "6. Graficamos el tiempo de que duran los clientes dentro del sistema"
      ],
      "metadata": {
        "id": "2-78uPyxq3lR"
      }
    },
    {
      "cell_type": "code",
      "source": [
        "plt.figure(figsize=(10, 8))\n",
        "# Graficar el número de clientes en el sistema a lo largo del tiempo con plt.step\n",
        "plt.step(tiempos, clientes_en_sistema,where='post', marker='o', linestyle='-', color='b')\n",
        "plt.xlabel('Tiempo')\n",
        "plt.ylabel('Número de clientes en el sistema')\n",
        "plt.title('Legadas y Salidas de los Clientes en el Sistema')\n",
        "plt.grid(True)\n",
        "plt.show()"
      ],
      "metadata": {
        "colab": {
          "base_uri": "https://localhost:8080/",
          "height": 719
        },
        "id": "Jmhnm0gWWYRx",
        "outputId": "05bccea6-5938-42b9-f379-90737ac95a90"
      },
      "execution_count": 108,
      "outputs": [
        {
          "output_type": "display_data",
          "data": {
            "text/plain": [
              "<Figure size 1000x800 with 1 Axes>"
            ],
            "image/png": "[encoded data removed]"
          },
          "metadata": {}
        }
      ]
    },
    {
      "cell_type": "markdown",
      "source": [],
      "metadata": {
        "id": "TnAGXMWkrI3-"
      }
    }
  ]
}