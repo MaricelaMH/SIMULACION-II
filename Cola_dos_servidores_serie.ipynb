{
  "nbformat": 4,
  "nbformat_minor": 0,
  "metadata": {
    "colab": {
      "provenance": [],
      "authorship_tag": "ABX9TyPu/fMWaxWOeWoXZEO+LpnW",
      "include_colab_link": true
    },
    "kernelspec": {
      "name": "python3",
      "display_name": "Python 3"
    },
    "language_info": {
      "name": "python"
    }
  },
  "cells": [
    {
      "cell_type": "markdown",
      "metadata": {
        "id": "view-in-github",
        "colab_type": "text"
      },
      "source": [
        "<a href=\"https://colab.research.google.com/github/MaricelaMH/SIMULACION-II/blob/main/Cola_dos_servidores_serie.ipynb\" target=\"_parent\"><img src=\"https://colab.research.google.com/assets/colab-badge.svg\" alt=\"Open In Colab\"/></a>"
      ]
    },
    {
      "cell_type": "markdown",
      "source": [
        "## COLA-CON-DOS-SERVIDORES-EN-SERIE\n",
        "Un sistema de colas con dos servidores en serie es una forma en la que los clientes deben pasar por dos etapas de un servicio secuenciales antes de salir del sistema. Cada etapa tiene su propio servidor, y los clientes deben ser atendidos por el primer servidor antes de avanzar al segundo.\n",
        "\n",
        "Por lo que implementarenos el siguiente pseudocódigo para modelar un sistema de colas con dos servidores en serie.\n",
        "\n",
        "![texto alternativo](https://drive.google.com/uc?id=1mjcu1qwZJJAWgeYsTQn8wLT84f-IEMJi)\n",
        "\n",
        "\n",
        "\n"
      ],
      "metadata": {
        "id": "y230F23IgWfZ"
      }
    },
    {
      "cell_type": "markdown",
      "source": [
        "## VARIABLES - - INICIALES\n",
        "1. Primero definimos cada variable para ver el comportamiento que tendran:\n",
        "\n",
        "$t=0:$ Tiempo inicial 0\n",
        "\n",
        "$n_1$: No hay clientes en el primer servidor\n",
        "\n",
        "$n_2$: N o hay clientes en el segundo servidor\n",
        "\n",
        "$N_{LL}$: Número de llegadas hasta el instante $t$\n",
        "\n",
        "$N_s$: Número de clientes que han salido del sistema\n",
        "\n",
        "$T_0$: Tiempo de llegada de un cliente\n",
        "\n",
        "$t_{LL}$: Tiempo de la siguiente llegada (este sera igual al tiempo de llegada inicial generado)\n",
        "\n",
        "$t_1$:Tiempo de finalizacion del servicio en el primer servidor (si no hay clientes siendo antenidos, el tiempo es infinito)\n",
        "\n",
        "$t_2$:Tiempo de finalizacion del servicio en el segundo servidor (si no hay clientes siendo antenidos, el tiempo es infinito)\n",
        "\n",
        "Por lo que codificamos lo siguiente\n"
      ],
      "metadata": {
        "id": "lFoyUqdDEDS4"
      }
    },
    {
      "cell_type": "markdown",
      "source": [
        "2. Recordemos que en el ejercicio de cola con un servidor utilizamos la distribución exponencial dado que modela bien los tiempos entre eventos aleatorios e independientes, y tiene propiedades matemáticas que facilitan el análisis de sistemas con llegadas y tiempos de servicio aleatorios, por lo que la utilizaremos para el comportamiento de llegadas y el tiempo entre llegadas como una distribución exponencial."
      ],
      "metadata": {
        "id": "wGagh-YnKnfy"
      }
    },
    {
      "cell_type": "code",
      "source": [
        "import numpy as np\n",
        "import math\n",
        "import matplotlib.pyplot as plt\n",
        "\n",
        "# Función para generar tiempos de llegada y servicio (usaremos una distribución exponencial para este ejemplo)\n",
        "def tiempo(lamda):\n",
        "    return np.random.exponential(1/lamda)"
      ],
      "metadata": {
        "id": "bbbGwItGbJnH"
      },
      "execution_count": 63,
      "outputs": []
    },
    {
      "cell_type": "markdown",
      "source": [
        "3. Inicializamos nuestras variables"
      ],
      "metadata": {
        "id": "2tiexlXMbOM9"
      }
    },
    {
      "cell_type": "code",
      "source": [
        "# Parámetros de simulación\n",
        "T = 120  # Tiempo máximo de simulación\n",
        "lam = 1/5  # Tasa media de llegadas (un cliente cada 5 unidades de tiempo)\n",
        "mu1 = 1/3  # Tasa de servicio del servidor 1\n",
        "mu2 = 1/4  # Tasa de servicio del servidor 2\n",
        "\n",
        "# Variables iniciales\n",
        "t = 0  # Tiempo inicial\n",
        "n1 = 0  # Número de clientes en el servidor 1\n",
        "n2 = 0  # Número de clientes en el servidor 2\n",
        "NLL = 0  # Número total de llegadas\n",
        "NS = 0  # Número de clientes que han salido del sistema\n",
        "\n",
        "tLL = tiempo(lam)  # Tiempo de la próxima llegada\n",
        "t1 = math.inf  # Tiempo de finalización del primer servidor (inicialmente infinito)\n",
        "t2 = math.inf  # Tiempo de finalización del segundo servidor (inicialmente infinito)\n"
      ],
      "metadata": {
        "id": "Og_jHaHVbRE4"
      },
      "execution_count": 64,
      "outputs": []
    },
    {
      "cell_type": "markdown",
      "source": [
        "4. Inicializamos dos listas para almacenar los tiempos de llegadas y salidad."
      ],
      "metadata": {
        "id": "Id9iwP35L0-K"
      }
    },
    {
      "cell_type": "code",
      "source": [
        "LL = [] # Lista para tiempos de llegadas\n",
        "S = []   # Lista para tiempos de salidas"
      ],
      "metadata": {
        "id": "Bfn9UUTsbjLU"
      },
      "execution_count": 65,
      "outputs": []
    },
    {
      "cell_type": "markdown",
      "source": [
        "5.  Describimos los casos establecidos en el pseudocódigo:\n",
        "\n",
        "* Caso 1: Cuando una llegada ocurre.\n",
        "* Caso 2: Cuando un cliente finaliza su servicio en el servidor 1 y pasa al servidor 2.\n",
        "* Caso 3: Cuando un cliente finaliza su servicio en el servidor 2 y sale del sistema."
      ],
      "metadata": {
        "id": "cEAoofCp5ZB2"
      }
    },
    {
      "cell_type": "code",
      "source": [
        "# Simulación\n",
        "while t < T:\n",
        "\n",
        "  # Caso 1: Llegada de un cliente\n",
        "    if tLL <= t1 and tLL <= t2:\n",
        "        t = tLL     # Actualiza el tiempo a la llegada del cliente\n",
        "        NLL += 1    # Contador de llegadas\n",
        "        n1 += 1     # Contador de número de clientes del servidor 1\n",
        "        LL.append(t)  # Almacenamos los tiempos de llegada\n",
        "\n",
        "        if n1 == 1:  # Si el primer servidor estaba vacío\n",
        "            Y1 = tiempo(mu1)  # Generamos tiempo de servicio del servidor 1\n",
        "            t1 = t + Y1  # Actualizamos el tiempo final\n",
        "\n",
        "        tLL = t + tiempo(lam)  # Generamos próxima llegada\n",
        "\n",
        "    # Caso 2: Un cliente termina en el servidor 1\n",
        "    elif tLL > t1 and t1 <= t2:\n",
        "        t = t1   # El tiempo se actualiza al terminar el primer servidor\n",
        "        n1 -= 1  # Si el cliente termina en el primer servidor se reduce el numero de clientes\n",
        "        n2 += 1  # Si el cliente ha terminado en el servidos 1 pasa al servidor 2 por lo que este aumenta\n",
        "\n",
        "        if n1 > 0:  # Si hay más clientes en la cola del servidor 1\n",
        "            Y1 = tiempo(mu1)  # Generamos tiempo de servicio del servidor 1\n",
        "            t1 = t + Y1  # Actualizamos el tiempo final del servicio 1\n",
        "        else:\n",
        "            t1 = math.inf  # No hay más clientes en el servidor 1\n",
        "\n",
        "        if n2 == 1:  # Si el servidor 2 estaba vacío, generar tiempo de servicio\n",
        "            Y2 = tiempo(mu2)  # Generamos tiempo de servicio del servidor 2\n",
        "            t2 = t + Y2   # Actualzamos el tiempo final del servicio 2\n",
        "\n",
        "   # Caso 3: Un cliente termina en el servidor 2\n",
        "    elif t2 < t1 and t2 < tLL:\n",
        "        t = t2    # El tiempo se actualiza al terminar el segundo servidor\n",
        "        NS += 1   # Contador de clientes que han salido del sistema\n",
        "        n2 -= 1   # Si el cliente termina en el segundo servidor se reduce el numero de clientes\n",
        "        S.append(t) # Almacenamos los tiempos de salida\n",
        "\n",
        "        if n2 > 0:  # Si hay más clientes en la cola del servidor 2\n",
        "            Y2 = tiempo(mu2)  # Generamos tiempo de servicio para el sig. cliente en el servidor 2\n",
        "            t2 = t + Y2  # Actualizamos el tiempo final del servicio 2\n",
        "        else:\n",
        "            t2 = math.inf  # No hay más clientes en el servidor 2\n",
        "\n"
      ],
      "metadata": {
        "id": "9FnmMin2k3Zi"
      },
      "execution_count": 66,
      "outputs": []
    },
    {
      "cell_type": "markdown",
      "source": [
        "Por lo que podemos mostrar cual fue el timpo y el número de clientes en el sistema, asi:"
      ],
      "metadata": {
        "id": "1vuWSsTE_HVU"
      }
    },
    {
      "cell_type": "code",
      "source": [
        "# Resultados finales\n",
        "print(f\"Total de clientes que llegaron: {NLL}\")\n",
        "print(f\"Total de clientes que salieron: {NS}\")\n",
        "print(f\"Historial de llegadas: {LL}\")\n",
        "print(f\"Historial de salidas: {S}\")"
      ],
      "metadata": {
        "colab": {
          "base_uri": "https://localhost:8080/"
        },
        "id": "cU2iVhlTrUL7",
        "outputId": "843e6829-d053-42ae-e74f-86cb24517b28"
      },
      "execution_count": 67,
      "outputs": [
        {
          "output_type": "stream",
          "name": "stdout",
          "text": [
            "Total de clientes que llegaron: 22\n",
            "Total de clientes que salieron: 22\n",
            "Historial de llegadas: [1.7222680937638224, 6.636615988563348, 8.344384390285732, 9.307499246380338, 18.87613271680019, 19.15764833687413, 19.707018551661328, 22.043845755673463, 25.25416463504141, 27.372949820602216, 29.58928696587228, 33.863264915220846, 40.273961547318976, 50.513439061319794, 52.43351982544657, 53.47597733984086, 54.22387300149068, 60.39806110194863, 60.90861002171894, 74.81697500003713, 93.1092167031807, 115.54425323011652]\n",
            "Historial de salidas: [6.726265189085276, 9.184044415065625, 13.274065634722497, 15.925838952015859, 28.870180127056017, 30.671951734975544, 32.43799172392828, 36.85596255437081, 39.091476395608254, 43.29176685796254, 47.2424175297389, 48.840198424369866, 57.3095231491265, 61.9531246345738, 64.45360861926969, 67.755539980352, 68.43712355305604, 74.77582250275964, 82.98684009930945, 83.51687052528209, 96.92418445301743, 121.29280875523298]\n"
          ]
        }
      ]
    },
    {
      "cell_type": "markdown",
      "source": [
        "Veamos el comportamiento del tiempo por cada cliente durante el servicio"
      ],
      "metadata": {
        "id": "I9OVAg-Z_VXg"
      }
    },
    {
      "cell_type": "code",
      "source": [
        "# Calcular los tiempos de servicio por cliente\n",
        "tiempos_servicio = []\n",
        "for i in range(len(S)):\n",
        "  tiempos_servicio.append(S[i] - LL[i])\n",
        "\n",
        "# Graficar los tiempos de servicio por cliente\n",
        "plt.figure(figsize=(10, 6))\n",
        "plt.plot(tiempos_servicio, marker='o', linestyle='-',color='#4169E1')\n",
        "plt.xlabel('Número de Cliente')\n",
        "plt.ylabel('Tiempo de servicio (t)')\n",
        "plt.title('Tiempos de servicio por cliente')\n",
        "plt.grid(True)\n",
        "plt.show()"
      ],
      "metadata": {
        "colab": {
          "base_uri": "https://localhost:8080/",
          "height": 565
        },
        "id": "h5A_mXYNwktg",
        "outputId": "eb0c6ce3-119c-4647-b2e6-b2d731dd1b73"
      },
      "execution_count": 68,
      "outputs": [
        {
          "output_type": "display_data",
          "data": {
            "text/plain": [
              "<Figure size 1000x600 with 1 Axes>"
            ],
            "image/png": "[encoded data removed]"
          },
          "metadata": {}
        }
      ]
    },
    {
      "cell_type": "markdown",
      "source": [
        "Damos a conocer los tiempos por cliente:"
      ],
      "metadata": {
        "id": "o_t3o7Vz_ZgQ"
      }
    },
    {
      "cell_type": "code",
      "source": [
        "# Calcular los tiempos de servicio por cliente\n",
        "tiempos_servicio_por_cliente = []\n",
        "for i in range(len(S)):\n",
        "  tiempos_servicio_por_cliente.append(S[i] - LL[i])\n",
        "\n",
        "# Mostrar el tiempo de servicio por cliente\n",
        "print(\"Tiempo de servicio por cliente:\")\n",
        "for i, tiempo in enumerate(tiempos_servicio_por_cliente):\n",
        "  print(f\"Cliente {i+1}: {round(tiempo, 2)}\")\n"
      ],
      "metadata": {
        "colab": {
          "base_uri": "https://localhost:8080/"
        },
        "id": "zu5pp5_E2B42",
        "outputId": "d90f48cd-319b-4bf1-a0b4-39c1c28e742b"
      },
      "execution_count": 69,
      "outputs": [
        {
          "output_type": "stream",
          "name": "stdout",
          "text": [
            "Tiempo de servicio por cliente:\n",
            "Cliente 1: 5.0\n",
            "Cliente 2: 2.55\n",
            "Cliente 3: 4.93\n",
            "Cliente 4: 6.62\n",
            "Cliente 5: 9.99\n",
            "Cliente 6: 11.51\n",
            "Cliente 7: 12.73\n",
            "Cliente 8: 14.81\n",
            "Cliente 9: 13.84\n",
            "Cliente 10: 15.92\n",
            "Cliente 11: 17.65\n",
            "Cliente 12: 14.98\n",
            "Cliente 13: 17.04\n",
            "Cliente 14: 11.44\n",
            "Cliente 15: 12.02\n",
            "Cliente 16: 14.28\n",
            "Cliente 17: 14.21\n",
            "Cliente 18: 14.38\n",
            "Cliente 19: 22.08\n",
            "Cliente 20: 8.7\n",
            "Cliente 21: 3.81\n",
            "Cliente 22: 5.75\n"
          ]
        }
      ]
    },
    {
      "cell_type": "markdown",
      "source": [
        "Finalmente calculemos el tiempo total del servicio, el cual es"
      ],
      "metadata": {
        "id": "nE5pnHLR_ehP"
      }
    },
    {
      "cell_type": "code",
      "source": [
        "total_tiempo = 0\n",
        "for i in range(len(S)):\n",
        "  if i < len(LL):\n",
        "    total_tiempo += (S[i] - LL[i])\n",
        "\n",
        "print(f\"Tiempo total del servicio: {round(total_tiempo, 2)}\")"
      ],
      "metadata": {
        "colab": {
          "base_uri": "https://localhost:8080/"
        },
        "id": "tG_z5A705EWk",
        "outputId": "269a75b4-de5c-40a7-92e7-2e5bf93d0f4c"
      },
      "execution_count": 70,
      "outputs": [
        {
          "output_type": "stream",
          "name": "stdout",
          "text": [
            "Tiempo total del servicio: 254.24\n"
          ]
        }
      ]
    }
  ]
}