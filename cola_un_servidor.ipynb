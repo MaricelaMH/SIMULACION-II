{
  "nbformat": 4,
  "nbformat_minor": 0,
  "metadata": {
    "colab": {
      "provenance": [],
      "authorship_tag": "ABX9TyMzc1yyhUc9h7XazjAqqjPK",
      "include_colab_link": true
    },
    "kernelspec": {
      "name": "python3",
      "display_name": "Python 3"
    },
    "language_info": {
      "name": "python"
    }
  },
  "cells": [
    {
      "cell_type": "markdown",
      "metadata": {
        "id": "view-in-github",
        "colab_type": "text"
      },
      "source": [
        "<a href=\"https://colab.research.google.com/github/MaricelaMH/SIMULACION-II/blob/main/cola_un_servidor.ipynb\" target=\"_parent\"><img src=\"https://colab.research.google.com/assets/colab-badge.svg\" alt=\"Open In Colab\"/></a>"
      ]
    },
    {
      "cell_type": "markdown",
      "source": [
        "## COLA CON UN SERVIDOR"
      ],
      "metadata": {
        "id": "b4uuarB4Zr3M"
      }
    },
    {
      "cell_type": "markdown",
      "source": [
        "Una cola con un servidor es un concepto clave en la teoría de colas (o teoría de líneas de espera). Este modelo se utiliza para estudiar sistemas donde los \"clientes\" (que pueden ser personas, trabajos, tareas, etc.) llegan a una \"cola\" (una fila) y esperan ser atendidos por un \"servidor\" (o recurso que proporciona un servicio).\n",
        "\n",
        "Imprementaremos el siguiente pseudocodigo para modelar un sistema de colas simple.\n",
        "\n",
        "![texto alternativo](https://drive.google.com/uc?id=1yyDLsHHWvC5IFtPc9w2zClXhNDGFHrTE)\n",
        "\n",
        "\n"
      ],
      "metadata": {
        "id": "NGpmLfUba8fD"
      }
    },
    {
      "cell_type": "markdown",
      "source": [
        "# VARIABLES - - INICIALES\n",
        "1. Primero definimos cada variable para ver el comportamiento que tendran:\n",
        "\n",
        "* $t = 0$: Tiempo inicial $0$\n",
        "* $n=0$: Número de clientes en el sistema, inicialmente no hay clientes.\n",
        "* $N_{LL}$: Número de llegadas hasta el instante $t$\n",
        "* $N_s=0$: Número de salidas hasta el instante $t$\n",
        "* $T_p$: Tiempo de permanencia en el sistema\n",
        "* $T_0$ : Tiempo de llegada de un cliente\n",
        "* $t_{LL}$: Tiempo de la siguiente llegada (este sera igual al tiempo de llegada inicial generado)\n",
        "* $t_s$: Tiempo de servicio (si no hay clientes siendo antenidos, el tiempo es infinito)\n",
        "\n",
        "Por lo que codificamos lo siguiente:\n",
        "\n"
      ],
      "metadata": {
        "id": "ucUfU9kwdXr_"
      }
    },
    {
      "cell_type": "markdown",
      "source": [
        "2. Dado que en muchas simulaciones de colas, el número de llegadas y el tiempo entre llegadas de clientes se modela utilizando una distribución exponencial. Esto es especialmente común en la teoría de colas de Poisson, que se usa para describir procesos de llegada de clientes en sistemas de servicio, como bancos, hospitales, y transporte público, por lo que tomaremos el comportamiento de llegadas y el tiempo entre llegadas como una distribución exponencial.\n"
      ],
      "metadata": {
        "id": "J6--M3N5i-UU"
      }
    },
    {
      "cell_type": "code",
      "source": [
        "import random\n",
        "import math\n",
        "import matplotlib.pyplot as plt\n",
        "\n",
        "# Función para generar tiempos de llegada aleatorios\n",
        "def tiempo_llegada():\n",
        "    return random.expovariate(1.0)  # Con λ=1\n",
        "\n",
        "# Función para generar tiempos de servicio aleatorios\n",
        "def tiempo_servicio():\n",
        "    return random.expovariate(1.0)  # Con λ=1"
      ],
      "metadata": {
        "id": "rhEwUktxqIq2"
      },
      "execution_count": null,
      "outputs": []
    },
    {
      "cell_type": "markdown",
      "source": [
        "3. Inicializamos nuestas variables detalladas anteriormente:"
      ],
      "metadata": {
        "id": "5vABIeADqUFq"
      }
    },
    {
      "cell_type": "code",
      "source": [
        "# Parámetros iniciales\n",
        "T = 60  # Tiempo máximo de simulación\n",
        "t = 0   # Tiempo actual\n",
        "n = 0   # Número de clientes en el sistema\n",
        "NLL = 0 # Contador de llegadas\n",
        "NS = 0  # Contador de servicios completados\n",
        "Tp = 0  # Tiempo total de permanencia\n",
        "tLL = tiempo_llegada()  # Tiempo de la primera llegada\n",
        "tS = math.inf  # Tiempo de servicio (inicialmente infinito)"
      ],
      "metadata": {
        "id": "twlWPlaeh90z"
      },
      "execution_count": null,
      "outputs": []
    },
    {
      "cell_type": "markdown",
      "source": [
        "4. Declaramos dos listas para almacenar nuestros registros sobre los tiempos de llegadas y de servicio"
      ],
      "metadata": {
        "id": "C9dM5JPMknhR"
      }
    },
    {
      "cell_type": "code",
      "source": [
        "LL = []  # Lista para tiempos de llegadas\n",
        "S = []   # Lista para tiempos de salidas"
      ],
      "metadata": {
        "id": "R9SJf3tRkPsO"
      },
      "execution_count": null,
      "outputs": []
    },
    {
      "cell_type": "markdown",
      "source": [
        "5. Indicamos las condiciónes especificadas en cada caso, como la siguiente\n",
        "$$ t_{LL} \\leq t_s \\text{ y } t_{LL} \\leq T$$\n",
        "\n",
        "Lo anterior determina el momento en el que llega un nuevo cliente al sistema actualizando asi mismo el estado del sistema para representar el hecho de que un cliente ha llegado."
      ],
      "metadata": {
        "id": "Aa7o_dF7k19X"
      }
    },
    {
      "cell_type": "markdown",
      "source": [
        "6. Tanto el CASO 1 y el CASO 2 es el proceso y tiempos durante el servicio, por lo que se detalla cada una de ellas, asi veremos que el\n",
        "\n",
        "* CASO 1: Llegada del cliente\n",
        "* CASO 2: Servicio complerado\n"
      ],
      "metadata": {
        "id": "fcRMWNgX8f7r"
      }
    },
    {
      "cell_type": "code",
      "source": [
        " # Simulación\n",
        "while tLL <= T or (n > 0 and tS <= T):\n",
        "\n",
        "    # Caso 1: llegada de cliente\n",
        "    if tLL <= tS and tLL <= T:\n",
        "        t = tLL     # Actualiza el tiempo a la llegada del cliente\n",
        "        NLL += 1    # Contador de llegadas\n",
        "        n += 1      # Incrementa el numero de clientes en el sistema\n",
        "        LL.append(t)  # Registrar los tiempos de llegada\n",
        "        tLL = t + tiempo_llegada()  # Generar el siguiente tiempo de llegada\n",
        "\n",
        "        # Si es el único cliente en el sistema, generar tiempo de servicio\n",
        "        if n == 1:\n",
        "            Y = tiempo_servicio() # Tiempo de atencion para este cliente\n",
        "            tS = t + Y  # Generar el tiempo en que el servicio terminará\n",
        "\n",
        "    # Caso 2: servicio completado\n",
        "    elif tLL > tS and tS <= T:\n",
        "        t = tS   # Actualizar el tiempo desúes de la ultima salida del cliente\n",
        "        NS += 1  # Contador de servicios completados\n",
        "        n -= 1   # Disminuye el numero de clientes en el sistema\n",
        "        S.append(t)  # Registrar el tiempo de servicio completado\n",
        "\n",
        "        # Si quedan clientes en el sistema, generar otro tiempo de servicio\n",
        "        if n > 0:\n",
        "            Y = tiempo_servicio()\n",
        "            tS = t + Y\n",
        "        else:\n",
        "            tS = math.inf  # No hay más clientes en el sistema\n",
        "\n",
        "# Caso 3: Procesamos a los clientes después de que T haya pasado\n",
        "while n > 0:\n",
        "    t = tS\n",
        "    NS += 1 # Contador de servicios completados\n",
        "    n -= 1  # Disminuye el numero de clientes en el sistema\n",
        "    S.append(t)  # Registrar tiempo de servicio completado\n",
        "    if n > 0: # Si hay mas clientes en la cola\n",
        "        Y = tiempo_servicio() # Se vuelve a tomar el timepo de servicio para el cliente\n",
        "        tS = t + Y # Actualiza en tiempo de finalización\n",
        "    else:\n",
        "        tS = math.inf # Si no hay mas clientes, el tiempo se marca como infinito\n",
        "\n",
        "# Caso 4: Finalizamos simulación y calculamos tiempo total de permanencia\n",
        "    if tS > T and tLL > T and n == 0:\n",
        "       Tp = max(0, t - T)  # Calcula el tiempo total de permanencia"
      ],
      "metadata": {
        "id": "8YxvrvESyeGx"
      },
      "execution_count": null,
      "outputs": []
    },
    {
      "cell_type": "markdown",
      "source": [
        "7. Asi el CASO 3 procesa a los clientes que estan en el sistema cuando el tiempo máximo de simulación ya ha pasado, y finalmente en el CASO 4 se calcula el tiempo total de permanencia en el sistema, por lo que:\n",
        "* CASO 3: Procesa a los clientes restantes despues de que paso el tiempo establecido para el servicio\n",
        "* CASO 4: Finalizamos la simulación\n"
      ],
      "metadata": {
        "id": "3ISQIGsTKYaW"
      }
    },
    {
      "cell_type": "markdown",
      "source": [
        "Finalmente podemos mostrar cual fue el timpo y el número de clientes en el sistema, asi:"
      ],
      "metadata": {
        "id": "9ZhLHg_4MHm7"
      }
    },
    {
      "cell_type": "code",
      "source": [
        "# Resultados finales\n",
        "print(f\"Total de clientes que llegaron: {NLL}\")\n",
        "print(f\"Total de clientes que salieron: {NS}\")\n",
        "print(f\"Historial de llegadas: {LL}\")\n",
        "print(f\"Historial de salidas: {S}\")"
      ],
      "metadata": {
        "id": "WzYkNMlMsFpt",
        "outputId": "51f529f0-ad21-4fb2-84ee-e4cd9ba461da",
        "colab": {
          "base_uri": "https://localhost:8080/"
        }
      },
      "execution_count": null,
      "outputs": [
        {
          "output_type": "stream",
          "name": "stdout",
          "text": [
            "Total de clientes que llegaron: 56\n",
            "Total de clientes que salieron: 56\n",
            "Historial de llegadas: [0.30090266101781027, 0.9138316163239208, 1.6187067859376634, 2.2575149692186964, 2.386158207684252, 4.949610654295249, 5.065394252480366, 5.730655417345323, 6.101914916450685, 6.540612696099926, 8.023976483364574, 9.350222535880453, 10.906634873195166, 13.456856584988007, 15.365237177563719, 15.63700459650705, 15.679942249159572, 15.703230781886322, 17.750658499402753, 17.79952303276821, 18.873233385498175, 19.18409494372162, 19.487872008119997, 21.17295088218401, 23.802534357599477, 27.602033333250702, 28.5131183781197, 28.700264986772908, 28.750929323365696, 29.067054280364577, 29.777301016020377, 29.835572928481145, 33.20732052297634, 34.46584343477449, 36.55097070272104, 39.04313685829479, 40.17095476471663, 40.77858560669351, 43.81838222374415, 44.28223687463452, 44.77753045562904, 45.96230433423163, 49.1265218259639, 51.18479789359882, 52.65505611972495, 53.55870184193261, 53.732030527501244, 54.31915126632196, 55.217562400082194, 55.56024740758292, 55.622857905807834, 56.19142109994531, 56.637877569626625, 56.912701724357305, 57.00695755278991, 58.613089510112474]\n",
            "Historial de salidas: [3.1215001126254167, 4.810377465471877, 5.592588298202123, 7.164055838833521, 7.715541356953503, 11.012403729443504, 11.63330027890499, 12.512510561324332, 12.696351513290479, 12.903068371521123, 13.450874666693194, 15.297798757423626, 15.689776081289867, 16.45980122312685, 16.592033888439783, 17.096209936360673, 18.591850850182013, 18.82824951516634, 20.03244248592176, 20.933471838900886, 26.05265746145531, 26.47042505373418, 26.670736655738626, 26.84225110600935, 27.287234260502203, 27.647915254859864, 29.05734229197623, 32.61717188316187, 33.265182733998216, 34.81757539220059, 35.251719327052555, 36.878857251896676, 40.06067098044937, 40.76457765299032, 41.399500665111496, 41.48014765394302, 42.767478623058466, 43.227924455814325, 44.90006818553348, 45.64139186886429, 45.81491846879194, 46.989688646232885, 51.63487073894592, 51.648170709362255, 53.23547046481729, 56.21927086681383, 56.228248947327586, 56.342992226948176, 56.58890885115494, 57.87056728170481, 58.192686698043254, 58.44144796937777, 60.54238608738225, 60.94800241093191, 61.510591487624254, 62.118111205097634]\n"
          ]
        }
      ]
    },
    {
      "cell_type": "markdown",
      "source": [
        "Veamos el comportamiento del tiempo por cada cliente durante el servicio"
      ],
      "metadata": {
        "id": "91Gf-aO6Mjzt"
      }
    },
    {
      "cell_type": "code",
      "source": [
        "# Calculamos el tiempo después del cierre del sistema\n",
        "tiempos_servicio = []\n",
        "for i in range(len(S)):\n",
        "  if i < len(LL):\n",
        "    tiempos_servicio.append(S[i] - LL[i])\n",
        "\n",
        "# Graficamos los tiempos de servicio por cliente\n",
        "plt.figure(figsize=(10, 6))\n",
        "plt.plot(tiempos_servicio, marker='o', linestyle='-', color='#DDA0DD')\n",
        "plt.xlabel(\"Número de cliente\")\n",
        "plt.ylabel(\"Tiempo de servicio (t)\")\n",
        "plt.title(\"Tiempos de servicio por cliente\")\n",
        "plt.grid(True)\n",
        "plt.show()"
      ],
      "metadata": {
        "colab": {
          "base_uri": "https://localhost:8080/",
          "height": 206
        },
        "id": "LVdH0FZCN7y8",
        "outputId": "f7312d14-2b33-495d-d961-1de57ea448b6"
      },
      "execution_count": null,
      "outputs": [
        {
          "output_type": "display_data",
          "data": {
            "text/plain": [
              "<Figure size 1000x600 with 1 Axes>"
            ],
            "image/png": "[encoded data removed]"
          },
          "metadata": {}
        }
      ]
    },
    {
      "cell_type": "markdown",
      "source": [
        "Damos a conocer los tiempos por cliente:"
      ],
      "metadata": {
        "id": "rMs0hpQ9tAAr"
      }
    },
    {
      "cell_type": "code",
      "source": [
        "# Calculamos el tiempo de servicio por cliente\n",
        "tiempos_servicio_por_cliente = []\n",
        "for i in range(len(S)):\n",
        "  if i < len(LL):\n",
        "    tiempos_servicio_por_cliente.append(S[i] - LL[i])\n",
        "\n",
        "# Imprimimos el tiempo de servicio por cliente\n",
        "print(\"Tiempo de servicio por cliente:\")\n",
        "for i, tiempo in enumerate(tiempos_servicio_por_cliente):\n",
        "  print(f\"Cliente {i+1}: {round(tiempo, 2)}\")"
      ],
      "metadata": {
        "id": "dBTNDZpgsWxP",
        "outputId": "c92e61b8-f18f-4ef5-e6d1-8794c8f3481a",
        "colab": {
          "base_uri": "https://localhost:8080/"
        }
      },
      "execution_count": null,
      "outputs": [
        {
          "output_type": "stream",
          "name": "stdout",
          "text": [
            "Tiempo de servicio por cliente:\n",
            "Cliente 1: 2.82\n",
            "Cliente 2: 3.9\n",
            "Cliente 3: 3.97\n",
            "Cliente 4: 4.91\n",
            "Cliente 5: 5.33\n",
            "Cliente 6: 6.06\n",
            "Cliente 7: 6.57\n",
            "Cliente 8: 6.78\n",
            "Cliente 9: 6.59\n",
            "Cliente 10: 6.36\n",
            "Cliente 11: 5.43\n",
            "Cliente 12: 5.95\n",
            "Cliente 13: 4.78\n",
            "Cliente 14: 3.0\n",
            "Cliente 15: 1.23\n",
            "Cliente 16: 1.46\n",
            "Cliente 17: 2.91\n",
            "Cliente 18: 3.13\n",
            "Cliente 19: 2.28\n",
            "Cliente 20: 3.13\n",
            "Cliente 21: 7.18\n",
            "Cliente 22: 7.29\n",
            "Cliente 23: 7.18\n",
            "Cliente 24: 5.67\n",
            "Cliente 25: 3.48\n",
            "Cliente 26: 0.05\n",
            "Cliente 27: 0.54\n",
            "Cliente 28: 3.92\n",
            "Cliente 29: 4.51\n",
            "Cliente 30: 5.75\n",
            "Cliente 31: 5.47\n",
            "Cliente 32: 7.04\n",
            "Cliente 33: 6.85\n",
            "Cliente 34: 6.3\n",
            "Cliente 35: 4.85\n",
            "Cliente 36: 2.44\n",
            "Cliente 37: 2.6\n",
            "Cliente 38: 2.45\n",
            "Cliente 39: 1.08\n",
            "Cliente 40: 1.36\n",
            "Cliente 41: 1.04\n",
            "Cliente 42: 1.03\n",
            "Cliente 43: 2.51\n",
            "Cliente 44: 0.46\n",
            "Cliente 45: 0.58\n",
            "Cliente 46: 2.66\n",
            "Cliente 47: 2.5\n",
            "Cliente 48: 2.02\n",
            "Cliente 49: 1.37\n",
            "Cliente 50: 2.31\n",
            "Cliente 51: 2.57\n",
            "Cliente 52: 2.25\n",
            "Cliente 53: 3.9\n",
            "Cliente 54: 4.04\n",
            "Cliente 55: 4.5\n",
            "Cliente 56: 3.51\n"
          ]
        }
      ]
    },
    {
      "cell_type": "markdown",
      "source": [
        "Finalmente calculemos el tiempo total del servicio, el cual es:"
      ],
      "metadata": {
        "id": "S1nwOAcnt2xE"
      }
    },
    {
      "cell_type": "code",
      "source": [
        "total_tiempo = 0\n",
        "for i in range(len(S)):\n",
        "  if i < len(LL):\n",
        "    total_tiempo += (S[i] - LL[i])\n",
        "\n",
        "print(f\"Tiempo total del servicio: {round(total_tiempo, 2)}\")"
      ],
      "metadata": {
        "id": "wf7d4ZnLvmUD",
        "outputId": "7a229e28-1b74-40f2-de35-fb5166af017c",
        "colab": {
          "base_uri": "https://localhost:8080/"
        }
      },
      "execution_count": null,
      "outputs": [
        {
          "output_type": "stream",
          "name": "stdout",
          "text": [
            "Tiempo total del servicio: 209.86\n"
          ]
        }
      ]
    },
    {
      "cell_type": "code",
      "source": [
        "plt.step(LL,S)"
      ],
      "metadata": {
        "colab": {
          "base_uri": "https://localhost:8080/",
          "height": 271
        },
        "id": "bF7x8H4TePuQ",
        "outputId": "0466cab2-afe7-406f-84fa-1b4c5006c00c"
      },
      "execution_count": null,
      "outputs": [
        {
          "output_type": "execute_result",
          "data": {
            "text/plain": [
              "[<matplotlib.lines.Line2D at 0x7ed279516bf0>]"
            ]
          },
          "metadata": {},
          "execution_count": 10
        },
        {
          "output_type": "display_data",
          "data": {
            "text/plain": [
              "<Figure size 640x480 with 1 Axes>"
            ],
            "image/png": "[encoded data removed]"
          },
          "metadata": {}
        }
      ]
    }
  ]
}