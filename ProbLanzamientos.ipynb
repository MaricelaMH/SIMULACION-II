{
  "nbformat": 4,
  "nbformat_minor": 0,
  "metadata": {
    "colab": {
      "provenance": [],
      "authorship_tag": "ABX9TyO0fZtRlUNAcZPfhKRpZgOG",
      "include_colab_link": true
    },
    "kernelspec": {
      "name": "python3",
      "display_name": "Python 3"
    },
    "language_info": {
      "name": "python"
    }
  },
  "cells": [
    {
      "cell_type": "markdown",
      "metadata": {
        "id": "view-in-github",
        "colab_type": "text"
      },
      "source": [
        "<a href=\"https://colab.research.google.com/github/MaricelaMH/SIMULACION-II/blob/main/ProbLanzamientos.ipynb\" target=\"_parent\"><img src=\"https://colab.research.google.com/assets/colab-badge.svg\" alt=\"Open In Colab\"/></a>"
      ]
    },
    {
      "cell_type": "markdown",
      "source": [
        "E - J - E - R - C - I - C - I - O     D - E    L - A - N - Z - A - M - I - E - N - T - O - S    \n",
        "Supongamos que tenemos un tablero con 4 sectores, lanzamos 2 mobnedas y avanzamos en sentido horario, el nùmero de caras que aparezca, si repetimos el experimento...¿Son todos los sectores igual de probables cuando para mucho tiempo?"
      ],
      "metadata": {
        "id": "bmjENXIAuHU5"
      }
    },
    {
      "cell_type": "code",
      "execution_count": null,
      "metadata": {
        "id": "gdJ3gjItpDOQ"
      },
      "outputs": [],
      "source": [
        "# Importamos librerias\n",
        "import random"
      ]
    },
    {
      "cell_type": "code",
      "source": [
        "# Definimos nuestras casillas\n",
        "casillas=[\"naranja\",\"azul\",\"verde\",\"rojo\" ]\n"
      ],
      "metadata": {
        "id": "MCIYivFlptdo"
      },
      "execution_count": null,
      "outputs": []
    },
    {
      "cell_type": "code",
      "source": [
        "# Definimos una funciòn para simular dos lanzamientos de monedas y asi saber cuantas caras aparecen\n",
        "def lanzamientos_monedas():\n",
        "  result = [random.choice([\"sol\",\"aguila\"]) for i in range(2)]\n",
        "  return resultados.count(\"sol\")"
      ],
      "metadata": {
        "id": "jetzW24DvOKh"
      },
      "execution_count": null,
      "outputs": []
    }
  ]
}