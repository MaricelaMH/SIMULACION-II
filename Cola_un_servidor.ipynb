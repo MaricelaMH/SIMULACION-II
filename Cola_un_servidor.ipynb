{
  "nbformat": 4,
  "nbformat_minor": 0,
  "metadata": {
    "colab": {
      "provenance": [],
      "authorship_tag": "ABX9TyMea49o3G2LhtDOaXqrZc+i",
      "include_colab_link": true
    },
    "kernelspec": {
      "name": "python3",
      "display_name": "Python 3"
    },
    "language_info": {
      "name": "python"
    }
  },
  "cells": [
    {
      "cell_type": "markdown",
      "metadata": {
        "id": "view-in-github",
        "colab_type": "text"
      },
      "source": [
        "<a href=\"https://colab.research.google.com/github/MaricelaMH/SIMULACION-II/blob/main/Cola_un_servidor.ipynb\" target=\"_parent\"><img src=\"https://colab.research.google.com/assets/colab-badge.svg\" alt=\"Open In Colab\"/></a>"
      ]
    },
    {
      "cell_type": "markdown",
      "source": [
        "## COLA CON UN SERVIDOR"
      ],
      "metadata": {
        "id": "b4uuarB4Zr3M"
      }
    },
    {
      "cell_type": "markdown",
      "source": [
        "Una cola con un servidor es un concepto clave en la teoría de colas (o teoría de líneas de espera). Este modelo se utiliza para estudiar sistemas donde los \"clientes\" (que pueden ser personas, trabajos, tareas, etc.) llegan a una \"cola\" (una fila) y esperan ser atendidos por un \"servidor\" (o recurso que proporciona un servicio).\n",
        "\n",
        "Imprementaremos el siguiente pseudocodigo para modelar un sistema de colas simple.\n",
        "\n",
        "![texto alternativo](https://drive.google.com/uc?id=1yyDLsHHWvC5IFtPc9w2zClXhNDGFHrTE)\n",
        "\n",
        "\n"
      ],
      "metadata": {
        "id": "NGpmLfUba8fD"
      }
    },
    {
      "cell_type": "markdown",
      "source": [
        "# VARIABLES - - INICIALES\n",
        "1. Primero definimos cada variable para ver el comportamiento que tendran:\n",
        "\n",
        "* $t = 0$: Tiempo inicial $0$\n",
        "* $n=0$: Número de clientes en el sistema, inicialmente no hay clientes.\n",
        "* $N_{LL}$: Número de llegadas hasta el instante $t$\n",
        "* $N_s=0$: Número de salidas hasta el instante $t$\n",
        "* $T_p$: Tiempo de permanencia en el sistema\n",
        "* $T_0$ : Tiempo de llegada de un cliente\n",
        "* $t_{LL}$: Tiempo de la siguiente llegada (este sera igual al tiempo de llegada inicial generado)\n",
        "* $t_s$: Tiempo de servicio (si no hay clientes siendo antenidos, el tiempo es infinito)\n",
        "\n",
        "Por lo que codificamos lo siguiente:\n",
        "\n"
      ],
      "metadata": {
        "id": "ucUfU9kwdXr_"
      }
    },
    {
      "cell_type": "markdown",
      "source": [
        "2. Dado que en muchas simulaciones de colas, el número de llegadas y el tiempo entre llegadas de clientes se modela utilizando una distribución exponencial. Esto es especialmente común en la teoría de colas de Poisson, que se usa para describir procesos de llegada de clientes en sistemas de servicio, como bancos, hospitales, y transporte público, por lo que tomaremos el comportamiento de llegadas y el tiempo entre llegadas como una distribución exponencial.\n"
      ],
      "metadata": {
        "id": "J6--M3N5i-UU"
      }
    },
    {
      "cell_type": "code",
      "source": [
        "import random\n",
        "import math\n",
        "import matplotlib.pyplot as plt\n",
        "\n",
        "# Función para generar tiempos de llegada aleatorios\n",
        "def tiempo_llegada():\n",
        "    return random.expovariate(1.0)  # Con λ=1\n",
        "\n",
        "# Función para generar tiempos de servicio aleatorios\n",
        "def tiempo_servicio():\n",
        "    return random.expovariate(1.0)  # Con λ=1\n"
      ],
      "metadata": {
        "id": "rhEwUktxqIq2"
      },
      "execution_count": 112,
      "outputs": []
    },
    {
      "cell_type": "markdown",
      "source": [
        "3. Inicializamos nuestas variables detalladas anteriormente:"
      ],
      "metadata": {
        "id": "5vABIeADqUFq"
      }
    },
    {
      "cell_type": "code",
      "source": [
        "# Parámetros iniciales\n",
        "T = 60  # Tiempo máximo de simulación\n",
        "t = 0   # Tiempo actual\n",
        "n = 0   # Número de clientes en el sistema\n",
        "NLL = 0 # Contador de llegadas\n",
        "NS = 0  # Contador de servicios completados\n",
        "Tp = 0  # Tiempo total de permanencia\n",
        "tLL = tiempo_llegada()  # Tiempo de la primera llegada\n",
        "tS = math.inf  # Tiempo de servicio (inicialmente infinito)"
      ],
      "metadata": {
        "id": "twlWPlaeh90z"
      },
      "execution_count": 113,
      "outputs": []
    },
    {
      "cell_type": "markdown",
      "source": [
        "4. Declaramos dos listas para almacenar nuestros registros sobre los tiempos de llegadas y de servicio"
      ],
      "metadata": {
        "id": "C9dM5JPMknhR"
      }
    },
    {
      "cell_type": "code",
      "source": [
        "LL = []  # Lista para tiempos de llegadas\n",
        "S = []   # Lista para tiempos de salidas"
      ],
      "metadata": {
        "id": "R9SJf3tRkPsO"
      },
      "execution_count": 114,
      "outputs": []
    },
    {
      "cell_type": "markdown",
      "source": [
        "5. Indicamos las condiciónes especificadas en cada caso, como la siguiente\n",
        "$$ t_{LL} \\leq t_s \\text{ y } t_{LL} \\leq T$$\n",
        "\n",
        "Lo anterior determina el momento en el que llega un nuevo cliente al sistema actualizando asi mismo el estado del sistema para representar el hecho de que un cliente ha llegado."
      ],
      "metadata": {
        "id": "Aa7o_dF7k19X"
      }
    },
    {
      "cell_type": "markdown",
      "source": [
        "6. Tanto el CASO 1 y el CASO 2 es el proceso y tiempos durante el servicio, por lo que se detalla cada una de ellas, asi veremos que el\n",
        "\n",
        "* CASO 1: Llegada del cliente\n",
        "* CASO 2: Servicio complerado\n"
      ],
      "metadata": {
        "id": "fcRMWNgX8f7r"
      }
    },
    {
      "cell_type": "code",
      "source": [
        " # Simulación\n",
        "while tLL <= T or (n > 0 and tS <= T):\n",
        "\n",
        "    # Caso 1: llegada de cliente\n",
        "    if tLL <= tS and tLL <= T:\n",
        "        t = tLL     # Actualiza el tiempo a la llegada del cliente\n",
        "        NLL += 1    # Contador de llegadas\n",
        "        n += 1      # Incrementa el numero de clientes en el sistema\n",
        "        LL.append(t)  # Registrar los tiempos de llegada\n",
        "        tLL = t + tiempo_llegada()  # Generar el siguiente tiempo de llegada\n",
        "\n",
        "        # Si es el único cliente en el sistema, generar tiempo de servicio\n",
        "        if n == 1:\n",
        "            Y = tiempo_servicio() # Tiempo de atencion para este cliente\n",
        "            tS = t + Y  # Generar el tiempo en que el servicio terminará\n",
        "\n",
        "    # Caso 2: servicio completado\n",
        "    elif tLL > tS and tS <= T:\n",
        "        t = tS   # Actualizar el tiempo desúes de la ultima salida del cliente\n",
        "        NS += 1  # Contador de servicios completados\n",
        "        n -= 1   # Disminuye el numero de clientes en el sistema\n",
        "        S.append(t)  # Registrar el tiempo de servicio completado\n",
        "\n",
        "        # Si quedan clientes en el sistema, generar otro tiempo de servicio\n",
        "        if n > 0:\n",
        "            Y = tiempo_servicio()\n",
        "            tS = t + Y\n",
        "        else:\n",
        "            tS = math.inf  # No hay más clientes en el sistema\n",
        "\n",
        "# Caso 3: Procesamos a los clientes después de que T haya pasado\n",
        "while n > 0:\n",
        "    t = tS\n",
        "    NS += 1 # Contador de servicios completados\n",
        "    n -= 1  # Disminuye el numero de clientes en el sistema\n",
        "    S.append(t)  # Registrar tiempo de servicio completado\n",
        "    if n > 0: # Si hay mas clientes en la cola\n",
        "        Y = tiempo_servicio() # Se vuelve a tomar el timepo de servicio para el cliente\n",
        "        tS = t + Y # Actualiza en tiempo de finalización\n",
        "    else:\n",
        "        tS = math.inf # Si no hay mas clientes, el tiempo se marca como infinito\n",
        "\n",
        "# Caso 4: Finalizamos simulación y calculamos tiempo total de permanencia\n",
        "    if tS > T and tLL > T and n == 0:\n",
        "       Tp = max(0, t - T)  # Calcula el tiempo total de permanencia\n"
      ],
      "metadata": {
        "id": "8YxvrvESyeGx"
      },
      "execution_count": 115,
      "outputs": []
    },
    {
      "cell_type": "markdown",
      "source": [
        "7. Asi el CASO 3 procesa a los clientes que estan en el sistema cuando el tiempo máximo de simulación ya ha pasado, y finalmente en el CASO 4 se calcula el tiempo total de permanencia en el sistema, por lo que:\n",
        "* CASO 3: Procesa a los clientes restantes despues de que paso el tiempo establecido para el servicio\n",
        "* CASO 4: Finalizamos la simulación\n"
      ],
      "metadata": {
        "id": "3ISQIGsTKYaW"
      }
    },
    {
      "cell_type": "markdown",
      "source": [
        "Finalmente podemos mostrar cual fue el timpo y el número de clientes en el sistema, asi:"
      ],
      "metadata": {
        "id": "9ZhLHg_4MHm7"
      }
    },
    {
      "cell_type": "code",
      "source": [
        "# Resultados finales\n",
        "print(f\"Total de clientes que llegaron: {NLL}\")\n",
        "print(f\"Total de clientes que salieron: {NS}\")\n",
        "print(f\"Historial de llegadas: {LL}\")\n",
        "print(f\"Historial de salidas: {S}\")"
      ],
      "metadata": {
        "id": "WzYkNMlMsFpt",
        "outputId": "9e93a032-f54c-40e5-f825-5f9197909698",
        "colab": {
          "base_uri": "https://localhost:8080/"
        }
      },
      "execution_count": 116,
      "outputs": [
        {
          "output_type": "stream",
          "name": "stdout",
          "text": [
            "Total de clientes que llegaron: 70\n",
            "Total de clientes que salieron: 70\n",
            "Historial de llegadas: [0.2684909156580922, 1.623897108937594, 2.0015065952583857, 7.4775658566420455, 8.103309991472349, 8.57714447762089, 9.012359271977752, 9.580202572793201, 10.832477750175457, 11.780367563959599, 14.653739516769537, 14.752490356508858, 14.837242546043123, 14.850433516810483, 15.203965138599585, 16.51179270721999, 18.83178824409909, 19.536189536395717, 20.720296567530152, 21.130780720710664, 21.400293051093172, 22.01330633453235, 22.82238569658223, 22.88208400452255, 23.062329119708668, 25.94166144927339, 28.77699353529056, 29.14570978768366, 29.31936384636405, 30.573306100196024, 30.788525105257527, 30.797417163058302, 31.499352757542344, 31.58073931136314, 32.12453505131461, 32.88377557362629, 33.428977946151896, 36.66673306769643, 37.895183472433864, 39.29263689861516, 39.3042620405373, 39.34820181312315, 39.77741944671371, 41.317204839144836, 41.3997469178208, 41.44426762058834, 42.93086641623932, 43.024281716658166, 43.5214216953319, 45.452706530343114, 45.50397667296178, 47.01883213123844, 48.001612071730825, 48.104846417075194, 48.77834967209063, 49.60147884387704, 49.707473767041364, 50.039184960691095, 52.165348183123754, 52.19300087871238, 53.108768533404586, 53.236988811714774, 53.64467576691094, 54.15099182586852, 55.050001550943875, 55.43868752576482, 55.941278800909515, 56.62931312372554, 58.404435591128205, 58.76712966971476]\n",
            "Historial de salidas: [1.8869766251450981, 3.1161682522034955, 3.123831527159997, 8.69934002070627, 10.436153629967482, 10.899540843521088, 11.96480531328273, 13.111270798429986, 13.38941811720683, 14.277002188285385, 16.499122719572032, 17.377287941166404, 17.73205544878493, 18.285497863776346, 18.96447127070371, 20.21202220715267, 20.50679566868579, 20.54991939367406, 20.90810644890311, 21.14039094169161, 22.326983849958097, 23.935194582897577, 24.5363134325649, 24.744486228478788, 25.173934349069, 27.037148258485807, 29.09177946910589, 30.902455684381955, 31.210126547525448, 31.915213058783046, 32.930749336455264, 33.88264583405413, 34.49314668092286, 34.58692285490544, 36.4666142982572, 36.7530448323534, 37.321248882653414, 37.356807358934226, 37.9879090525261, 42.79742027160377, 42.890292433962955, 43.79784030206766, 43.91538487424687, 46.35994620893981, 46.776067393450624, 48.84218184472355, 49.38275984637228, 49.43204405304449, 50.36346460003213, 50.53609977434617, 51.06569532110737, 51.638498077490276, 51.77269415963446, 51.777805526299, 51.83496582996098, 53.31278028640167, 54.0671824877701, 58.25414355516579, 58.66518446608554, 60.19702039563354, 61.03594927286285, 62.899324768816975, 63.70659737189552, 63.888461408853715, 64.6291947568053, 65.36885319851356, 66.80676623095103, 70.13355344554678, 70.53885060362319, 72.55111290101253]\n"
          ]
        }
      ]
    },
    {
      "cell_type": "markdown",
      "source": [
        "Veamos el comportamiento del tiempo por cada cliente durante el servicio"
      ],
      "metadata": {
        "id": "91Gf-aO6Mjzt"
      }
    },
    {
      "cell_type": "code",
      "source": [
        "# Calculamos el tiempo después del cierre del sistema\n",
        "tiempos_servicio = []\n",
        "for i in range(len(S)):\n",
        "  if i < len(LL):\n",
        "    tiempos_servicio.append(S[i] - LL[i])\n",
        "\n",
        "# Graficamos los tiempos de servicio por cliente\n",
        "plt.plot(tiempos_servicio, marker='o', linestyle='-', color='#DDA0DD')\n",
        "plt.xlabel(\"Número de cliente\")\n",
        "plt.ylabel(\"Tiempo de servicio (t)\")\n",
        "plt.title(\"Tiempos de servicio por cliente\")\n",
        "plt.grid(True)\n",
        "plt.show()"
      ],
      "metadata": {
        "colab": {
          "base_uri": "https://localhost:8080/",
          "height": 473
        },
        "id": "LVdH0FZCN7y8",
        "outputId": "88eae08c-6a22-4d48-aca6-6119e97d31e0"
      },
      "execution_count": 117,
      "outputs": [
        {
          "output_type": "display_data",
          "data": {
            "text/plain": [
              "<Figure size 640x480 with 1 Axes>"
            ],
            "image/png": "[encoded data removed]"
          },
          "metadata": {}
        }
      ]
    },
    {
      "cell_type": "markdown",
      "source": [
        "Damos a conocer los tiempos por cliente:"
      ],
      "metadata": {
        "id": "rMs0hpQ9tAAr"
      }
    },
    {
      "cell_type": "code",
      "source": [
        "# Calculamos el tiempo de servicio por cliente\n",
        "tiempos_servicio_por_cliente = []\n",
        "for i in range(len(S)):\n",
        "  if i < len(LL):\n",
        "    tiempos_servicio_por_cliente.append(S[i] - LL[i])\n",
        "\n",
        "# Imprimimos el tiempo de servicio por cliente\n",
        "print(\"Tiempo de servicio por cliente:\")\n",
        "for i, tiempo in enumerate(tiempos_servicio_por_cliente):\n",
        "  print(f\"Cliente {i+1}: {round(tiempo, 2)}\")\n"
      ],
      "metadata": {
        "id": "dBTNDZpgsWxP",
        "outputId": "fd751b47-428b-4ae7-add7-a5e443db978d",
        "colab": {
          "base_uri": "https://localhost:8080/"
        }
      },
      "execution_count": 118,
      "outputs": [
        {
          "output_type": "stream",
          "name": "stdout",
          "text": [
            "Tiempo de servicio por cliente:\n",
            "Cliente 1: 1.62\n",
            "Cliente 2: 1.49\n",
            "Cliente 3: 1.12\n",
            "Cliente 4: 1.22\n",
            "Cliente 5: 2.33\n",
            "Cliente 6: 2.32\n",
            "Cliente 7: 2.95\n",
            "Cliente 8: 3.53\n",
            "Cliente 9: 2.56\n",
            "Cliente 10: 2.5\n",
            "Cliente 11: 1.85\n",
            "Cliente 12: 2.62\n",
            "Cliente 13: 2.89\n",
            "Cliente 14: 3.44\n",
            "Cliente 15: 3.76\n",
            "Cliente 16: 3.7\n",
            "Cliente 17: 1.68\n",
            "Cliente 18: 1.01\n",
            "Cliente 19: 0.19\n",
            "Cliente 20: 0.01\n",
            "Cliente 21: 0.93\n",
            "Cliente 22: 1.92\n",
            "Cliente 23: 1.71\n",
            "Cliente 24: 1.86\n",
            "Cliente 25: 2.11\n",
            "Cliente 26: 1.1\n",
            "Cliente 27: 0.31\n",
            "Cliente 28: 1.76\n",
            "Cliente 29: 1.89\n",
            "Cliente 30: 1.34\n",
            "Cliente 31: 2.14\n",
            "Cliente 32: 3.09\n",
            "Cliente 33: 2.99\n",
            "Cliente 34: 3.01\n",
            "Cliente 35: 4.34\n",
            "Cliente 36: 3.87\n",
            "Cliente 37: 3.89\n",
            "Cliente 38: 0.69\n",
            "Cliente 39: 0.09\n",
            "Cliente 40: 3.5\n",
            "Cliente 41: 3.59\n",
            "Cliente 42: 4.45\n",
            "Cliente 43: 4.14\n",
            "Cliente 44: 5.04\n",
            "Cliente 45: 5.38\n",
            "Cliente 46: 7.4\n",
            "Cliente 47: 6.45\n",
            "Cliente 48: 6.41\n",
            "Cliente 49: 6.84\n",
            "Cliente 50: 5.08\n",
            "Cliente 51: 5.56\n",
            "Cliente 52: 4.62\n",
            "Cliente 53: 3.77\n",
            "Cliente 54: 3.67\n",
            "Cliente 55: 3.06\n",
            "Cliente 56: 3.71\n",
            "Cliente 57: 4.36\n",
            "Cliente 58: 8.21\n",
            "Cliente 59: 6.5\n",
            "Cliente 60: 8.0\n",
            "Cliente 61: 7.93\n",
            "Cliente 62: 9.66\n",
            "Cliente 63: 10.06\n",
            "Cliente 64: 9.74\n",
            "Cliente 65: 9.58\n",
            "Cliente 66: 9.93\n",
            "Cliente 67: 10.87\n",
            "Cliente 68: 13.5\n",
            "Cliente 69: 12.13\n",
            "Cliente 70: 13.78\n"
          ]
        }
      ]
    },
    {
      "cell_type": "markdown",
      "source": [
        "Finalmente calculemos el tiempo total del servicio, el cual es:"
      ],
      "metadata": {
        "id": "S1nwOAcnt2xE"
      }
    },
    {
      "cell_type": "code",
      "source": [
        "total_service_time = 0\n",
        "for i in range(len(S)):\n",
        "  if i < len(LL):\n",
        "    total_service_time += (S[i] - LL[i])\n",
        "\n",
        "print(f\"Tiempo total del servicio: {round(total_service_time, 2)}\")"
      ],
      "metadata": {
        "id": "wf7d4ZnLvmUD",
        "outputId": "c4c1f0b6-9054-412d-cef1-eaccf17f4311",
        "colab": {
          "base_uri": "https://localhost:8080/"
        }
      },
      "execution_count": 119,
      "outputs": [
        {
          "output_type": "stream",
          "name": "stdout",
          "text": [
            "Tiempo total del servicio: 298.78\n"
          ]
        }
      ]
    }
  ]
}