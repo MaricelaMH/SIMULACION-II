{
  "nbformat": 4,
  "nbformat_minor": 0,
  "metadata": {
    "colab": {
      "provenance": [],
      "authorship_tag": "ABX9TyNgCiiGzpN+5G8k9C8s7T0T",
      "include_colab_link": true
    },
    "kernelspec": {
      "name": "python3",
      "display_name": "Python 3"
    },
    "language_info": {
      "name": "python"
    }
  },
  "cells": [
    {
      "cell_type": "markdown",
      "metadata": {
        "id": "view-in-github",
        "colab_type": "text"
      },
      "source": [
        "<a href=\"https://colab.research.google.com/github/MaricelaMH/SIMULACION-II/blob/main/Cola_un_servidor.ipynb\" target=\"_parent\"><img src=\"https://colab.research.google.com/assets/colab-badge.svg\" alt=\"Open In Colab\"/></a>"
      ]
    },
    {
      "cell_type": "markdown",
      "source": [
        "## COLA CON UN SERVIDOR"
      ],
      "metadata": {
        "id": "b4uuarB4Zr3M"
      }
    },
    {
      "cell_type": "markdown",
      "source": [
        "Una cola con un servidor es un concepto clave en la teoría de colas (o teoría de líneas de espera). Este modelo se utiliza para estudiar sistemas donde los \"clientes\" (que pueden ser personas, trabajos, tareas, etc.) llegan a una \"cola\" (una fila) y esperan ser atendidos por un \"servidor\" (o recurso que proporciona un servicio).\n",
        "\n",
        "Imprementaremos el siguiente pseudocodigo para modelar un sistema de colas simple.\n",
        "\n",
        "![texto alternativo](https://drive.google.com/uc?id=1yyDLsHHWvC5IFtPc9w2zClXhNDGFHrTE)\n",
        "\n",
        "\n"
      ],
      "metadata": {
        "id": "NGpmLfUba8fD"
      }
    },
    {
      "cell_type": "markdown",
      "source": [
        "# VARIABLES - - INICIALES\n",
        "1. Primero definimos cada variable para ver el comportamiento que tendran:\n",
        "\n",
        "* $t = 0$: Tiempo inicial $0$\n",
        "* $n=0$: Número de clientes en el sistema, inicialmente no hay clientes.\n",
        "* $N_{LL}$: Número de llegadas hasta el instante $t$\n",
        "* $N_s=0$: Número de salidas hasta el instante $t$\n",
        "* $T_p$: Tiempo de permanencia en el sistema\n",
        "* $T_0$ : Tiempo de llegada de un cliente\n",
        "* $t_{LL}$: Tiempo de la siguiente llegada (este sera igual al tiempo de llegada inicial generado)\n",
        "* $t_s$: Tiempo de servicio (si no hay clientes siendo antenidos, el tiempo es infinito)\n",
        "\n",
        "Por lo que codificamos lo siguiente:\n",
        "\n"
      ],
      "metadata": {
        "id": "ucUfU9kwdXr_"
      }
    },
    {
      "cell_type": "markdown",
      "source": [
        "2. Dado que en muchas simulaciones de colas, el número de llegadas y el tiempo entre llegadas de clientes se modela utilizando una distribución exponencial. Esto es especialmente común en la teoría de colas de Poisson, que se usa para describir procesos de llegada de clientes en sistemas de servicio, como bancos, hospitales, y transporte público, por lo que tomaremos el comportamiento de llegadas y el tienpo entre llegadas como una distribución exponencial.\n"
      ],
      "metadata": {
        "id": "J6--M3N5i-UU"
      }
    },
    {
      "cell_type": "code",
      "source": [
        "import random\n",
        "import math\n",
        "import matplotlib.pyplot as plt\n",
        "\n",
        "# Función para generar tiempos de llegada aleatorios\n",
        "def tiempo_llegada():\n",
        "    return random.expovariate(1.0)  # Con λ=1\n",
        "\n",
        "# Función para generar tiempos de servicio aleatorios\n",
        "def tiempo_servicio():\n",
        "    return random.expovariate(1.0)  # Con λ=1\n"
      ],
      "metadata": {
        "id": "rhEwUktxqIq2"
      },
      "execution_count": 175,
      "outputs": []
    },
    {
      "cell_type": "markdown",
      "source": [
        "3. Inicializamos nuestas variables detalladas anteriormente:"
      ],
      "metadata": {
        "id": "5vABIeADqUFq"
      }
    },
    {
      "cell_type": "code",
      "source": [
        "# Parámetros iniciales\n",
        "T = 100  # Tiempo máximo de simulación\n",
        "t = 0   # Tiempo actual\n",
        "n = 0   # Número de clientes en el sistema\n",
        "NLL = 0 # Contador de llegadas\n",
        "NS = 0  # Contador de servicios completados\n",
        "Tp = 0  # Tiempo total de permanencia\n",
        "tLL = tiempo_llegada()  # Tiempo de la primera llegada\n",
        "tS = math.inf  # Tiempo de servicio (inicialmente infinito)"
      ],
      "metadata": {
        "id": "twlWPlaeh90z"
      },
      "execution_count": 176,
      "outputs": []
    },
    {
      "cell_type": "markdown",
      "source": [
        "4. Declaramos dos listas para almacenar nuestros registros sobre los tiempos de llegadas y de servicio"
      ],
      "metadata": {
        "id": "C9dM5JPMknhR"
      }
    },
    {
      "cell_type": "code",
      "source": [
        "LL = []  # Lista para tiempos de llegadas\n",
        "S = []   # Lista para tiempos de servicios"
      ],
      "metadata": {
        "id": "R9SJf3tRkPsO"
      },
      "execution_count": 177,
      "outputs": []
    },
    {
      "cell_type": "markdown",
      "source": [
        "5. Indicamos la condición\n",
        "$$ t_{LL} \\leq t_s \\text{ y } t_{LL} \\leq T$$\n",
        "\n",
        "Lo anterior determina el momento en el que llega un nuevo cliente al sistema actualizando asi mismo el estado del sistema para representar el hecho de que un cliente ha llegado."
      ],
      "metadata": {
        "id": "Aa7o_dF7k19X"
      }
    },
    {
      "cell_type": "markdown",
      "source": [
        "6. Tanto el CASO 1 y el CASO 2 es el proceso y tiempos durante el servicio, por lo que se detalla cada una de ellas, asi veremos que el\n",
        "\n",
        "* CASO 1: Llegada del cliente\n",
        "* CASO 2: Servicio complerado\n"
      ],
      "metadata": {
        "id": "fcRMWNgX8f7r"
      }
    },
    {
      "cell_type": "code",
      "source": [
        " # Simulación\n",
        "while tLL <= T or (n > 0 and tS <= T):\n",
        "\n",
        "    # Caso 1: llegada de cliente\n",
        "    if tLL <= tS and tLL <= T:\n",
        "        t = tLL     # Actualiza el tiempo a la llegada del cliente\n",
        "        NLL += 1    # Contador de llegadas\n",
        "        n += 1      # Incrementa el numero de clientes en el sistema\n",
        "        LL.append(t)  # Registrar los tiempos de llegada\n",
        "        tLL = t + tiempo_llegada()  # Generar el siguiente tiempo de llegada\n",
        "\n",
        "        # Si es el único cliente en el sistema, generar tiempo de servicio\n",
        "        if n == 1:\n",
        "            Y = tiempo_servicio() # Tiempo de atencion para este cliente\n",
        "            tS = t + Y  # Generar el tiempo en que el servicio terminará\n",
        "\n",
        "    # Caso 2: servicio completado\n",
        "    elif tLL > tS and tS <= T:\n",
        "        t = tS   # Actualizar el tiempo desúes de la ultima salida del cliente\n",
        "        NS += 1  # Contador de servicios completados\n",
        "        n -= 1   # Disminuye el numero de clientes en el sistema\n",
        "        S.append(t)  # Registrar el tiempo de servicio completado\n",
        "\n",
        "        # Si quedan clientes en el sistema, generar otro tiempo de servicio\n",
        "        if n > 0:\n",
        "            Y = tiempo_servicio()\n",
        "            tS = t + Y\n",
        "        else:\n",
        "            tS = math.inf  # No hay más clientes en el sistema\n"
      ],
      "metadata": {
        "id": "8YxvrvESyeGx"
      },
      "execution_count": 178,
      "outputs": []
    },
    {
      "cell_type": "markdown",
      "source": [
        "7. Asi el CASO 3 procesa a los clientes que estan en el sistema cuando el tiempo máximo de simulación ya ha pasado, y finalmente en el CASO 4 se calcula el tiempo total de permanencia en el sistema, por lo que:\n",
        "* CASO 3: Procesa a los clientes restantes despues de que paso el tiempo establecido para el servicio\n",
        "* CASO 4: Finalizamos la simulación\n"
      ],
      "metadata": {
        "id": "3ISQIGsTKYaW"
      }
    },
    {
      "cell_type": "code",
      "source": [
        "# Caso 3: Procesamos a los clientes después de que T haya pasado\n",
        "while n > 0:\n",
        "    t = tS\n",
        "    NS += 1 # Contador de servicios completados\n",
        "    n -= 1  # Disminuye el numero de clientes en el sistema\n",
        "    S.append(t)  # Registrar tiempo de servicio completado\n",
        "    if n > 0: # Si hay mas clientes en la cola\n",
        "        Y = tiempo_servicio() # Se vuelve a tomar el timepo de servicio para el cliente\n",
        "        tS = t + Y # Actualiza en tiempo de finalización\n",
        "    else:\n",
        "        tS = math.inf # Si no hay mas clientes, el tiempo se marca como infinito\n",
        "\n",
        "# Caso 4: Finalizamos simulación y calculamos tiempo total de permanencia\n",
        "Tp = max(0, t - T)"
      ],
      "metadata": {
        "id": "nTff9KqU_Vor"
      },
      "execution_count": 179,
      "outputs": []
    },
    {
      "cell_type": "markdown",
      "source": [
        "Finalmente podemos mostrar cual fue el timpo y el número de clientes promedio en el sistema, asi:"
      ],
      "metadata": {
        "id": "9ZhLHg_4MHm7"
      }
    },
    {
      "cell_type": "code",
      "source": [
        "# Calculamos el número promedio de clientes en el sistema\n",
        "if NLL > 0:\n",
        "  tiempo_promedio = Tp / NLL\n",
        "  print(\"Tiempo promedio del cliente en el sistema:\", round(tiempo_promedio,2))\n",
        "\n",
        "  # Calculamos el número promedio de clientes en el sistema\n",
        "  total_clientes_en_sistema = n\n",
        "  tiempo_total_de_simulacion = t\n",
        "  for i in range(len(LL)):\n",
        "    if i < len(S):\n",
        "      total_clientes_en_sistema += (S[i] - LL[i])\n",
        "    else:\n",
        "      total_clientes_en_sistema += (tiempo_total_de_simulacion - LL[i])\n",
        "\n",
        "  promedio_clientes = total_clientes_en_sistema / tiempo_total_de_simulacion\n",
        "  print(\"Número promedio de clientes en el sistema:\", round(promedio_clientes,2))\n",
        "  print(\"Número total de clientes en el sistema: \",round(total_clientes_en_sistema,2))\n"
      ],
      "metadata": {
        "colab": {
          "base_uri": "https://localhost:8080/"
        },
        "id": "wIesCt-21lOq",
        "outputId": "0f4f6861-d854-4b2b-a10c-dcd5c6ea4d62"
      },
      "execution_count": 185,
      "outputs": [
        {
          "output_type": "stream",
          "name": "stdout",
          "text": [
            "Tiempo promedio del cliente en el sistema: 0.13\n",
            "Número promedio de clientes en el sistema: 3.01\n",
            "Número total de clientes en el sistema:  337.74\n"
          ]
        }
      ]
    },
    {
      "cell_type": "markdown",
      "source": [
        "Damos a conocer el tiempo total despues del cierre del sistema"
      ],
      "metadata": {
        "id": "cq-AUqSJMYk6"
      }
    },
    {
      "cell_type": "code",
      "source": [
        "# Calcular el tiempo después del cierre del sistema\n",
        "tiempo_despues_cierre = Tp\n",
        "print(\"Tiempo después del cierre del sistema:\", round(tiempo_despues_cierre,2))"
      ],
      "metadata": {
        "colab": {
          "base_uri": "https://localhost:8080/"
        },
        "id": "n_RfvU3s28xu",
        "outputId": "00ca65d2-c577-40c4-81af-7c81f6aa153e"
      },
      "execution_count": 181,
      "outputs": [
        {
          "output_type": "stream",
          "name": "stdout",
          "text": [
            "Tiempo después del cierre del sistema: 12.2\n"
          ]
        }
      ]
    },
    {
      "cell_type": "markdown",
      "source": [
        "Veamos el comportamiento del tiempo por cada cliente durante el servicio"
      ],
      "metadata": {
        "id": "91Gf-aO6Mjzt"
      }
    },
    {
      "cell_type": "code",
      "source": [
        "# Calculamos el tiempo después del cierre del sistema\n",
        "tiempos_servicio = []\n",
        "for i in range(len(S)):\n",
        "  if i < len(LL):\n",
        "    tiempos_servicio.append(S[i] - LL[i])\n",
        "\n",
        "# Graficamos los tiempos de servicio por cliente\n",
        "plt.plot(tiempos_servicio, marker='o', linestyle='-', color='#DDA0DD')\n",
        "plt.xlabel(\"Número de cliente\")\n",
        "plt.ylabel(\"Tiempo de servicio (t)\")\n",
        "plt.title(\"Tiempos de servicio por cliente\")\n",
        "plt.grid(True)\n",
        "plt.show()"
      ],
      "metadata": {
        "colab": {
          "base_uri": "https://localhost:8080/",
          "height": 473
        },
        "id": "LVdH0FZCN7y8",
        "outputId": "9355e265-9433-4439-b206-604fee05a847"
      },
      "execution_count": 186,
      "outputs": [
        {
          "output_type": "display_data",
          "data": {
            "text/plain": [
              "<Figure size 640x480 with 1 Axes>"
            ],
            "image/png": "[encoded data removed]"
          },
          "metadata": {}
        }
      ]
    }
  ]
}