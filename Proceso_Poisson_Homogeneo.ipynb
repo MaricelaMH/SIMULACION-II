{
  "nbformat": 4,
  "nbformat_minor": 0,
  "metadata": {
    "colab": {
      "provenance": [],
      "authorship_tag": "ABX9TyPTuK+qHAxTfAIQQ4P4JlEg",
      "include_colab_link": true
    },
    "kernelspec": {
      "name": "python3",
      "display_name": "Python 3"
    },
    "language_info": {
      "name": "python"
    }
  },
  "cells": [
    {
      "cell_type": "markdown",
      "metadata": {
        "id": "view-in-github",
        "colab_type": "text"
      },
      "source": [
        "<a href=\"https://colab.research.google.com/github/MaricelaMH/SIMULACION-II/blob/main/Proceso_Poisson_Homogeneo.ipynb\" target=\"_parent\"><img src=\"https://colab.research.google.com/assets/colab-badge.svg\" alt=\"Open In Colab\"/></a>"
      ]
    },
    {
      "cell_type": "markdown",
      "source": [
        "# PROCESO DE POISSON HOMOGENEO"
      ],
      "metadata": {
        "id": "EqwGhVkePKxW"
      }
    },
    {
      "cell_type": "code",
      "source": [
        "#IMPORTAMOS LIBRERIAS\n",
        "import numpy as np\n",
        "import matplotlib.pyplot as plt\n",
        "import random as rnd"
      ],
      "metadata": {
        "id": "0jUNzaP8QBGI"
      },
      "execution_count": 9,
      "outputs": []
    },
    {
      "cell_type": "code",
      "source": [
        "# Definimos nuestra funcion\n",
        "tiempos_eventos = []  # Lista para guardar los tiempos de los eventos\n",
        "t = 0\n",
        "T = 60\n",
        "lam = 0.34\n",
        "I = 0\n",
        "L=[]\n",
        "while t < T:\n",
        "  U = np.random.uniform(0,1)\n",
        "  t = t - np.log(U) / lam\n",
        "  I+=1\n",
        "  L.append(I)\n",
        "  tiempos_eventos.append(t)\n",
        ""
      ],
      "metadata": {
        "id": "NNNUYHNaQIDx"
      },
      "execution_count": 28,
      "outputs": []
    },
    {
      "cell_type": "code",
      "source": [
        "plt.step(tiempos_eventos,L)"
      ],
      "metadata": {
        "colab": {
          "base_uri": "https://localhost:8080/",
          "height": 447
        },
        "id": "1PEQ8Yr-UUR8",
        "outputId": "b66ff328-8a7a-45f9-9b49-ca328dd334e7"
      },
      "execution_count": 29,
      "outputs": [
        {
          "output_type": "execute_result",
          "data": {
            "text/plain": [
              "[<matplotlib.lines.Line2D at 0x796249739810>]"
            ]
          },
          "metadata": {},
          "execution_count": 29
        },
        {
          "output_type": "display_data",
          "data": {
            "text/plain": [
              "<Figure size 640x480 with 1 Axes>"
            ],
            "image/png": "[encoded data removed]"
          },
          "metadata": {}
        }
      ]
    }
  ]
}