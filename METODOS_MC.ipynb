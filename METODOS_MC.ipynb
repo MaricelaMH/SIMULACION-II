{
  "nbformat": 4,
  "nbformat_minor": 0,
  "metadata": {
    "colab": {
      "provenance": [],
      "include_colab_link": true
    },
    "kernelspec": {
      "name": "python3",
      "display_name": "Python 3"
    },
    "language_info": {
      "name": "python"
    }
  },
  "cells": [
    {
      "cell_type": "markdown",
      "metadata": {
        "id": "view-in-github",
        "colab_type": "text"
      },
      "source": [
        "<a href=\"https://colab.research.google.com/github/MaricelaMH/SIMULACION-II/blob/main/METODOS_MC.ipynb\" target=\"_parent\"><img src=\"https://colab.research.google.com/assets/colab-badge.svg\" alt=\"Open In Colab\"/></a>"
      ]
    },
    {
      "cell_type": "markdown",
      "source": [
        "# M É T O D O S - D E - M O N T E C A R L O\n",
        "\n",
        "Los métodos de Monte Carlo son técnicas estadísticas que permiten aproximar el valor de una integral compleja utilizando simulaciones aleatorias. Aquí se describen tres métodos: media muestral, acierto y error, y muestreo de importancia.\n",
        "\n",
        "Aproximaremos la integral\n",
        "$$ \\int_0^1 cos( \\frac{\\pi}{2}x) dx $$"
      ],
      "metadata": {
        "id": "Ik9vlUjAW4EL"
      }
    },
    {
      "cell_type": "markdown",
      "source": [
        "# MEDIA MUESTRAL\n",
        "\n",
        "Este es el método más básico de Monte Carlo. La idea es estimar el valor de la integral utilizando el promedio de muestras aleatorias obtenidas de la función.\n",
        "\n",
        "Supongamos que queremos aproximar la integral de una función $f(x)$ en el intervalo $[a, b]$:\n",
        "\n",
        "$$ I = \\int_a^b f(x) \\, dx $$\n",
        "\n",
        "El procedimiento es el siguiente:\n",
        "  1.  Generamos $ N $ muestras aleatorias $ x_1, x_2, ..., x_N$ distribuidas uniformemente en el intervalo $[a, b] $.\n",
        "  2. Calculamos el promedio de los valores de la función en esas muestras:\n",
        "    $$ I \\approx \\frac{b-a}{N} \\sum_{i=1}^{N} f(x_i)$$\n",
        "\n",
        "Aquí, el factor $\\frac{b-a}{N}$ ajusta el valor del promedio para el intervalo de integración.\n",
        "\n",
        "A continuación realizamos el método metiante simulación, calcularemos la media, varianza y tiempo de ejecución para finalmente concluir que metodo es el mejor de los tres que trabajaremos.\n"
      ],
      "metadata": {
        "id": "xGJuG4b6WbLv"
      }
    },
    {
      "cell_type": "code",
      "execution_count": 246,
      "metadata": {
        "id": "lX6lmKWqUwpX"
      },
      "outputs": [],
      "source": [
        "# Importemos librerias necesarias\n",
        "import random as rnd\n",
        "import numpy as np\n",
        "import matplotlib.pyplot as plt\n",
        "import time"
      ]
    },
    {
      "cell_type": "code",
      "source": [
        "start_time1 = time.time() # Definimos nuestra variable que almacenara el tiempo de ejecución\n",
        "def g_met_med(x):       # Definimos nuestra función g(x)\n",
        "  g1=np.cos(np.pi*x/2)\n",
        "  return g1"
      ],
      "metadata": {
        "id": "cBnxK45rVNLQ"
      },
      "execution_count": 247,
      "outputs": []
    },
    {
      "cell_type": "code",
      "source": [
        "def exp_met_med(n,a,b):\n",
        "  u=np.random.uniform(0, 1, n)      #Generamos n variables ~ U(0,1)\n",
        "  x=a+u*(b-a)\n",
        "  g1=g_met_med(x)\n",
        "  I1=(b-a)/n*np.sum(g1)               #Calculamos la aproximación de la integral\n",
        "  return I1"
      ],
      "metadata": {
        "id": "VWbogAzqVZY0"
      },
      "execution_count": 248,
      "outputs": []
    },
    {
      "cell_type": "code",
      "source": [
        "def histograma1(aprox):                                  #Esta función imprime la estimación y el histograma\n",
        "  plt.hist(aprox, bins=25, color='lightsalmon', alpha=0.3)\n",
        "  plt.axvline(np.mean(aprox),label='Media')\n",
        "  plt.xlabel('Valor de la integral')\n",
        "  plt.ylabel('Frecuencia')\n",
        "  plt.legend()\n",
        "  print(f\"Estimación de la Media: {np.mean(aprox):.4f}\")\n",
        "  return"
      ],
      "metadata": {
        "id": "p7sn7H3gVbVw"
      },
      "execution_count": 249,
      "outputs": []
    },
    {
      "cell_type": "code",
      "source": [
        "#Parametros\n",
        "m=1000        #Número de iteraciones\n",
        "n=50           #Tamaño de la experimentos\n",
        "a=0             #Límite inferior de la integral\n",
        "b=1             #Límite superior de la integral\n",
        "aprox1=[]\n",
        "for i in range(m):\n",
        "  I1 = exp_met_med(n,a,b)\n",
        "  aprox1.append(I1)\n",
        "histograma1(aprox1)"
      ],
      "metadata": {
        "colab": {
          "base_uri": "https://localhost:8080/",
          "height": 466
        },
        "id": "BLA2_vWHVe0c",
        "outputId": "ceb0577a-5539-443a-d45c-dd31ca8c3164"
      },
      "execution_count": 250,
      "outputs": [
        {
          "output_type": "stream",
          "name": "stdout",
          "text": [
            "Estimación de la Media: 0.6361\n"
          ]
        },
        {
          "output_type": "display_data",
          "data": {
            "text/plain": [
              "<Figure size 640x480 with 1 Axes>"
            ],
            "image/png": "[encoded data removed]"
          },
          "metadata": {}
        }
      ]
    },
    {
      "cell_type": "code",
      "source": [
        "mu1 = np.mean(aprox1) # Calculamos la media\n",
        "print(f\"Valor de la media: {mu1:.4f}\")\n",
        "sigma1 = np.var(aprox1) # Calculamos la varianza\n",
        "print(f\"Valor de la varianza: {sigma1:.4f}\")"
      ],
      "metadata": {
        "colab": {
          "base_uri": "https://localhost:8080/"
        },
        "id": "uC4XddHFV2Is",
        "outputId": "bf32b3e8-4da6-44df-82ad-7eca8b9d5065"
      },
      "execution_count": 251,
      "outputs": [
        {
          "output_type": "stream",
          "name": "stdout",
          "text": [
            "Valor de la media: 0.6361\n",
            "Valor de la varianza: 0.0019\n"
          ]
        }
      ]
    },
    {
      "cell_type": "code",
      "source": [
        "end_time1 = time.time()\n",
        "tiempo1 = end_time1 - start_time1 # Calculamos el tiempo de ejecución\n",
        "print(f\"Tiempo de ejecución: {tiempo1:.4f} segundos\")"
      ],
      "metadata": {
        "colab": {
          "base_uri": "https://localhost:8080/"
        },
        "id": "MFCyCPELa9SK",
        "outputId": "817d6766-af77-43a4-8c76-172c34786903"
      },
      "execution_count": 252,
      "outputs": [
        {
          "output_type": "stream",
          "name": "stdout",
          "text": [
            "Tiempo de ejecución: 7.5508 segundos\n"
          ]
        }
      ]
    },
    {
      "cell_type": "markdown",
      "source": [
        "# ACIERTO Y ERROR\n",
        "\n",
        "Este método también conocido como rejilla de puntos o método de aceptación-rechazo se basa en estimar la proporción de puntos que caen debajo de la curva de la función.\n",
        "\n",
        "Procedimiento:\n",
        " 1. Supongamos que queremos aproximar la integral $$ \\int_a^b f(x) \\, dx $$ y que sabemos que la función $f(x)$ está acotada por un valor $M$, es decir, $ 0 \\leq f(x) \\leq M$ en el intervalo $ [a, b] $.\n",
        "\n",
        " 2. Generamos $N$ puntos aleatorios dentro de un rectángulo de base $ b - a $ y altura $ M $. Es decir, los puntos $ (x_i, y_i) $ son generados aleatoriamente con $ x_i \\in [a, b] $ y $ y_i \\in [0, M] $.\n",
        "\n",
        " 3. Contamos cuántos de esos puntos caen debajo de la curva de la función \\( f(x) \\), es decir, cuántos puntos $(x_i, y_i)$ cumplen con $ y_i \\leq f(x_i)$\n",
        "\n",
        " $$I \\approx \\frac{\\text{Número de puntos bajo la curva}}{N} \\times (b - a) \\times M$$\n",
        "\n",
        "\n",
        "Este método es más eficiente para funciones de baja dimensión y cuando el área bajo la curva es fácil de comparar con el área total del rectángulo.\n"
      ],
      "metadata": {
        "id": "-vPV5QGeWgBN"
      }
    },
    {
      "cell_type": "code",
      "source": [
        "start_time2 = time.time()\n",
        "def g_met_ar(x):       #Esta función calcula las funciones gi(x) y las guarada en una lista\n",
        "  g2=np.cos(np.pi*x/2)  # Definimos nuestra función\n",
        "  return g2"
      ],
      "metadata": {
        "id": "syY4dV2LaN58"
      },
      "execution_count": 253,
      "outputs": []
    },
    {
      "cell_type": "code",
      "source": [
        "def aceptacion_rechazo(n,u1,u2,g2,a,b,c):     #Esta función aplica la condición de Aceptación y rechazo\n",
        "  aciertos=0\n",
        "  prob = []\n",
        "  inside = []\n",
        "  outside = []\n",
        "  for i in range(n): #u0,u1\n",
        "    if c*u2[i] < g2[i-1]:                #Condición de aceptación\n",
        "      aciertos+=1\n",
        "      prob.append(aciertos/(i+1))\n",
        "\n",
        "  for i in range(n): #Calcula los puntos que caen dentro y fuera de la función\n",
        "    if u2[i] <= g(u1[i]):\n",
        "     inside.append((u1[i], u2[i]))\n",
        "    else:\n",
        "     outside.append((u1[i], u2[i]))\n",
        "\n",
        "  I2=c*(b-a)*aciertos/n                #Calcula la estimación mediante la media muestral\n",
        "  return I2,inside,outside,prob"
      ],
      "metadata": {
        "id": "hk3zI7GVWmhX"
      },
      "execution_count": 254,
      "outputs": []
    },
    {
      "cell_type": "code",
      "source": [
        "def exp_met_ar(n,a,b,c):                    #Esta función realiza los experimentos\n",
        "  u1=np.random.uniform(0, 1, n)            #Genera primer número aleatorio\n",
        "  u2=np.random.uniform(0, 1, n)            #Genera segundo número aleatorio\n",
        "  x2=a+u1*(b-a)                            #Calcula la lista Xi\n",
        "  g2=g_met_ar(x2)                          #Calcula la lista gi\n",
        "  [I2,inside,outside,prob] = aceptacion_rechazo(n,u1,u2,g2,a,b,c)\n",
        "  return I2,inside,outside,prob"
      ],
      "metadata": {
        "id": "3gighGY9cr8E"
      },
      "execution_count": 255,
      "outputs": []
    },
    {
      "cell_type": "code",
      "source": [
        "#Simulacion\n",
        "#Parametros\n",
        "m=1000                          #Número de iteraciones\n",
        "n=50                            #Tamaño de la experimentos\n",
        "a=0                             #Límite inferior de la integral\n",
        "b=1                             #Límite superior de la integral\n",
        "c=np.sqrt(np.arctan(1))         #Cota superior g(x)<c\n",
        "aprox2=[]\n",
        "x_inside=[]\n",
        "y_inside=[]\n",
        "x_outside=[]\n",
        "y_outside=[]\n",
        "for i in range(m):             #Simulación de m experimentos\n",
        "  [I2,inside,outside,prob] = exp_met_ar(n,a,b,c)\n",
        "  aprox2.append(I2)\n",
        "histograma1(aprox2)"
      ],
      "metadata": {
        "colab": {
          "base_uri": "https://localhost:8080/",
          "height": 466
        },
        "id": "AmxawM2Ecx4L",
        "outputId": "cda88aca-2359-4827-c901-8c9b4066c3a8"
      },
      "execution_count": 256,
      "outputs": [
        {
          "output_type": "stream",
          "name": "stdout",
          "text": [
            "Estimación de la Media: 0.6119\n"
          ]
        },
        {
          "output_type": "display_data",
          "data": {
            "text/plain": [
              "<Figure size 640x480 with 1 Axes>"
            ],
            "image/png": "[encoded data removed]"
          },
          "metadata": {}
        }
      ]
    },
    {
      "cell_type": "code",
      "source": [
        "mu2 = np.mean(aprox2) # Calculamos la media\n",
        "print(f\"Valor de la media: {mu2:.4f}\")\n",
        "sigma2 = np.var(aprox2) # Calculamos la varianza\n",
        "print(f\"Valor de la varianza: {sigma2:.4f}\")"
      ],
      "metadata": {
        "colab": {
          "base_uri": "https://localhost:8080/"
        },
        "id": "QrlmmGVUUy_b",
        "outputId": "806d0b93-a5d2-46c5-c83d-15a57ed28c17"
      },
      "execution_count": 257,
      "outputs": [
        {
          "output_type": "stream",
          "name": "stdout",
          "text": [
            "Valor de la media: 0.6119\n",
            "Valor de la varianza: 0.0032\n"
          ]
        }
      ]
    },
    {
      "cell_type": "code",
      "source": [
        "end_time2 = time.time()\n",
        "tiempo2 = end_time2 - start_time2 # Calculamos el tiempo de ejecución\n",
        "print(f\"Tiempo de ejecución: {tiempo2:.4f} segundos\")"
      ],
      "metadata": {
        "colab": {
          "base_uri": "https://localhost:8080/"
        },
        "id": "HB4Q8PCCquIm",
        "outputId": "68c869b1-fb3b-44c7-87fa-c16980aa5b0f"
      },
      "execution_count": 258,
      "outputs": [
        {
          "output_type": "stream",
          "name": "stdout",
          "text": [
            "Tiempo de ejecución: 8.2658 segundos\n"
          ]
        }
      ]
    },
    {
      "cell_type": "markdown",
      "source": [
        "# MUESTREO DE IMPORTANCIA\n",
        "\n",
        "Este método es una mejora del método de media muestral cuando la función que queremos integrar tiene un comportamiento irregular (es decir, tiene picos o áreas donde varía mucho), o cuando la función es difícil de muestrear directamente.\n",
        "\n",
        "El objetivo es reducir la varianza de la estimación concentrando más muestras en las áreas donde la función tiene más importancia. Para ello, se elige una función de densidad de probabilidad $g(x)$, que se asemeje a la forma de $f(x)$ y que sea más fácil de integrar o muestrear.\n",
        "\n",
        "La integral se reescribe como:\n",
        "\n",
        "$$\n",
        "I = \\int_a^b f(x) \\, dx = \\int_a^b \\frac{f(x)}{g(x)} g(x) \\, dx\n",
        "$$\n",
        "\n",
        "El procedimiento es:\n",
        "\n",
        " 1. Seleccionamos una función de densidad $g(x)$ que sea fácil de muestrear y que esté bien adaptada a la forma de $f(x)$.\n",
        "\n",
        " 2. Generamos muestras $ x_1, x_2, ... , x_N $ a partir de la distribución $ g(x) $.\n",
        "\n",
        " 3. Calculamos la media ponderada de la función evaluada en esas muestras:\n",
        "$$ I \\approx \\frac{1}{N} \\sum_{i=1}^{N} \\frac{f(x_i)}{g(x_i)}$$\n",
        "\n",
        "Este método es particularmente útil cuando $f(x)$ tiene picos o áreas de alto valor en algunas regiones específicas, ya que permite concentrar más muestras en esas zonas importantes.\n"
      ],
      "metadata": {
        "id": "9vlZzKhnWnSS"
      }
    },
    {
      "cell_type": "markdown",
      "source": [
        "Veamos que\n",
        "$$\n",
        "cos(\\frac{\\pi}{2}x) ≈ 1-x^2\n",
        "$$\n",
        "Podemos utilizar esta función para aplicar el método de muestreo de importancia. Para lo cual debemos primero definir si es una función de densidad.\n",
        "\n",
        "La posible $g(x)$ sera $g(x)=1-x^2$\n",
        "Verificarquemos que sea una funciòn de probabilidad:\n",
        "* $ g(x) \\geq 0$\n",
        "     \n",
        "     Se cumple que $1-x^2$ en el intervalo $[0,1]$.\n",
        "\n",
        "* La integral del intervalo sea igual a 1\n",
        "\n",
        "-> $$\\int_{0}^{1} (1-x^2)dx = \\frac{2}{3}$$\n",
        "\n",
        " si multiplicamos por $\\frac{3}{2} $ a $g(x)$ ya puede ser una funciòn de probabilidad.\n",
        " por lo que $$g(x) = \\frac{3}{2} (1-x^2) $$ en $[0,1]$\n",
        "\n",
        "-> Calculamos la acomulativa\n",
        "\n",
        " $$g(x) = \\int_{0}^{x} g(z) dz = \\frac{3}{2}x - \\frac{x^3}{2}$$\n",
        "\n",
        "Ahora, utilizamos el método de aceptación y rechazo inversa para generar la muestra."
      ],
      "metadata": {
        "id": "OtIksYmtdrt1"
      }
    },
    {
      "cell_type": "code",
      "source": [
        "start_time3 = time.time()# Definimos nuestra variable que almacenara el tiempo de ejecución\n",
        "def f(x):\n",
        "  return (3/2)*(1-x**2) # Definimos nuestra f(x)"
      ],
      "metadata": {
        "id": "F9TtLUUcWxAE"
      },
      "execution_count": 259,
      "outputs": []
    },
    {
      "cell_type": "code",
      "source": [
        "def g(x):   #definimos nuestra g(x)\n",
        "    return 1  # Uniforme en [0, 1]"
      ],
      "metadata": {
        "id": "uFjT_-ogd0MN"
      },
      "execution_count": 260,
      "outputs": []
    },
    {
      "cell_type": "code",
      "source": [
        "def met_aceptacion(n):\n",
        "  x = 0\n",
        "  C = (3/2)\n",
        "  Lista = []\n",
        "  for i in range(n):\n",
        "    #Generamos una uniforme\n",
        "    u = rnd.random() #Genera números aleatorios entre 0 y 1\n",
        "    y = rnd.random() #Generar la variable y con la distribución de g.\n",
        "    if (u <= f(y)/(C*g(y))):\n",
        "      x = y\n",
        "    Lista.append(x)  #Agregamos los elementos a una lista\n",
        "  return Lista"
      ],
      "metadata": {
        "id": "NY8gLwXMd0Kp"
      },
      "execution_count": 261,
      "outputs": []
    },
    {
      "cell_type": "code",
      "source": [
        "G = met_aceptacion(100000)"
      ],
      "metadata": {
        "id": "GtGyBrG1rRmb"
      },
      "execution_count": 262,
      "outputs": []
    },
    {
      "cell_type": "code",
      "source": [
        "plt.hist(G,bins = 200, color = \"violet\", alpha=0.3)"
      ],
      "metadata": {
        "colab": {
          "base_uri": "https://localhost:8080/",
          "height": 1000
        },
        "id": "gIKnFZhjd57i",
        "outputId": "2250e475-bb38-4151-f8d3-eec01fd6affd"
      },
      "execution_count": 263,
      "outputs": [
        {
          "output_type": "execute_result",
          "data": {
            "text/plain": [
              "(array([744., 775., 755., 769., 720., 711., 803., 764., 724., 767., 747.,\n",
              "        799., 777., 783., 732., 790., 714., 722., 699., 733., 723., 633.,\n",
              "        702., 680., 746., 774., 740., 749., 739., 685., 712., 706., 761.,\n",
              "        722., 746., 768., 797., 696., 727., 697., 652., 670., 690., 708.,\n",
              "        653., 734., 776., 689., 726., 720., 694., 767., 728., 717., 684.,\n",
              "        774., 690., 651., 707., 696., 665., 661., 625., 663., 638., 737.,\n",
              "        701., 656., 673., 680., 722., 688., 599., 679., 629., 622., 658.,\n",
              "        613., 647., 643., 690., 648., 639., 615., 601., 599., 660., 593.,\n",
              "        584., 539., 494., 621., 542., 629., 612., 532., 536., 553., 595.,\n",
              "        531., 510., 574., 520., 588., 538., 529., 543., 580., 489., 508.,\n",
              "        491., 488., 537., 496., 503., 512., 530., 510., 504., 500., 458.,\n",
              "        461., 495., 495., 491., 448., 466., 432., 428., 462., 445., 395.,\n",
              "        353., 402., 418., 422., 422., 379., 409., 403., 388., 369., 399.,\n",
              "        364., 386., 383., 369., 349., 284., 334., 340., 280., 355., 305.,\n",
              "        281., 304., 301., 256., 295., 284., 251., 283., 223., 257., 216.,\n",
              "        241., 220., 217., 213., 194., 261., 239., 227., 183., 206., 155.,\n",
              "        167., 164., 121., 163., 127., 121., 108., 101., 102.,  97., 106.,\n",
              "         67.,  67.,  80.,  87.,  50.,  65.,  50.,  49.,  34.,  25.,  16.,\n",
              "         11.,   7.]),\n",
              " array([0.        , 0.00498571, 0.00997142, 0.01495713, 0.01994284,\n",
              "        0.02492855, 0.02991426, 0.03489997, 0.03988568, 0.04487139,\n",
              "        0.0498571 , 0.05484281, 0.05982852, 0.06481423, 0.06979994,\n",
              "        0.07478565, 0.07977136, 0.08475708, 0.08974279, 0.0947285 ,\n",
              "        0.09971421, 0.10469992, 0.10968563, 0.11467134, 0.11965705,\n",
              "        0.12464276, 0.12962847, 0.13461418, 0.13959989, 0.1445856 ,\n",
              "        0.14957131, 0.15455702, 0.15954273, 0.16452844, 0.16951415,\n",
              "        0.17449986, 0.17948557, 0.18447128, 0.18945699, 0.1944427 ,\n",
              "        0.19942841, 0.20441412, 0.20939983, 0.21438554, 0.21937125,\n",
              "        0.22435696, 0.22934267, 0.23432838, 0.23931409, 0.24429981,\n",
              "        0.24928552, 0.25427123, 0.25925694, 0.26424265, 0.26922836,\n",
              "        0.27421407, 0.27919978, 0.28418549, 0.2891712 , 0.29415691,\n",
              "        0.29914262, 0.30412833, 0.30911404, 0.31409975, 0.31908546,\n",
              "        0.32407117, 0.32905688, 0.33404259, 0.3390283 , 0.34401401,\n",
              "        0.34899972, 0.35398543, 0.35897114, 0.36395685, 0.36894256,\n",
              "        0.37392827, 0.37891398, 0.38389969, 0.3888854 , 0.39387111,\n",
              "        0.39885682, 0.40384254, 0.40882825, 0.41381396, 0.41879967,\n",
              "        0.42378538, 0.42877109, 0.4337568 , 0.43874251, 0.44372822,\n",
              "        0.44871393, 0.45369964, 0.45868535, 0.46367106, 0.46865677,\n",
              "        0.47364248, 0.47862819, 0.4836139 , 0.48859961, 0.49358532,\n",
              "        0.49857103, 0.50355674, 0.50854245, 0.51352816, 0.51851387,\n",
              "        0.52349958, 0.52848529, 0.533471  , 0.53845671, 0.54344242,\n",
              "        0.54842813, 0.55341384, 0.55839955, 0.56338526, 0.56837098,\n",
              "        0.57335669, 0.5783424 , 0.58332811, 0.58831382, 0.59329953,\n",
              "        0.59828524, 0.60327095, 0.60825666, 0.61324237, 0.61822808,\n",
              "        0.62321379, 0.6281995 , 0.63318521, 0.63817092, 0.64315663,\n",
              "        0.64814234, 0.65312805, 0.65811376, 0.66309947, 0.66808518,\n",
              "        0.67307089, 0.6780566 , 0.68304231, 0.68802802, 0.69301373,\n",
              "        0.69799944, 0.70298515, 0.70797086, 0.71295657, 0.71794228,\n",
              "        0.72292799, 0.72791371, 0.73289942, 0.73788513, 0.74287084,\n",
              "        0.74785655, 0.75284226, 0.75782797, 0.76281368, 0.76779939,\n",
              "        0.7727851 , 0.77777081, 0.78275652, 0.78774223, 0.79272794,\n",
              "        0.79771365, 0.80269936, 0.80768507, 0.81267078, 0.81765649,\n",
              "        0.8226422 , 0.82762791, 0.83261362, 0.83759933, 0.84258504,\n",
              "        0.84757075, 0.85255646, 0.85754217, 0.86252788, 0.86751359,\n",
              "        0.8724993 , 0.87748501, 0.88247072, 0.88745644, 0.89244215,\n",
              "        0.89742786, 0.90241357, 0.90739928, 0.91238499, 0.9173707 ,\n",
              "        0.92235641, 0.92734212, 0.93232783, 0.93731354, 0.94229925,\n",
              "        0.94728496, 0.95227067, 0.95725638, 0.96224209, 0.9672278 ,\n",
              "        0.97221351, 0.97719922, 0.98218493, 0.98717064, 0.99215635,\n",
              "        0.99714206]),\n",
              " <BarContainer object of 200 artists>)"
            ]
          },
          "metadata": {},
          "execution_count": 263
        },
        {
          "output_type": "display_data",
          "data": {
            "text/plain": [
              "<Figure size 640x480 with 1 Axes>"
            ],
            "image/png": "[encoded data removed]"
          },
          "metadata": {}
        }
      ]
    },
    {
      "cell_type": "code",
      "source": [
        "def g3(x):\n",
        "  return np.cos((np.pi*x)/2)"
      ],
      "metadata": {
        "id": "IQYexSzwd77-"
      },
      "execution_count": 264,
      "outputs": []
    },
    {
      "cell_type": "code",
      "source": [
        "def expm(n,a,b):\n",
        "  I3 = 0\n",
        "  G = met_aceptacion(n)\n",
        "  for i in range(n):\n",
        "     I3 +=  (1/n) * (g3(G[i])/f(G[i]))\n",
        "  return I3"
      ],
      "metadata": {
        "id": "_RYLGe2V1wqD"
      },
      "execution_count": 265,
      "outputs": []
    },
    {
      "cell_type": "code",
      "source": [
        "#Parametros\n",
        "m=1000        #Número de iteraciones\n",
        "n=50           #Tamaño de la experimentos\n",
        "a=0             #Límite inferior de la integral\n",
        "b=1             #Límite superior de la integral\n",
        "aprox3=[]\n",
        "s = []\n",
        "for i in range(m):\n",
        "  I3 = expm(n,a,b)\n",
        "  aprox3.append(I3)\n",
        "histograma1(aprox3)"
      ],
      "metadata": {
        "colab": {
          "base_uri": "https://localhost:8080/",
          "height": 466
        },
        "id": "NzWp0-D03cmw",
        "outputId": "b8bf9ac7-8e1a-4bbf-9ae5-c429d98e8e22"
      },
      "execution_count": 266,
      "outputs": [
        {
          "output_type": "stream",
          "name": "stdout",
          "text": [
            "Estimación de la Media: 0.6369\n"
          ]
        },
        {
          "output_type": "display_data",
          "data": {
            "text/plain": [
              "<Figure size 640x480 with 1 Axes>"
            ],
            "image/png": "[encoded data removed]"
          },
          "metadata": {}
        }
      ]
    },
    {
      "cell_type": "code",
      "source": [
        "mu3 = np.mean(aprox3) # Calculamos la media\n",
        "print(f\"Valor de la media: {mu3:.4f}\")\n",
        "sigma3 = np.var(aprox3) # Calculamos la varianza\n",
        "print(f\"Valor de la varianza: {sigma3:.4f}\")"
      ],
      "metadata": {
        "colab": {
          "base_uri": "https://localhost:8080/"
        },
        "id": "j3EC2WqpU1Qs",
        "outputId": "2ee8fe2d-a94a-4281-a3b5-3938c7c46c0d"
      },
      "execution_count": 267,
      "outputs": [
        {
          "output_type": "stream",
          "name": "stdout",
          "text": [
            "Valor de la media: 0.6369\n",
            "Valor de la varianza: 0.0000\n"
          ]
        }
      ]
    },
    {
      "cell_type": "code",
      "source": [
        "end_time3 = time.time()\n",
        "tiempo3 = end_time3 - start_time3 # Calculamos el tiempo de ejecución\n",
        "print(f\"Tiempo de ejecución: {tiempo3:.4f} segundos\")"
      ],
      "metadata": {
        "colab": {
          "base_uri": "https://localhost:8080/"
        },
        "id": "e8hftSPBxHWa",
        "outputId": "bc19a8a2-6677-4891-d487-c7f918228924"
      },
      "execution_count": 268,
      "outputs": [
        {
          "output_type": "stream",
          "name": "stdout",
          "text": [
            "Tiempo de ejecución: 14.0523 segundos\n"
          ]
        }
      ]
    },
    {
      "cell_type": "markdown",
      "source": [
        "* Media Muestral: Aproxima la integral tomando el promedio de los valores de la función en muestras aleatorias distribuidas uniformemente.\n",
        "* Acierto y Error: Calcula la proporción de puntos generados aleatoriamente que caen debajo de la curva.\n",
        "* Muestreo de Importancia: Ajusta el proceso de muestreo utilizando una distribución que sea más representativa de la función para reducir la varianza.\n",
        "\n",
        "Cada método tiene sus ventajas dependiendo de la naturaleza de la función y el dominio de integración, pero acontinuación compararemos cada uno de ellos para determinar su eficiencia."
      ],
      "metadata": {
        "id": "0V3CJUZpFSQf"
      }
    },
    {
      "cell_type": "markdown",
      "source": [
        "# TABLA COMPARATIVA\n",
        "\n",
        "Suponga dos métodos de Monte Carlo para estimar\n",
        "$$ I= \\int_a^b g(x) \\, dx $$\n",
        "\n",
        "* Sean $\\theta_1$ y $\\theta_2$ las estimaciones producidas\n",
        "$$ E(\\theta_1) = E(\\theta_2) = I$$\n",
        "\n",
        "* Sean $t_1$ y $t_2$ los tiempos de computo requeridos para evaluar $\\theta_1$ y $\\theta_2$ respectivamente, diremos que el primer método es mas eficiente que el segundo si:\n",
        "$$ \\epsilon = \\frac{t_1 (var (\\theta_1))}{t_2 (var (\\theta_2))} < 1$$"
      ],
      "metadata": {
        "id": "dxKAuyaI06VV"
      }
    },
    {
      "cell_type": "code",
      "source": [
        "# Tabla de tiempos y varianzas de cada método\n",
        "\n",
        "from tabulate import tabulate # Importamos libreria para nuestra tabla\n",
        "\n",
        "resultados = [\n",
        "    [ 'Media muestral', f'{tiempo1:.4f}', f'{sigma1:.4f}'],\n",
        "    [ 'Acierto y error', f'{tiempo2:.4f}', f'{sigma2:.4f}'],\n",
        "    [ 'Muestreo de importancia', f'{tiempo3:.4f}', f'{sigma3:.4f}']\n",
        "]\n",
        "\n",
        "# Encabezados\n",
        "headers = ['Método', 'Tiempo', 'Varianza']\n",
        "\n",
        "# Crear la tabla\n",
        "tabla = tabulate(resultados, headers, tablefmt='grid')\n",
        "\n",
        "# Mostrar la tabla\n",
        "print(tabla)\n"
      ],
      "metadata": {
        "colab": {
          "base_uri": "https://localhost:8080/"
        },
        "id": "hxeTep8d3rG_",
        "outputId": "b51f74fd-ad96-462d-d594-c016672bd485"
      },
      "execution_count": 269,
      "outputs": [
        {
          "output_type": "stream",
          "name": "stdout",
          "text": [
            "+-------------------------+----------+------------+\n",
            "| Método                  |   Tiempo |   Varianza |\n",
            "+=========================+==========+============+\n",
            "| Media muestral          |   7.5508 |     0.0019 |\n",
            "+-------------------------+----------+------------+\n",
            "| Acierto y error         |   8.2658 |     0.0032 |\n",
            "+-------------------------+----------+------------+\n",
            "| Muestreo de importancia |  14.0523 |     0      |\n",
            "+-------------------------+----------+------------+\n"
          ]
        }
      ]
    },
    {
      "cell_type": "markdown",
      "source": [
        "# TABLA FINAL\n",
        "\n",
        "Compararemos el valor de epsilon para cada método, donde el tamaño de la muestra en todos los métodos es la misma (1000) y asi determinar su eficiencia."
      ],
      "metadata": {
        "id": "bn8UV6mD6cFB"
      }
    },
    {
      "cell_type": "code",
      "source": [
        "from tabulate import tabulate\n",
        "\n",
        "epsilon1= (tiempo1*sigma1)/(tiempo2*sigma2) # Media muestral vs acierto y error\n",
        "epsilon2= (tiempo1*sigma1)/(tiempo3*sigma3) # Media muestral vs muestreo de importancia\n",
        "epsilon3= (tiempo2*sigma2)/(tiempo1*sigma1) # Acierto y error vs media muestral\n",
        "epsilon4= (tiempo2*sigma2)/(tiempo3*sigma3) # Acierto y error vs muestreo de importancia\n",
        "epsilon5= (tiempo3*sigma3)/(tiempo1*sigma1) # Muestreo de importancia vs media muestral\n",
        "epsilon6= (tiempo3*sigma3)/(tiempo2*sigma2) # Muestreo de importancia vs acierto y error\n",
        "\n",
        "# Crear lista de comparaciones\n",
        "comparaciones = [\n",
        "    ['Media muestral', ' - ', f'{epsilon1:.4f}', f'{epsilon2:.4f}'],\n",
        "    ['Acierto y error', f'{epsilon3:.4f}', ' - ', f'{epsilon4:.4f}'],\n",
        "    ['Muestreo de importancia', f'{epsilon5:.4f}', f'{epsilon6:.4f}', ' - ']\n",
        "]\n",
        "\n",
        "# Encabezados\n",
        "headers = ['vs', 'Media muestral', 'Acierto y error', 'Muestreo de importancia']\n",
        "\n",
        "# Crear la tabla\n",
        "tabla1 = tabulate(comparaciones, headers, tablefmt='grid')\n",
        "\n",
        "# Mostrar la tabla\n",
        "print(tabla1)\n",
        "\n",
        "# Evaluar eficiencia bajo condiciones dadas\n",
        "eficiencia = []\n",
        "\n",
        "# Caso 1\n",
        "if epsilon1 < 1:\n",
        "    eficiencia.append(\"Caso 1: Media muestral es más eficiente que Acierto y error.\")\n",
        "else:\n",
        "    eficiencia.append(\"Caso 1: No se puede asegurar que Media muestral sea más eficiente que Acierto y error, posiblemente Acierto y error es mas eficiente.\")\n",
        "\n",
        "# Caso 2\n",
        "if epsilon2 < 1:\n",
        "    eficiencia.append(\"Caso 2: Media muestral es más eficiente que Muestreo de importancia.\")\n",
        "else:\n",
        "    eficiencia.append(\"Caso 2: No se puede asegurar que Media muestral sea más eficiente que Muestreo de importancia, posiblemente Muestreo de importancia es mas eficiente.\")\n",
        "\n",
        "# Caso 3\n",
        "if epsilon3 < 1:\n",
        "    eficiencia.append(\"Caso 3: Acierto y error es más eficiente que Media muestral.\")\n",
        "else:\n",
        "    eficiencia.append(\"Caso 3: No se puede asegurar que Acierto y error sea más eficiente que Media muestral, posiblemente Media muestral es mas eficiente.\")\n",
        "\n",
        "# Caso 4\n",
        "if epsilon4 < 1:\n",
        "    eficiencia.append(\"Caso 4: Acierto y error es más eficiente que Muestreo de importancia.\")\n",
        "else:\n",
        "    eficiencia.append(\"Caso 4: No se puede asegurar que Acierto y error sea más eficiente que Muestreo de importancia, posiblemente Muestreo de importancia es mas eficiente.\")\n",
        "\n",
        "# Caso 5\n",
        "if epsilon5 < 1:\n",
        "    eficiencia.append(\"Caso 5: Muestreo de importancia es más eficiente que Media muestral.\")\n",
        "else:\n",
        "    eficiencia.append(\"Caso 5: No se puede asegurar que Muestreo de importancia sea más eficiente que Media muestral, posiblemente Media muestral es mas eficiente.\")\n",
        "\n",
        "# Caso 6\n",
        "if epsilon6 < 1:\n",
        "    eficiencia.append(\"Caso 6: Muestreo de importancia es más eficiente que Acierto y error.\")\n",
        "else:\n",
        "    eficiencia.append(\"Caso 6: No se puede asegurar que Muestreo de importancia sea más eficiente que Acierto y error, posiblemente Media muestral es mas eficiente.\")\n",
        "\n",
        "\n",
        "# Mostrar resultados de eficiencia\n",
        "print(\"\\nResultados de eficiencia:\")\n",
        "for resultado in eficiencia:\n",
        "    print(resultado)\n"
      ],
      "metadata": {
        "colab": {
          "base_uri": "https://localhost:8080/"
        },
        "id": "819z9B7VAfKT",
        "outputId": "66ac5ea6-f39a-41c7-f62a-1aa8a6577981"
      },
      "execution_count": 272,
      "outputs": [
        {
          "output_type": "stream",
          "name": "stdout",
          "text": [
            "+-------------------------+------------------+-------------------+---------------------------+\n",
            "| vs                      | Media muestral   | Acierto y error   | Muestreo de importancia   |\n",
            "+=========================+==================+===================+===========================+\n",
            "| Media muestral          | -                | 0.5577            | 27.5303                   |\n",
            "+-------------------------+------------------+-------------------+---------------------------+\n",
            "| Acierto y error         | 1.7931           | -                 | 49.3660                   |\n",
            "+-------------------------+------------------+-------------------+---------------------------+\n",
            "| Muestreo de importancia | 0.0363           | 0.0203            | -                         |\n",
            "+-------------------------+------------------+-------------------+---------------------------+\n",
            "\n",
            "Resultados de eficiencia:\n",
            "Caso 1: Media muestral es más eficiente que Acierto y error.\n",
            "Caso 2: No se puede asegurar que Media muestral sea más eficiente que Muestreo de importancia, posiblemente Muestreo de importancia es mas eficiente.\n",
            "Caso 3: No se puede asegurar que Acierto y error sea más eficiente que Media muestral, posiblemente Media muestral es mas eficiente.\n",
            "Caso 4: No se puede asegurar que Acierto y error sea más eficiente que Muestreo de importancia, posiblemente Muestreo de importancia es mas eficiente.\n",
            "Caso 5: Muestreo de importancia es más eficiente que Media muestral.\n",
            "Caso 6: Muestreo de importancia es más eficiente que Acierto y error.\n"
          ]
        }
      ]
    },
    {
      "cell_type": "markdown",
      "source": [
        "Por lo que podemos concluir que en este el mejor método es \"Muestreo de importancia\".\n",
        "\n"
      ],
      "metadata": {
        "id": "RvSW9PTZubrb"
      }
    }
  ]
}