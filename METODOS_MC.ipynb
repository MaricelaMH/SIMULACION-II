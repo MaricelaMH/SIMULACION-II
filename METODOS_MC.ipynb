{
  "nbformat": 4,
  "nbformat_minor": 0,
  "metadata": {
    "colab": {
      "provenance": [],
      "include_colab_link": true
    },
    "kernelspec": {
      "name": "python3",
      "display_name": "Python 3"
    },
    "language_info": {
      "name": "python"
    }
  },
  "cells": [
    {
      "cell_type": "markdown",
      "metadata": {
        "id": "view-in-github",
        "colab_type": "text"
      },
      "source": [
        "<a href=\"https://colab.research.google.com/github/MaricelaMH/SIMULACION-II/blob/main/METODOS_MC.ipynb\" target=\"_parent\"><img src=\"https://colab.research.google.com/assets/colab-badge.svg\" alt=\"Open In Colab\"/></a>"
      ]
    },
    {
      "cell_type": "markdown",
      "source": [
        "# M É T O D O S - D E - M O N T E C A R L O\n",
        "\n",
        "Los métodos de Monte Carlo son técnicas estadísticas que permiten aproximar el valor de una integral compleja utilizando simulaciones aleatorias. Aquí se describen tres métodos: media muestral, acierto y error, y muestreo de importancia.\n",
        "\n",
        "Aproximaremos la integral\n",
        "$$ \\int_0^1 cos( \\frac{\\pi}{2}x) dx $$"
      ],
      "metadata": {
        "id": "Ik9vlUjAW4EL"
      }
    },
    {
      "cell_type": "markdown",
      "source": [
        "# MEDIA MUESTRAL\n",
        "\n",
        "Este es el método más básico de Monte Carlo. La idea es estimar el valor de la integral utilizando el promedio de muestras aleatorias obtenidas de la función.\n",
        "\n",
        "Supongamos que queremos aproximar la integral de una función $f(x)$ en el intervalo $[a, b]$:\n",
        "\n",
        "$$ I = \\int_a^b f(x) \\, dx $$\n",
        "\n",
        "El procedimiento es el siguiente:\n",
        "  1.  Generamos $ N $ muestras aleatorias $ x_1, x_2, ..., x_N$ distribuidas uniformemente en el intervalo $[a, b] $.\n",
        "  2. Calculamos el promedio de los valores de la función en esas muestras:\n",
        "    $$ I \\approx \\frac{b-a}{N} \\sum_{i=1}^{N} f(x_i)$$\n",
        "\n",
        "Aquí, el factor $\\frac{b-a}{N}$ ajusta el valor del promedio para el intervalo de integración.\n",
        "\n",
        "A continuación realizamos el método metiante simulación, calcularemos la media, varianza y tiempo de ejecución para finalmente concluir que metodo es el mejor de los tres que trabajaremos.\n"
      ],
      "metadata": {
        "id": "xGJuG4b6WbLv"
      }
    },
    {
      "cell_type": "code",
      "execution_count": 115,
      "metadata": {
        "id": "lX6lmKWqUwpX"
      },
      "outputs": [],
      "source": [
        "# Importemos librerias necesarias\n",
        "import random as rnd\n",
        "import numpy as np\n",
        "import matplotlib.pyplot as plt\n",
        "import time"
      ]
    },
    {
      "cell_type": "code",
      "source": [
        "start_time1 = time.time() # Definimos nuestra variable que almacenara el tiempo de ejecución\n",
        "def g_met_med(x):       # Definimos nuestra función g(x)\n",
        "  g1=np.cos(np.pi*x/2)\n",
        "  return g1"
      ],
      "metadata": {
        "id": "cBnxK45rVNLQ"
      },
      "execution_count": 116,
      "outputs": []
    },
    {
      "cell_type": "code",
      "source": [
        "def exp_met_med(n,a,b):\n",
        "  u=np.random.uniform(0, 1, n)      #Generamos n variables ~ U(0,1)\n",
        "  x=a+u*(b-a)\n",
        "  g1=g_met_med(x)\n",
        "  I1=(b-a)/n*np.sum(g1)               #Calculamos la aproximación de la integral\n",
        "  return I1"
      ],
      "metadata": {
        "id": "VWbogAzqVZY0"
      },
      "execution_count": 117,
      "outputs": []
    },
    {
      "cell_type": "code",
      "source": [
        "def histograma1(aprox):                                  #Esta función imprime la estimación y el histograma\n",
        "  plt.hist(aprox, bins=25, color='lightsalmon', alpha=0.3)\n",
        "  plt.axvline(np.mean(aprox),label='Media')\n",
        "  plt.xlabel('Valor de la integral')\n",
        "  plt.ylabel('Frecuencia')\n",
        "  plt.legend()\n",
        "  print(f\"Estimación de la Media: {np.mean(aprox):.4f}\")\n",
        "  return"
      ],
      "metadata": {
        "id": "p7sn7H3gVbVw"
      },
      "execution_count": 118,
      "outputs": []
    },
    {
      "cell_type": "code",
      "source": [
        "#Parametros\n",
        "m=1000        #Número de iteraciones\n",
        "n=50           #Tamaño de la experimentos\n",
        "a=0             #Límite inferior de la integral\n",
        "b=1             #Límite superior de la integral\n",
        "aprox1=[]\n",
        "for i in range(m):\n",
        "  I1 = exp_met_med(n,a,b)\n",
        "  aprox1.append(I1)\n",
        "histograma1(aprox1)"
      ],
      "metadata": {
        "colab": {
          "base_uri": "https://localhost:8080/",
          "height": 466
        },
        "id": "BLA2_vWHVe0c",
        "outputId": "9f560d8a-72be-4d5f-e55d-fc8d9387cec5"
      },
      "execution_count": 119,
      "outputs": [
        {
          "output_type": "stream",
          "name": "stdout",
          "text": [
            "Estimación de la Media: 0.6366\n"
          ]
        },
        {
          "output_type": "display_data",
          "data": {
            "text/plain": [
              "<Figure size 640x480 with 1 Axes>"
            ],
            "image/png": "[encoded data removed]"
          },
          "metadata": {}
        }
      ]
    },
    {
      "cell_type": "code",
      "source": [
        "mu1 = np.mean(aprox1) # Calculamos la media\n",
        "print(f\"Valor de la media: {mu1:.4f}\")\n",
        "sigma1 = np.var(aprox1) # Calculamos la varianza\n",
        "print(f\"Valor de la varianza: {sigma1:.4f}\")"
      ],
      "metadata": {
        "colab": {
          "base_uri": "https://localhost:8080/"
        },
        "id": "uC4XddHFV2Is",
        "outputId": "e70a9c56-5645-4683-dc07-692bbbaa8e0c"
      },
      "execution_count": 120,
      "outputs": [
        {
          "output_type": "stream",
          "name": "stdout",
          "text": [
            "Valor de la media: 0.6366\n",
            "Valor de la varianza: 0.0019\n"
          ]
        }
      ]
    },
    {
      "cell_type": "code",
      "source": [
        "end_time1 = time.time()\n",
        "tiempo1 = end_time1 - start_time1 # Calculamos el tiempo de ejecución\n",
        "print(f\"Tiempo de ejecución: {tiempo1:.4f} segundos\")"
      ],
      "metadata": {
        "colab": {
          "base_uri": "https://localhost:8080/"
        },
        "id": "MFCyCPELa9SK",
        "outputId": "c6f5f900-bd6b-4b69-d005-534b614983cd"
      },
      "execution_count": 121,
      "outputs": [
        {
          "output_type": "stream",
          "name": "stdout",
          "text": [
            "Tiempo de ejecución: 8.2337 segundos\n"
          ]
        }
      ]
    },
    {
      "cell_type": "markdown",
      "source": [
        "# ACIERTO Y ERROR\n",
        "\n",
        "Este método también conocido como rejilla de puntos o método de aceptación-rechazo se basa en estimar la proporción de puntos que caen debajo de la curva de la función.\n",
        "\n",
        "Procedimiento:\n",
        " 1. Supongamos que queremos aproximar la integral $$ \\int_a^b f(x) \\, dx $$ y que sabemos que la función $f(x)$ está acotada por un valor $M$, es decir, $ 0 \\leq f(x) \\leq M$ en el intervalo $ [a, b] $.\n",
        "\n",
        " 2. Generamos $N$ puntos aleatorios dentro de un rectángulo de base $ b - a $ y altura $ M $. Es decir, los puntos $ (x_i, y_i) $ son generados aleatoriamente con $ x_i \\in [a, b] $ y $ y_i \\in [0, M] $.\n",
        "\n",
        " 3. Contamos cuántos de esos puntos caen debajo de la curva de la función \\( f(x) \\), es decir, cuántos puntos $(x_i, y_i)$ cumplen con $ y_i \\leq f(x_i)$\n",
        "\n",
        " $$I \\approx \\frac{\\text{Número de puntos bajo la curva}}{N} \\times (b - a) \\times M$$\n",
        "\n",
        "\n",
        "Este método es más eficiente para funciones de baja dimensión y cuando el área bajo la curva es fácil de comparar con el área total del rectángulo.\n"
      ],
      "metadata": {
        "id": "-vPV5QGeWgBN"
      }
    },
    {
      "cell_type": "code",
      "source": [
        "start_time2 = time.time()\n",
        "def g_met_ar(x):       #Esta función calcula las funciones gi(x) y las guarada en una lista\n",
        "  g2=np.cos(np.pi*x/2)  # Definimos nuestra función\n",
        "  return g2"
      ],
      "metadata": {
        "id": "syY4dV2LaN58"
      },
      "execution_count": 122,
      "outputs": []
    },
    {
      "cell_type": "code",
      "source": [
        "def aceptacion_rechazo(n,u1,u2,g2,a,b,c):     #Esta función aplica la condición de Aceptación y rechazo\n",
        "  aciertos=0\n",
        "  prob = []\n",
        "  inside = []\n",
        "  outside = []\n",
        "  for i in range(n): #u0,u1\n",
        "    if c*u2[i] < g2[i-1]:                #Condición de aceptación\n",
        "      aciertos+=1\n",
        "      prob.append(aciertos/(i+1))\n",
        "\n",
        "  for i in range(n): #Calcula los puntos que caen dentro y fuera de la función\n",
        "    if u2[i] <= g(u1[i]):\n",
        "     inside.append((u1[i], u2[i]))\n",
        "    else:\n",
        "     outside.append((u1[i], u2[i]))\n",
        "\n",
        "  I2=c*(b-a)*aciertos/n                #Calcula la estimación mediante la media muestral\n",
        "  return I2,inside,outside,prob"
      ],
      "metadata": {
        "id": "hk3zI7GVWmhX"
      },
      "execution_count": 123,
      "outputs": []
    },
    {
      "cell_type": "code",
      "source": [
        "def exp_met_ar(n,a,b,c):                    #Esta función realiza los experimentos\n",
        "  u1=np.random.uniform(0, 1, n)            #Genera primer número aleatorio\n",
        "  u2=np.random.uniform(0, 1, n)            #Genera segundo número aleatorio\n",
        "  x2=a+u1*(b-a)                            #Calcula la lista Xi\n",
        "  g2=g_met_ar(x2)                          #Calcula la lista gi\n",
        "  [I2,inside,outside,prob] = aceptacion_rechazo(n,u1,u2,g2,a,b,c)\n",
        "  return I2,inside,outside,prob"
      ],
      "metadata": {
        "id": "3gighGY9cr8E"
      },
      "execution_count": 124,
      "outputs": []
    },
    {
      "cell_type": "code",
      "source": [
        "#Simulacion\n",
        "#Parametros\n",
        "m=1000                          #Número de iteraciones\n",
        "n=50                            #Tamaño de la experimentos\n",
        "a=0                             #Límite inferior de la integral\n",
        "b=1                             #Límite superior de la integral\n",
        "c=np.sqrt(np.arctan(1))         #Cota superior g(x)<c\n",
        "aprox2=[]\n",
        "x_inside=[]\n",
        "y_inside=[]\n",
        "x_outside=[]\n",
        "y_outside=[]\n",
        "for i in range(m):             #Simulación de m experimentos\n",
        "  [I2,inside,outside,prob] = exp_met_ar(n,a,b,c)\n",
        "  aprox2.append(I2)\n",
        "histograma1(aprox2)"
      ],
      "metadata": {
        "colab": {
          "base_uri": "https://localhost:8080/",
          "height": 466
        },
        "id": "AmxawM2Ecx4L",
        "outputId": "03789c96-9d42-448d-c3bc-92d6babb5f61"
      },
      "execution_count": 125,
      "outputs": [
        {
          "output_type": "stream",
          "name": "stdout",
          "text": [
            "Estimación de la Media: 0.6115\n"
          ]
        },
        {
          "output_type": "display_data",
          "data": {
            "text/plain": [
              "<Figure size 640x480 with 1 Axes>"
            ],
            "image/png": "[encoded data removed]"
          },
          "metadata": {}
        }
      ]
    },
    {
      "cell_type": "code",
      "source": [
        "mu2 = np.mean(aprox2) # Calculamos la media\n",
        "print(f\"Valor de la media: {mu2:.4f}\")\n",
        "sigma2 = np.var(aprox2) # Calculamos la varianza\n",
        "print(f\"Valor de la varianza: {sigma2:.4f}\")"
      ],
      "metadata": {
        "colab": {
          "base_uri": "https://localhost:8080/"
        },
        "id": "QrlmmGVUUy_b",
        "outputId": "ca4b0126-58b7-4c10-8161-66599f4aee83"
      },
      "execution_count": 126,
      "outputs": [
        {
          "output_type": "stream",
          "name": "stdout",
          "text": [
            "Valor de la media: 0.6115\n",
            "Valor de la varianza: 0.0035\n"
          ]
        }
      ]
    },
    {
      "cell_type": "code",
      "source": [
        "end_time2 = time.time()\n",
        "tiempo2 = end_time2 - start_time2 # Calculamos el tiempo de ejecución\n",
        "print(f\"Tiempo de ejecución: {tiempo2:.4f} segundos\")"
      ],
      "metadata": {
        "colab": {
          "base_uri": "https://localhost:8080/"
        },
        "id": "HB4Q8PCCquIm",
        "outputId": "920470a5-a669-4ef0-a712-de27e236a4cb"
      },
      "execution_count": 127,
      "outputs": [
        {
          "output_type": "stream",
          "name": "stdout",
          "text": [
            "Tiempo de ejecución: 9.0870 segundos\n"
          ]
        }
      ]
    },
    {
      "cell_type": "markdown",
      "source": [
        "# MUESTREO DE IMPORTANCIA\n",
        "\n",
        "Este método es una mejora del método de media muestral cuando la función que queremos integrar tiene un comportamiento irregular (es decir, tiene picos o áreas donde varía mucho), o cuando la función es difícil de muestrear directamente.\n",
        "\n",
        "El objetivo es reducir la varianza de la estimación concentrando más muestras en las áreas donde la función tiene más importancia. Para ello, se elige una función de densidad de probabilidad $g(x)$, que se asemeje a la forma de $f(x)$ y que sea más fácil de integrar o muestrear.\n",
        "\n",
        "La integral se reescribe como:\n",
        "\n",
        "$$\n",
        "I = \\int_a^b f(x) \\, dx = \\int_a^b \\frac{f(x)}{g(x)} g(x) \\, dx\n",
        "$$\n",
        "\n",
        "El procedimiento es:\n",
        "\n",
        " 1. Seleccionamos una función de densidad $g(x)$ que sea fácil de muestrear y que esté bien adaptada a la forma de $f(x)$.\n",
        "\n",
        " 2. Generamos muestras $ x_1, x_2, ... , x_N $ a partir de la distribución $ g(x) $.\n",
        "\n",
        " 3. Calculamos la media ponderada de la función evaluada en esas muestras:\n",
        "$$ I \\approx \\frac{1}{N} \\sum_{i=1}^{N} \\frac{f(x_i)}{g(x_i)}$$\n",
        "\n",
        "Este método es particularmente útil cuando $f(x)$ tiene picos o áreas de alto valor en algunas regiones específicas, ya que permite concentrar más muestras en esas zonas importantes.\n"
      ],
      "metadata": {
        "id": "9vlZzKhnWnSS"
      }
    },
    {
      "cell_type": "markdown",
      "source": [
        "Veamos que\n",
        "$$\n",
        "cos(\\frac{\\pi}{2}x) ≈ 1-x^2\n",
        "$$\n",
        "Podemos utilizar esta función para aplicar el método de muestreo de importancia. Para lo cual debemos primero definir si es una función de densidad.\n",
        "\n",
        "La posible $g(x)$ sera $g(x)=1-x^2$\n",
        "Verificarquemos que sea una funciòn de probabilidad:\n",
        "* $ g(x) \\geq 0$\n",
        "     \n",
        "     Se cumple que $1-x^2$ en el intervalo $[0,1]$.\n",
        "\n",
        "* La integral del intervalo sea igual a 1\n",
        "\n",
        "-> $$\\int_{0}^{1} (1-x^2)dx = \\frac{2}{3}$$\n",
        "\n",
        " si multiplicamos por $\\frac{3}{2} $ a $g(x)$ ya puede ser una funciòn de probabilidad.\n",
        " por lo que $$g(x) = \\frac{3}{2} (1-x^2) $$ en $[0,1]$\n",
        "\n",
        "-> Calculamos la acomulativa\n",
        "\n",
        " $$g(x) = \\int_{0}^{x} g(z) dz = \\frac{3}{2}x - \\frac{x^3}{2}$$\n",
        "\n",
        "Ahora, utilizamos el método de aceptación y rechazo inversa para generar la muestra."
      ],
      "metadata": {
        "id": "OtIksYmtdrt1"
      }
    },
    {
      "cell_type": "code",
      "source": [
        "start_time3 = time.time()# Definimos nuestra variable que almacenara el tiempo de ejecución\n",
        "def f(x):\n",
        "  return (3/2)*(1-x**2) # Definimos nuestra f(x)"
      ],
      "metadata": {
        "id": "F9TtLUUcWxAE"
      },
      "execution_count": 151,
      "outputs": []
    },
    {
      "cell_type": "code",
      "source": [
        "def g(x):   #definimos nuestra g(x)\n",
        "    return 1  # Uniforme en [0, 1]"
      ],
      "metadata": {
        "id": "uFjT_-ogd0MN"
      },
      "execution_count": 152,
      "outputs": []
    },
    {
      "cell_type": "code",
      "source": [
        "def met_aceptacion(n):\n",
        "  x = 0\n",
        "  C = (3/2)\n",
        "  Lista = []\n",
        "  for i in range(n):\n",
        "    #Generamos una uniforme\n",
        "    u = rnd.random() #Genera números aleatorios entre 0 y 1\n",
        "    y = rnd.random() #Generar la variable y con la distribución de g.\n",
        "    if (u <= f(y)/(C*g(y))):\n",
        "      x = y\n",
        "    Lista.append(x)  #Agregamos los elementos a una lista\n",
        "  return Lista"
      ],
      "metadata": {
        "id": "NY8gLwXMd0Kp"
      },
      "execution_count": 153,
      "outputs": []
    },
    {
      "cell_type": "code",
      "source": [
        "G = met_aceptacion(1000)"
      ],
      "metadata": {
        "id": "GtGyBrG1rRmb"
      },
      "execution_count": 154,
      "outputs": []
    },
    {
      "cell_type": "code",
      "source": [
        "plt.hist(G,bins = 25, color = \"violet\")"
      ],
      "metadata": {
        "colab": {
          "base_uri": "https://localhost:8080/",
          "height": 600
        },
        "id": "gIKnFZhjd57i",
        "outputId": "66f7505a-fe02-425f-fcd2-3b89267ecc4b"
      },
      "execution_count": 155,
      "outputs": [
        {
          "output_type": "execute_result",
          "data": {
            "text/plain": [
              "(array([58., 50., 50., 70., 76., 58., 51., 62., 56., 41., 70., 34., 43.,\n",
              "        46., 33., 40., 28., 23., 22., 17., 21., 19.,  9., 14.,  9.]),\n",
              " array([9.28802989e-04, 3.99475623e-02, 7.89663216e-02, 1.17985081e-01,\n",
              "        1.57003840e-01, 1.96022600e-01, 2.35041359e-01, 2.74060118e-01,\n",
              "        3.13078878e-01, 3.52097637e-01, 3.91116396e-01, 4.30135156e-01,\n",
              "        4.69153915e-01, 5.08172674e-01, 5.47191434e-01, 5.86210193e-01,\n",
              "        6.25228952e-01, 6.64247712e-01, 7.03266471e-01, 7.42285230e-01,\n",
              "        7.81303989e-01, 8.20322749e-01, 8.59341508e-01, 8.98360267e-01,\n",
              "        9.37379027e-01, 9.76397786e-01]),\n",
              " <BarContainer object of 25 artists>)"
            ]
          },
          "metadata": {},
          "execution_count": 155
        },
        {
          "output_type": "display_data",
          "data": {
            "text/plain": [
              "<Figure size 640x480 with 1 Axes>"
            ],
            "image/png": "[encoded data removed]"
          },
          "metadata": {}
        }
      ]
    },
    {
      "cell_type": "code",
      "source": [
        "def g3(x):\n",
        "  return np.cos((np.pi*x)/2)"
      ],
      "metadata": {
        "id": "IQYexSzwd77-"
      },
      "execution_count": 156,
      "outputs": []
    },
    {
      "cell_type": "code",
      "source": [
        "def expm(n,a,b):\n",
        "  I = 0\n",
        "  G3 = met_aceptacion(n)\n",
        "  for i in range(n):\n",
        "     I +=  (1/n) * (g3(G[i])/f(G[i]))\n",
        "  return I"
      ],
      "metadata": {
        "id": "_RYLGe2V1wqD"
      },
      "execution_count": 157,
      "outputs": []
    },
    {
      "cell_type": "code",
      "source": [
        "#Parametros\n",
        "m=1000        #Número de iteraciones\n",
        "n=50           #Tamaño de la experimentos\n",
        "a=0             #Límite inferior de la integral\n",
        "b=1             #Límite superior de la integral\n",
        "aprox3=[]\n",
        "s = []\n",
        "for i in range(m):\n",
        "  I = expm(n,a,b)\n",
        "  aprox3.append(I)\n",
        "histograma1(aprox3)"
      ],
      "metadata": {
        "colab": {
          "base_uri": "https://localhost:8080/",
          "height": 466
        },
        "id": "NzWp0-D03cmw",
        "outputId": "25b9b4b6-c4b1-41f0-8a0e-15a3a337cefc"
      },
      "execution_count": 158,
      "outputs": [
        {
          "output_type": "stream",
          "name": "stdout",
          "text": [
            "Estimación de la Media: 0.6424\n"
          ]
        },
        {
          "output_type": "display_data",
          "data": {
            "text/plain": [
              "<Figure size 640x480 with 1 Axes>"
            ],
            "image/png": "[encoded data removed]"
          },
          "metadata": {}
        }
      ]
    },
    {
      "cell_type": "code",
      "source": [
        "mu3 = np.mean(aprox3) # Calculamos la media\n",
        "print(f\"Valor de la media: {mu3:.4f}\")\n",
        "sigma3 = np.var(aprox3) # Calculamos la varianza\n",
        "print(f\"Valor de la varianza: {sigma3:.4f}\")"
      ],
      "metadata": {
        "colab": {
          "base_uri": "https://localhost:8080/"
        },
        "id": "j3EC2WqpU1Qs",
        "outputId": "c6688c08-5e57-4086-e685-d94896998ff5"
      },
      "execution_count": 28,
      "outputs": [
        {
          "output_type": "stream",
          "name": "stdout",
          "text": [
            "0.6370114203598035\n",
            "3.920612434865263e-05\n"
          ]
        }
      ]
    },
    {
      "cell_type": "code",
      "source": [
        "end_time3 = time.time()\n",
        "tiempo3 = end_time3 - start_time3 # Calculamos el tiempo de ejecución\n",
        "print(f\"Tiempo de ejecución: {tiempo3:.4f} segundos\")"
      ],
      "metadata": {
        "id": "e8hftSPBxHWa"
      },
      "execution_count": null,
      "outputs": []
    },
    {
      "cell_type": "markdown",
      "source": [
        "\\section{Resumen}\n",
        "\n",
        "\\begin{itemize}\n",
        "    \\item \\textbf{Media Muestral}: Aproxima la integral tomando el promedio de los valores de la función en muestras aleatorias distribuidas uniformemente.\n",
        "    \\item \\textbf{Acierto y Error}: Calcula la proporción de puntos generados aleatoriamente que caen debajo de la curva.\n",
        "    \\item \\textbf{Muestreo de Importancia}: Ajusta el proceso de muestreo utilizando una distribución que sea más representativa de la función para reducir la varianza.\n",
        "\\end{itemize}\n",
        "\n",
        "Cada método tiene sus ventajas dependiendo de la naturaleza de la función y el dominio de integración.\n",
        "\n",
        "\\end{document}"
      ],
      "metadata": {
        "id": "RvSW9PTZubrb"
      }
    }
  ]
}